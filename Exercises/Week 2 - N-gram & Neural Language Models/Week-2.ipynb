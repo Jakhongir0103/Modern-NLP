{
  "cells": [
    {
      "cell_type": "markdown",
      "id": "3275ace2",
      "metadata": {
        "id": "3275ace2"
      },
      "source": [
        "# 📚  Exercise Session - Week 2\n",
        "\n",
        "Welcome to Week 2 exercise's session of CS552-Modern NLP!\n",
        "\n",
        "\n",
        "> **What will be covered:**\n",
        "1. [**TASK A:** N-gram Language Models](#ngram_lm)\n",
        "    - [Unigram Language Model](#unigram_lm)\n",
        "    - [Bi-gram Language Model](#bigram_lm)\n",
        "    - [Tri-gram Language Model](#trigram_lm)\n",
        "     \n",
        "2. [**TASK B:** Neural Language Models](#neural_lm)\n",
        "    - [Fixed-Window Neural Language Model](#fixed_window_lm)\n",
        "    - [RNN-based Language Model](#rnn_lm)\n",
        "\n",
        "> **By the end of the session you will be able to:**\n",
        "> - ✅  Compute and interpret the perplexity of a language model\n",
        "> - ✅  Implement N-gram language models for N=1,2,3\n",
        "> - ✅  Implement, train, and evaluate a fixed window language model\n",
        "> - ✅  Evaluate an RNN language model\n",
        "> - ✅  Understand the advantages and disadvantages of each of the above models"
      ]
    },
    {
      "cell_type": "code",
      "execution_count": 1,
      "id": "98eb6b6c",
      "metadata": {
        "id": "98eb6b6c",
        "colab": {
          "base_uri": "https://localhost:8080/"
        },
        "outputId": "57da792a-3668-4137-f02c-e2e7d136761b"
      },
      "outputs": [
        {
          "output_type": "stream",
          "name": "stdout",
          "text": [
            "Collecting datasets\n",
            "  Downloading datasets-2.18.0-py3-none-any.whl (510 kB)\n",
            "\u001b[2K     \u001b[90m━━━━━━━━━━━━━━━━━━━━━━━━━━━━━━━━━━━━━━━━\u001b[0m \u001b[32m510.5/510.5 kB\u001b[0m \u001b[31m9.8 MB/s\u001b[0m eta \u001b[36m0:00:00\u001b[0m\n",
            "\u001b[?25hRequirement already satisfied: filelock in /usr/local/lib/python3.10/dist-packages (from datasets) (3.13.1)\n",
            "Requirement already satisfied: numpy>=1.17 in /usr/local/lib/python3.10/dist-packages (from datasets) (1.25.2)\n",
            "Requirement already satisfied: pyarrow>=12.0.0 in /usr/local/lib/python3.10/dist-packages (from datasets) (14.0.2)\n",
            "Requirement already satisfied: pyarrow-hotfix in /usr/local/lib/python3.10/dist-packages (from datasets) (0.6)\n",
            "Collecting dill<0.3.9,>=0.3.0 (from datasets)\n",
            "  Downloading dill-0.3.8-py3-none-any.whl (116 kB)\n",
            "\u001b[2K     \u001b[90m━━━━━━━━━━━━━━━━━━━━━━━━━━━━━━━━━━━━━━━━\u001b[0m \u001b[32m116.3/116.3 kB\u001b[0m \u001b[31m8.6 MB/s\u001b[0m eta \u001b[36m0:00:00\u001b[0m\n",
            "\u001b[?25hRequirement already satisfied: pandas in /usr/local/lib/python3.10/dist-packages (from datasets) (1.5.3)\n",
            "Requirement already satisfied: requests>=2.19.0 in /usr/local/lib/python3.10/dist-packages (from datasets) (2.31.0)\n",
            "Requirement already satisfied: tqdm>=4.62.1 in /usr/local/lib/python3.10/dist-packages (from datasets) (4.66.2)\n",
            "Requirement already satisfied: xxhash in /usr/local/lib/python3.10/dist-packages (from datasets) (3.4.1)\n",
            "Collecting multiprocess (from datasets)\n",
            "  Downloading multiprocess-0.70.16-py310-none-any.whl (134 kB)\n",
            "\u001b[2K     \u001b[90m━━━━━━━━━━━━━━━━━━━━━━━━━━━━━━━━━━━━━━━━\u001b[0m \u001b[32m134.8/134.8 kB\u001b[0m \u001b[31m14.8 MB/s\u001b[0m eta \u001b[36m0:00:00\u001b[0m\n",
            "\u001b[?25hRequirement already satisfied: fsspec[http]<=2024.2.0,>=2023.1.0 in /usr/local/lib/python3.10/dist-packages (from datasets) (2023.6.0)\n",
            "Requirement already satisfied: aiohttp in /usr/local/lib/python3.10/dist-packages (from datasets) (3.9.3)\n",
            "Requirement already satisfied: huggingface-hub>=0.19.4 in /usr/local/lib/python3.10/dist-packages (from datasets) (0.20.3)\n",
            "Requirement already satisfied: packaging in /usr/local/lib/python3.10/dist-packages (from datasets) (23.2)\n",
            "Requirement already satisfied: pyyaml>=5.1 in /usr/local/lib/python3.10/dist-packages (from datasets) (6.0.1)\n",
            "Requirement already satisfied: aiosignal>=1.1.2 in /usr/local/lib/python3.10/dist-packages (from aiohttp->datasets) (1.3.1)\n",
            "Requirement already satisfied: attrs>=17.3.0 in /usr/local/lib/python3.10/dist-packages (from aiohttp->datasets) (23.2.0)\n",
            "Requirement already satisfied: frozenlist>=1.1.1 in /usr/local/lib/python3.10/dist-packages (from aiohttp->datasets) (1.4.1)\n",
            "Requirement already satisfied: multidict<7.0,>=4.5 in /usr/local/lib/python3.10/dist-packages (from aiohttp->datasets) (6.0.5)\n",
            "Requirement already satisfied: yarl<2.0,>=1.0 in /usr/local/lib/python3.10/dist-packages (from aiohttp->datasets) (1.9.4)\n",
            "Requirement already satisfied: async-timeout<5.0,>=4.0 in /usr/local/lib/python3.10/dist-packages (from aiohttp->datasets) (4.0.3)\n",
            "Requirement already satisfied: typing-extensions>=3.7.4.3 in /usr/local/lib/python3.10/dist-packages (from huggingface-hub>=0.19.4->datasets) (4.10.0)\n",
            "Requirement already satisfied: charset-normalizer<4,>=2 in /usr/local/lib/python3.10/dist-packages (from requests>=2.19.0->datasets) (3.3.2)\n",
            "Requirement already satisfied: idna<4,>=2.5 in /usr/local/lib/python3.10/dist-packages (from requests>=2.19.0->datasets) (3.6)\n",
            "Requirement already satisfied: urllib3<3,>=1.21.1 in /usr/local/lib/python3.10/dist-packages (from requests>=2.19.0->datasets) (2.0.7)\n",
            "Requirement already satisfied: certifi>=2017.4.17 in /usr/local/lib/python3.10/dist-packages (from requests>=2.19.0->datasets) (2024.2.2)\n",
            "Requirement already satisfied: python-dateutil>=2.8.1 in /usr/local/lib/python3.10/dist-packages (from pandas->datasets) (2.8.2)\n",
            "Requirement already satisfied: pytz>=2020.1 in /usr/local/lib/python3.10/dist-packages (from pandas->datasets) (2023.4)\n",
            "Requirement already satisfied: six>=1.5 in /usr/local/lib/python3.10/dist-packages (from python-dateutil>=2.8.1->pandas->datasets) (1.16.0)\n",
            "Installing collected packages: dill, multiprocess, datasets\n",
            "Successfully installed datasets-2.18.0 dill-0.3.8 multiprocess-0.70.16\n",
            "Requirement already satisfied: numpy in /usr/local/lib/python3.10/dist-packages (1.25.2)\n"
          ]
        }
      ],
      "source": [
        "# install the libraries if needed.\n",
        "!pip install datasets\n",
        "!pip install numpy"
      ]
    },
    {
      "cell_type": "markdown",
      "id": "272c0a7c",
      "metadata": {
        "id": "272c0a7c"
      },
      "source": [
        "<a name=\"ngram_lm\"></a>\n",
        "## 1. Task A: N-gram Language Models"
      ]
    },
    {
      "cell_type": "markdown",
      "id": "85c137c6",
      "metadata": {
        "id": "85c137c6"
      },
      "source": [
        "\n",
        "In this exercise, we will better understand the functioning of different types of (non-neural) language modeling, namely,  Unigram LM, Bi-gram LM, and Tri-gram LM."
      ]
    },
    {
      "cell_type": "markdown",
      "id": "066c0427",
      "metadata": {
        "id": "066c0427"
      },
      "source": [
        "### 1.1 Unigram Language Model <a name=\"unigram_lm\"></a>\n",
        "In the simple Unigram language model, we pick/generate next token independent of the previous token. In other words, during the generation, we pick the tokens according to the token probability. Therefore, for an arbitrary sequence $x_1x_2~...x_n$, its respective probability becomes:\n",
        "$$p(x_1x_2~...x_n) = \\Pi_{i=1} ^n p(x_i)$$\n",
        "Let's use an unsupervised dataset (raw corpus) to evaluate this model's perplexity. We use Huggingface's `datasets` library to download needed datasets.\n",
        "\n",
        "\n",
        "Here we use the `Penn Treebank` dataset, featuring a million words of 1989 Wall Street Journal material. The rare words in this version are already replaced with `<unk>` token. The numbers are also replaced with a special token. This token replacement helps us to end up with a more reasonable vocabulary size to work with.\n"
      ]
    },
    {
      "cell_type": "code",
      "execution_count": 2,
      "id": "69afb9de",
      "metadata": {
        "scrolled": true,
        "id": "69afb9de",
        "colab": {
          "base_uri": "https://localhost:8080/",
          "height": 333,
          "referenced_widgets": [
            "65c327caf17f4c88bc717d22ed4e75ed",
            "58b026c9e1be45e8950162fd8c6c248c",
            "ab9eda09313d47bd86dc70cfe050a324",
            "2e389117511b4dd78e900b89cf1fe8ce",
            "401e98db93d04cba90058223ff3ae37b",
            "f08eb69d173e4d35b531829dcf2db43d",
            "009a7df08f2741ef89d7a158f6b048ab",
            "f4e089b1407f4d2d953924d3a634805a",
            "0bb025f318c5454792155b205855bc1f",
            "b8ebb19aa92d4dfa954c142a601aa83c",
            "ca03edfea32c4946bfe1af1fc67d1cbb",
            "be2e4c61b98c40a0a68d70ac6c23d303",
            "d23698faf53549e5985af0ed0dd0ba2d",
            "de5ed56a14f640b598643bc601320afb",
            "0c7305da47394d489ea677630524f2c2",
            "257ff2fa53214ac99f1dbf32530e18e5",
            "83829842ef1c4324ad1feb0a1ca0f1a6",
            "13f280e689994c9bb3d149fcd28ce2a2",
            "56f8af8fb5e74a96934c78ea91e3232b",
            "835c7e5bf3994e2084b0032c21a8f950",
            "57d3407b4d6c4a4a8cbe55c88559dce8",
            "78e9de8bd09e400c892b2cfafda25594",
            "057368fa0b3a40a5910af9adc74d05c7",
            "b32f358fd5224523bd92f1f0fe75ba27",
            "edb00a6d941f4f218e47c5be2835d28a",
            "df0dcebf0e0f4e0b8a4161b177c7b4e4",
            "a122730b505d4457a381e4fd3b7638d2",
            "3e582953732f46e59ff19c198efe3a91",
            "3f65e3c567964bc0bf5f121ea1834b80",
            "3df80cc8ac0546a0a3839f87290bd88f",
            "a30e67d6ffd3489ab91e04931d1543f2",
            "aea0d5b0fe9843339f02a60d42cf6789",
            "79f188162c7e412b8bddc68c1da3de67",
            "f8548889aa5c43d89df477a539115b8f",
            "7c695b0b166348169f6e2a07747895e5",
            "de89af332f584ebca3bebf7e0a7fe1f0",
            "6a31ec78c20c49469bae3d8d29538782",
            "db9af8662d1c463ca346d8fe8832ab77",
            "19210866a78f4fd09c8aa938976667d8",
            "c1b590809101470c837eefb9844e80c7",
            "e5a079fe81cd48deb0cf686cf61aaf54",
            "7e161f6985444ff08c38bd7645712852",
            "4dbc21fb19e24ffe8394326dc39d7865",
            "b909703706f14c5894fcdc1b28b01e93",
            "40e495a753cc4501ad17f310a01e3ddd",
            "d8ccbf63de2e4572885a3f92cbe38afc",
            "c979925d1bad4ab7bb73d735bfd77910",
            "b07744b3f92c41cc81c90af06d7831b7",
            "bf6b35585740422a8899168f0ee061dd",
            "8859aa2588ab4ac3a5a04bb318a54127",
            "238d06cf3ec74113812e9b358618cdb3",
            "f94bec4f6eb842e0a2cf686ea62bc505",
            "7ab258f80b22413dbbb0f3e2e930eff2",
            "b5dce2f4170946089961f5153e6c1472",
            "ab07dc428ae94d14a5f77a5aae047b71",
            "d528c1ebc96843a6885c8c203e2d812d",
            "029e4307a93e4b59aa8bf103c221c98a",
            "3f2aa5e5187e48d589e45db5d07a81f2",
            "88304ce3f5664fec918a07438fb3c729",
            "34c27c4c0cdd47d8aad6221a7c70d065",
            "263f94bc205544abb619f880decebd17",
            "f69462e4d6434d5daaaf6bb9f384d5db",
            "e5ecc9a1605c4115afa84ab2d79f12f6",
            "822985f4d18c45d6a8d7d2718558373f",
            "d963b2f8274e40bda2b32d5b48afb85f",
            "5798ac3d1bea45e7bb2269faba019518"
          ]
        },
        "outputId": "488f2fc2-6857-42b0-bb4b-3846a4343659"
      },
      "outputs": [
        {
          "output_type": "stream",
          "name": "stderr",
          "text": [
            "/usr/local/lib/python3.10/dist-packages/huggingface_hub/utils/_token.py:88: UserWarning: \n",
            "The secret `HF_TOKEN` does not exist in your Colab secrets.\n",
            "To authenticate with the Hugging Face Hub, create a token in your settings tab (https://huggingface.co/settings/tokens), set it as secret in your Google Colab and restart your session.\n",
            "You will be able to reuse this secret in all of your notebooks.\n",
            "Please note that authentication is recommended but still optional to access public models or datasets.\n",
            "  warnings.warn(\n"
          ]
        },
        {
          "output_type": "display_data",
          "data": {
            "text/plain": [
              "Downloading data:   0%|          | 0.00/2.96M [00:00<?, ?B/s]"
            ],
            "application/vnd.jupyter.widget-view+json": {
              "version_major": 2,
              "version_minor": 0,
              "model_id": "65c327caf17f4c88bc717d22ed4e75ed"
            }
          },
          "metadata": {}
        },
        {
          "output_type": "display_data",
          "data": {
            "text/plain": [
              "Downloading data:   0%|          | 0.00/262k [00:00<?, ?B/s]"
            ],
            "application/vnd.jupyter.widget-view+json": {
              "version_major": 2,
              "version_minor": 0,
              "model_id": "be2e4c61b98c40a0a68d70ac6c23d303"
            }
          },
          "metadata": {}
        },
        {
          "output_type": "display_data",
          "data": {
            "text/plain": [
              "Downloading data:   0%|          | 0.00/236k [00:00<?, ?B/s]"
            ],
            "application/vnd.jupyter.widget-view+json": {
              "version_major": 2,
              "version_minor": 0,
              "model_id": "057368fa0b3a40a5910af9adc74d05c7"
            }
          },
          "metadata": {}
        },
        {
          "output_type": "display_data",
          "data": {
            "text/plain": [
              "Generating train split:   0%|          | 0/42068 [00:00<?, ? examples/s]"
            ],
            "application/vnd.jupyter.widget-view+json": {
              "version_major": 2,
              "version_minor": 0,
              "model_id": "f8548889aa5c43d89df477a539115b8f"
            }
          },
          "metadata": {}
        },
        {
          "output_type": "display_data",
          "data": {
            "text/plain": [
              "Generating test split:   0%|          | 0/3761 [00:00<?, ? examples/s]"
            ],
            "application/vnd.jupyter.widget-view+json": {
              "version_major": 2,
              "version_minor": 0,
              "model_id": "40e495a753cc4501ad17f310a01e3ddd"
            }
          },
          "metadata": {}
        },
        {
          "output_type": "display_data",
          "data": {
            "text/plain": [
              "Generating validation split:   0%|          | 0/3370 [00:00<?, ? examples/s]"
            ],
            "application/vnd.jupyter.widget-view+json": {
              "version_major": 2,
              "version_minor": 0,
              "model_id": "d528c1ebc96843a6885c8c203e2d812d"
            }
          },
          "metadata": {}
        }
      ],
      "source": [
        "import torch\n",
        "import datasets\n",
        "import numpy as np\n",
        "from datasets import load_dataset\n",
        "\n",
        "ptb_dataset = load_dataset(\"ptb_text_only\", split=\"train\")\n",
        "\n",
        "# splitting dataset in train/test (to be later used for language model evaluation)\n",
        "ptb_dataset = ptb_dataset.train_test_split(test_size=0.2, seed=1)\n",
        "ptb_train, ptb_test = ptb_dataset['train'], ptb_dataset['test']"
      ]
    },
    {
      "cell_type": "markdown",
      "id": "20589cd0",
      "metadata": {
        "id": "20589cd0"
      },
      "source": [
        "#### Let's have a look at a few samples of the training dataset (and also the structure of the dataset)"
      ]
    },
    {
      "cell_type": "code",
      "execution_count": 3,
      "id": "b6ceb684",
      "metadata": {
        "colab": {
          "base_uri": "https://localhost:8080/"
        },
        "id": "b6ceb684",
        "outputId": "8021e159-8ae8-4610-a75d-e8dc76e59c9a"
      },
      "outputs": [
        {
          "output_type": "stream",
          "name": "stdout",
          "text": [
            "{'sentence': \"a former executive agreed that the departures do n't reflect major problems adding if you see any company that grows as fast as reebok did it is going to have people coming and going\"}\n",
            "\n",
            "{'sentence': 'with talk today of a second economic <unk> in west germany east germany no longer can content itself with being the economic star in a loser league'}\n",
            "\n",
            "{'sentence': 'transportation secretary sam skinner who earlier fueled the anti-takeover fires with his <unk> attacks on foreign investment in u.s. carriers now says the bill would further <unk> the jittery capital markets'}\n"
          ]
        }
      ],
      "source": [
        "print(f\"{ptb_train[0]}\\n\\n{ptb_train[1]}\\n\\n{ptb_train[2]}\")"
      ]
    },
    {
      "cell_type": "markdown",
      "id": "07207b13",
      "metadata": {
        "id": "07207b13"
      },
      "source": [
        "During generation with a given language model, we often need to have a `<stop>` token in our vocabulary to terminate the generation of a given sentence/paragraph. In this dataset, every sample is a sentence, and the `<stop>` token should be added to the end of every sample (i.e., end of sentence).\n",
        "\n",
        "#### Create a new train/test dataset starting from `ptb_train` and `ptb_test` that has a `<stop>` at the end of each sentence. (Note: do not change the structure of the datasets objects, and just change the respective sentences as discussed).\n",
        "Hint: use the `.map()` functionality of the `datasets` package (read more [here](https://huggingface.co/docs/datasets/process#map]))."
      ]
    },
    {
      "cell_type": "code",
      "execution_count": 4,
      "id": "aa1b7b70",
      "metadata": {
        "id": "aa1b7b70",
        "colab": {
          "base_uri": "https://localhost:8080/",
          "height": 81,
          "referenced_widgets": [
            "1c636352d1384cb5b29e1e30aa7912e7",
            "a648bd37d1554293b435189cb02f883d",
            "134fcacdd12e46d6924f39b7f9b09de1",
            "329cda4983e242259557320ca435ee6f",
            "eef258392a0f4dc0a45a85c8eaa56585",
            "6063a4997e5d48cba578ed93eba5034e",
            "d30a46af7a95480bbc14dec42c78bec6",
            "dc70099d43784322ac72c94594402dbf",
            "0b3e79cb2c7443a09965121012234334",
            "92fcca63e37c490ca951541bda6f0060",
            "8ffbe3db06104718a471342a28341241",
            "4eeba4130ad847ab882831fae909b0e0",
            "8ace2ba8d48f487cbc40ba0ede06b07c",
            "e8260c38d7414d45a5715ae7b2479476",
            "de108de588504320b5cae9f5b1f1bbe3",
            "f42b72093cd94c8c93c603382643eece",
            "5b4d0ca299dd4aea99d18f9d523a93dd",
            "0c2e437bab3743ad861b54566c446699",
            "ec2d272319ff40a18433925b811a81e6",
            "ef297875ee1a468db6096fc5d314ad43",
            "1f6d034cc6224a50a54b5015ce8dadfc",
            "e7a35e78f58744e791187c609e8914e8"
          ]
        },
        "outputId": "ce871bb2-7eed-4d6f-b68c-79c54fdda7bd"
      },
      "outputs": [
        {
          "output_type": "display_data",
          "data": {
            "text/plain": [
              "Map:   0%|          | 0/33654 [00:00<?, ? examples/s]"
            ],
            "application/vnd.jupyter.widget-view+json": {
              "version_major": 2,
              "version_minor": 0,
              "model_id": "1c636352d1384cb5b29e1e30aa7912e7"
            }
          },
          "metadata": {}
        },
        {
          "output_type": "display_data",
          "data": {
            "text/plain": [
              "Map:   0%|          | 0/8414 [00:00<?, ? examples/s]"
            ],
            "application/vnd.jupyter.widget-view+json": {
              "version_major": 2,
              "version_minor": 0,
              "model_id": "4eeba4130ad847ab882831fae909b0e0"
            }
          },
          "metadata": {}
        }
      ],
      "source": [
        "def add_stop_token(input_sample: dict):\n",
        "    '''\n",
        "    args:\n",
        "        input_sample: a dict representing a sample of the dataset. (look above for the dict struture)\n",
        "    output:\n",
        "        modified_sample: modified dict adding <stop> at the end of each sentence.\n",
        "    '''\n",
        "    modified_sample = input_sample.copy()\n",
        "    modified_sample['sentence'] = modified_sample['sentence'] + ' <stop>'\n",
        "\n",
        "    return modified_sample\n",
        "\n",
        "\n",
        "ptb_train = ptb_train.map(add_stop_token)\n",
        "ptb_test = ptb_test.map(add_stop_token)"
      ]
    },
    {
      "cell_type": "code",
      "source": [
        "print(ptb_train['sentence'][0],end='\\n\\n')\n",
        "print(ptb_test['sentence'][0])"
      ],
      "metadata": {
        "colab": {
          "base_uri": "https://localhost:8080/"
        },
        "id": "Dz8hZepxeYqe",
        "outputId": "80fda9a8-93a0-4b8e-9478-b474fd388b6a"
      },
      "id": "Dz8hZepxeYqe",
      "execution_count": 5,
      "outputs": [
        {
          "output_type": "stream",
          "name": "stdout",
          "text": [
            "a former executive agreed that the departures do n't reflect major problems adding if you see any company that grows as fast as reebok did it is going to have people coming and going <stop>\n",
            "\n",
            "jefferies group inc. said third-quarter net income fell N N to $ N million or N cents a share from $ N million or N cents a share on more shares a year earlier <stop>\n"
          ]
        }
      ]
    },
    {
      "cell_type": "markdown",
      "id": "2d338821",
      "metadata": {
        "id": "2d338821"
      },
      "source": [
        "For both `ptb_train` and `ptb_test` datasets, filter out every sample that has less than 3 tokens. it will help remove very short sentences that are not very helpful for training/evaluating a langugage model.\n",
        "\n",
        "Hint: use `.filter()` functionality of the `datasets` package (read more [here](https://huggingface.co/docs/datasets/process#select-and-filter))."
      ]
    },
    {
      "cell_type": "code",
      "execution_count": 6,
      "id": "9c0222f5",
      "metadata": {
        "colab": {
          "base_uri": "https://localhost:8080/",
          "height": 116,
          "referenced_widgets": [
            "abfa0fcc195c4f41a4b83d21c81c4e0e",
            "65797d9c70fd4db2ad2c3e95221fbaf5",
            "b06c6ce8f4dd4679b09b2294640eea99",
            "1b7e032430e4412daba367f574d20e93",
            "d9e75b147d2e40f697376ed386b88470",
            "ad4a0f5c07d94b23b62630d012f4ffb9",
            "d101aac94f6b49a8b0166cbf8fadcc2c",
            "445193e69af1414b804a9f214e1bef22",
            "b37fea64a4744d73847bbec3b07fa8f1",
            "edfaa37ac78f48a4bd5bcb3a087068dc",
            "13515fb075e24fc5aa5941de39e06b82",
            "24c2581f48824d9bb4d9b0996e2443de",
            "cf94bc381312495884806b5e7d33f17d",
            "0cb91e277fd145a08873fecdea891217",
            "3e2129f668064c7a8aa92ca7e4e5f9e0",
            "6a62275b74dc41ebad136d087f86ec08",
            "75c1f9dad26949949186fddb47eb96c6",
            "2a3dc9a442e740f6abc9f64406cfa60c",
            "1803e97d748e42d4be038e0a698df6cb",
            "753f5e41ba684e539294f9e10a51cdb7",
            "14c774d90fda47df86d8edccd7de06bb",
            "4f0a03bd36aa47d3b9073a95bb591620"
          ]
        },
        "id": "9c0222f5",
        "outputId": "2cb6b32f-1bee-4daf-db7d-26b3bb4d8eef"
      },
      "outputs": [
        {
          "output_type": "stream",
          "name": "stdout",
          "text": [
            "Before filtering: train has 33654 rows; test has 8414 rows\n"
          ]
        },
        {
          "output_type": "display_data",
          "data": {
            "text/plain": [
              "Filter:   0%|          | 0/33654 [00:00<?, ? examples/s]"
            ],
            "application/vnd.jupyter.widget-view+json": {
              "version_major": 2,
              "version_minor": 0,
              "model_id": "abfa0fcc195c4f41a4b83d21c81c4e0e"
            }
          },
          "metadata": {}
        },
        {
          "output_type": "display_data",
          "data": {
            "text/plain": [
              "Filter:   0%|          | 0/8414 [00:00<?, ? examples/s]"
            ],
            "application/vnd.jupyter.widget-view+json": {
              "version_major": 2,
              "version_minor": 0,
              "model_id": "24c2581f48824d9bb4d9b0996e2443de"
            }
          },
          "metadata": {}
        },
        {
          "output_type": "stream",
          "name": "stdout",
          "text": [
            "After filtering: train has 33539 rows; test has 8392 rows\n"
          ]
        }
      ],
      "source": [
        "print(f\"Before filtering: train has {len(ptb_train)} rows; test has {len(ptb_test)} rows\")\n",
        "ptb_train = ptb_train.filter(lambda data: len(data['sentence'].split(' ')) >= 3)\n",
        "ptb_test = ptb_test.filter(lambda data: len(data['sentence'].split(' ')) >= 3)\n",
        "print(f\"After filtering: train has {len(ptb_train)} rows; test has {len(ptb_test)} rows\")"
      ]
    },
    {
      "cell_type": "markdown",
      "id": "2733f77b",
      "metadata": {
        "id": "2733f77b"
      },
      "source": [
        "#### What are the 10 most frequent tokens in this dataset? Can you spot the token used to replace the numbers in this dataset? How are rare tokens replaced in this dataset?"
      ]
    },
    {
      "cell_type": "code",
      "execution_count": 7,
      "id": "28e93fb6",
      "metadata": {
        "colab": {
          "base_uri": "https://localhost:8080/"
        },
        "id": "28e93fb6",
        "outputId": "5626cafa-da9b-4276-cf55-9e5c4477a8c3"
      },
      "outputs": [
        {
          "output_type": "stream",
          "name": "stdout",
          "text": [
            "Most commont 10 tokens in train:\n"
          ]
        },
        {
          "output_type": "execute_result",
          "data": {
            "text/plain": [
              "[('the', 40616),\n",
              " ('<unk>', 35888),\n",
              " ('<stop>', 33539),\n",
              " ('N', 25966),\n",
              " ('of', 19459),\n",
              " ('to', 18896),\n",
              " ('a', 16901),\n",
              " ('in', 14473),\n",
              " ('and', 14013),\n",
              " (\"'s\", 7850)]"
            ]
          },
          "metadata": {},
          "execution_count": 7
        }
      ],
      "source": [
        "from collections import Counter\n",
        "ptb_train_str = ' '.join(ptb_train['sentence'])\n",
        "ptb_train_cnt = Counter(ptb_train_str.split(' '))\n",
        "\n",
        "print('Most commont 10 tokens in train:')\n",
        "ptb_train_cnt.most_common(10)\n",
        "# The specail token used to replace numbers is \"N\""
      ]
    },
    {
      "cell_type": "markdown",
      "id": "a6eaec09",
      "metadata": {
        "id": "a6eaec09"
      },
      "source": [
        "#### Now let's create a dictionary of the word probabilites (in the format of `{word: Prob(word)}`in the following function. We will use these probabilities to estimate sequence probabilities for a given sequence, as mentioned above."
      ]
    },
    {
      "cell_type": "code",
      "execution_count": 8,
      "id": "0e015a74",
      "metadata": {
        "id": "0e015a74"
      },
      "outputs": [],
      "source": [
        "from collections import defaultdict, Counter\n",
        "\n",
        "def get_word_probability_dict(train_dataset: datasets.arrow_dataset.Dataset):\n",
        "    '''\n",
        "    args:\n",
        "        train_dataset: a Dataset object that can be iterated to get all the sentences\n",
        "    output:\n",
        "        word_prob_dict: a dictionary containing the word probabilities (and outputing zero for non-seen tokens)\n",
        "    '''\n",
        "    # get the occurance of each token\n",
        "    train_dataset_tokens = (' '.join(train_dataset['sentence'])).split(' ')\n",
        "    train_dataset_cnt = dict(Counter(train_dataset_tokens))\n",
        "\n",
        "    # total number of tokens\n",
        "    total_tokens = sum(train_dataset_cnt.values())\n",
        "\n",
        "    # define dictionary to store probabilites\n",
        "    word_prob_dict = defaultdict(float)\n",
        "    for k,v in train_dataset_cnt.items():\n",
        "      word_prob_dict[k] = v/total_tokens\n",
        "\n",
        "    return word_prob_dict\n",
        "\n",
        "word_prob_dict = get_word_probability_dict(ptb_train)"
      ]
    },
    {
      "cell_type": "markdown",
      "id": "766d403e",
      "metadata": {
        "id": "766d403e"
      },
      "source": [
        "Let's also get a sense of how high the top-k probabilities are:"
      ]
    },
    {
      "cell_type": "code",
      "execution_count": 9,
      "id": "37d958f6",
      "metadata": {
        "scrolled": true,
        "colab": {
          "base_uri": "https://localhost:8080/"
        },
        "id": "37d958f6",
        "outputId": "c621e4c8-6a97-4a27-8d24-53174df718d0"
      },
      "outputs": [
        {
          "output_type": "execute_result",
          "data": {
            "text/plain": [
              "[('the', 0.054680915800329036),\n",
              " ('<unk>', 0.04831565654525823),\n",
              " ('<stop>', 0.045153221268151356),\n",
              " ('N', 0.03495776688180381),\n",
              " ('of', 0.026197457665910053),\n",
              " ('to', 0.025439496379826114),\n",
              " ('a', 0.022753647772832404),\n",
              " ('in', 0.019484855583468637),\n",
              " ('and', 0.01886556217032723),\n",
              " (\"'s\", 0.010568376724260954),\n",
              " ('for', 0.009569429523063295),\n",
              " ('that', 0.009558659202834748),\n",
              " ('$', 0.00801984970018121),\n",
              " ('is', 0.007975422129238458),\n",
              " ('it', 0.006556432439127497),\n",
              " ('said', 0.006516043738270448),\n",
              " ('on', 0.006050227388385825),\n",
              " ('at', 0.005312460452730411),\n",
              " ('by', 0.005303036422530433),\n",
              " ('as', 0.00519667951027354)]"
            ]
          },
          "metadata": {},
          "execution_count": 9
        }
      ],
      "source": [
        "sorted(word_prob_dict.items(), key=lambda item: item[1], reverse=True)[:20]"
      ]
    },
    {
      "cell_type": "markdown",
      "id": "e1b408c2",
      "metadata": {
        "id": "e1b408c2"
      },
      "source": [
        "#### Now let's analyze the Unigram language model for different sequences. We first create a function that can output the probability for a given string."
      ]
    },
    {
      "cell_type": "code",
      "execution_count": 10,
      "id": "fc167228",
      "metadata": {
        "id": "fc167228"
      },
      "outputs": [],
      "source": [
        "def unigram_lm_seq_probability(input_sentence: str,\n",
        "                               word_prob_dict: dict):\n",
        "    '''\n",
        "    args:\n",
        "        input_sentence: The input sequence string. Here we assume\n",
        "        word_prob_dict: A dictionary containing the probability for a given token\n",
        "    output:\n",
        "        probability: The probability of the input_sentence according to the Unigram language model\n",
        "    '''\n",
        "    probability = np.prod([word_prob_dict[token] for token in input_sentence.split(' ')])\n",
        "\n",
        "    return probability"
      ]
    },
    {
      "cell_type": "markdown",
      "id": "3427e046",
      "metadata": {
        "id": "3427e046"
      },
      "source": [
        "#### Let's investigate a major issue with Unigram language model. What are the probabilities for the two following sequences?\n",
        "- the the the the \\<stop>\n",
        "- i love computer science \\<stop>\n",
        "\n",
        "DIscussion: How can we avoid having large probability values for sequences like `the the the <stop>`"
      ]
    },
    {
      "cell_type": "code",
      "execution_count": 11,
      "id": "2c753d2d",
      "metadata": {
        "colab": {
          "base_uri": "https://localhost:8080/"
        },
        "id": "2c753d2d",
        "outputId": "7448847e-17e9-446b-a43f-859f75d9a87a"
      },
      "outputs": [
        {
          "output_type": "stream",
          "name": "stdout",
          "text": [
            "probability for seq1 is 4.0367500274713214e-07, and for seq2 is 2.3485816949091947e-17\n"
          ]
        }
      ],
      "source": [
        "seq1 = \"the the the the <stop>\"\n",
        "seq2 = \"i love computer science <stop>\"\n",
        "\n",
        "prob_seq1 = unigram_lm_seq_probability(seq1, word_prob_dict)\n",
        "prob_seq2 = unigram_lm_seq_probability(seq2, word_prob_dict)\n",
        "print(f\"probability for seq1 is {prob_seq1}, and for seq2 is {prob_seq2}\")"
      ]
    },
    {
      "cell_type": "markdown",
      "id": "06747969",
      "metadata": {
        "id": "06747969"
      },
      "source": [
        "#### Now let's formally evaluate the Unigram model in terms of perplexity. We first compute the entropy as the average negative log-likelihood:\n",
        "$$H(W_{test}∣M)= \\frac{1}{|W_{test}|} \\sum_{w\\in W_{test}} −log_2P(w∣M)$$\n",
        ", where $W_{test}$ is the input sequence and M is the Unigram language model. (note that the logarithm is in base 2).\n",
        "\n",
        "In order to get a reliable value, we will do the above calculation for all the sentences in `ptb_test` dataset and then an average is taken over all these samples."
      ]
    },
    {
      "cell_type": "code",
      "execution_count": 12,
      "id": "aa48300f",
      "metadata": {
        "id": "aa48300f"
      },
      "outputs": [],
      "source": [
        "def get_unigram_lm_entropy(input_sentence: str,\n",
        "                           word_prob_dict: dict):\n",
        "    '''\n",
        "    args:\n",
        "        input_sentence: the input string that we would like to have its respective entropy value.\n",
        "        word_prob_dict: A dictionary containing the probability for a given token\n",
        "    output:\n",
        "        entropy: entropy value as defined above\n",
        "    '''\n",
        "\n",
        "    entropy = np.mean([-np.log2(word_prob_dict[token] + 1e-10) for token in input_sentence.split(' ')])\n",
        "\n",
        "    return entropy"
      ]
    },
    {
      "cell_type": "markdown",
      "id": "b07afa63",
      "metadata": {
        "id": "b07afa63"
      },
      "source": [
        "Now compute the average entropy for all the sentences in the `ptb_test` given above function, and then compute the average entropy. Then compute the perplexity as $2^{\\bar{H}}$, where $\\bar{H}$ is the average perplexity over the test dataset."
      ]
    },
    {
      "cell_type": "code",
      "execution_count": 13,
      "id": "ac66be2c",
      "metadata": {
        "colab": {
          "base_uri": "https://localhost:8080/"
        },
        "id": "ac66be2c",
        "outputId": "c3d1e11b-e3a6-426a-967d-0c8aa04ae7b0"
      },
      "outputs": [
        {
          "output_type": "stream",
          "name": "stdout",
          "text": [
            "The perplexity for the Unigram language model is 678.4117826063504\n"
          ]
        }
      ],
      "source": [
        "def get_unigram_lm_perplexity(test_dataset: datasets.arrow_dataset.Dataset,\n",
        "                              word_prob_dict: dict):\n",
        "    '''\n",
        "    args:\n",
        "        test_dataset: the test dataset samples are used to compute the perplexity for the Unigram LM.\n",
        "        word_prob_dict: A dictionary containing the probability for a given token\n",
        "    output:\n",
        "        perplexity: entropy value as defined above\n",
        "    '''\n",
        "    entropy_mean = np.mean([get_unigram_lm_entropy(sent, word_prob_dict) for sent in test_dataset['sentence']])\n",
        "    perplexity = 2**entropy_mean\n",
        "\n",
        "    return perplexity\n",
        "\n",
        "unigram_lm_perplexity = get_unigram_lm_perplexity(ptb_test, word_prob_dict)\n",
        "print(f\"The perplexity for the Unigram language model is {unigram_lm_perplexity}\")"
      ]
    },
    {
      "cell_type": "markdown",
      "id": "4a3cec0a",
      "metadata": {
        "id": "4a3cec0a"
      },
      "source": [
        "As discussed in the lectures, the models with lower perplexities are desired; however, we should be careful when comparing language models with different vocabualry sizes.\n",
        "#### In the `ptb_train` dataset, replace every token that is appearing less than 10 times with the `<unk>` token. (Note: the same token replacement should be done for the test dataset). What is the Unigram language model perplexity for the new dataset?\n",
        "Discussion: What would happen to the vocabulary size and perplexity as we increase the rare token threshold to higher values? (instead of 10 here)"
      ]
    },
    {
      "cell_type": "code",
      "execution_count": 14,
      "id": "3a14c853",
      "metadata": {
        "id": "3a14c853",
        "colab": {
          "base_uri": "https://localhost:8080/",
          "height": 81,
          "referenced_widgets": [
            "e287b677d4b146c092f32c2ebcc527d6",
            "4affa169d59446acb29497ca4db4348e",
            "afcaa09b6ba14dc19061989a27d7e8c0",
            "06776105ca19406db894a83780a8b3d8",
            "75f86cd1a6184ff78219faa68abd2763",
            "b099f12ba6734f3aa2839a8741148122",
            "79a53cd458a9482b85288ff89ef5046d",
            "b9ef899be960449c9557404d76a5196d",
            "76554168a92640e3a2bce4db2497ec68",
            "f5854e12a95440d2bbeeb9e1cfc8f4eb",
            "0b92b1d7b5a9487598a4d2bf40a7eb28",
            "7c06714fa9bb4de1af5ae291e9dd151b",
            "5c7a4e5d15514fbdb3588f83fa7dd485",
            "cdb18d38db0f4a9f9bfa9566aa78d1e0",
            "82c3a1ecdf6b45aa8b582a4c587b469f",
            "755d29a4ac4f48f583b564e20b1a70bb",
            "71f9aee57e1a485f8f348d310a134aa9",
            "3f87496ed67744a7bbaa27aa53bcfc09",
            "3df9ff0681d14164921cff30f297025a",
            "efc8730092a64f8aa8424406e150bdc0",
            "7d1fc8398b374006a9b81fa7a4685ab5",
            "e08e2bde97cb4fec8b588c2a53acc94a"
          ]
        },
        "outputId": "de3f1148-1847-449b-a191-af01b8462304"
      },
      "outputs": [
        {
          "output_type": "display_data",
          "data": {
            "text/plain": [
              "Map:   0%|          | 0/33539 [00:00<?, ? examples/s]"
            ],
            "application/vnd.jupyter.widget-view+json": {
              "version_major": 2,
              "version_minor": 0,
              "model_id": "e287b677d4b146c092f32c2ebcc527d6"
            }
          },
          "metadata": {}
        },
        {
          "output_type": "display_data",
          "data": {
            "text/plain": [
              "Map:   0%|          | 0/8392 [00:00<?, ? examples/s]"
            ],
            "application/vnd.jupyter.widget-view+json": {
              "version_major": 2,
              "version_minor": 0,
              "model_id": "7c06714fa9bb4de1af5ae291e9dd151b"
            }
          },
          "metadata": {}
        }
      ],
      "source": [
        "def remove_rare_token(train_dataset: datasets.arrow_dataset.Dataset,\n",
        "                      test_dataset: datasets.arrow_dataset.Dataset,\n",
        "                      rare_token_threshold: int):\n",
        "    '''\n",
        "    Note that the tokens that are considered rare here, are identified based on the train_dataset, so that\n",
        "    we have the same token mapping (to <unk>) for both the train and test datasets.\n",
        "    args:\n",
        "        train_dataset: the input dataset where its rare tokens has to be replaced with <unk> token.\n",
        "        rare_token_threshold: every word that is appearing less than this threshold in the train dataset will\n",
        "                              be replace with the <unk> token\n",
        "    output:\n",
        "        cleaned_train_dataset: the cleaned train dataset where rare tokens are replace with <unk> token.\n",
        "        cleaned_test_dataset: the cleaned test dataset where rare tokens are replace with <unk> token.\n",
        "    '''\n",
        "    # get tokens frequency\n",
        "    train_dataset_str = ' '.join(train_dataset['sentence'])\n",
        "    train_dataset_cnt = dict(Counter(train_dataset_str.split(' ')))\n",
        "\n",
        "    # train dataset modification\n",
        "    cleaned_train_dataset = train_dataset.map(lambda sent:\n",
        "      {\n",
        "         'sentence':' '.join([token if train_dataset_cnt[token] > rare_token_threshold else '<unk>' for token in sent['sentence'].split(' ')])\n",
        "      })\n",
        "\n",
        "    # test dataset modification - skip if token does not exit in train dataset\n",
        "    cleaned_test_dataset = test_dataset.map(lambda sent:\n",
        "      {\n",
        "          'sentence':' '.join([token if train_dataset_cnt.get(token, rare_token_threshold) >= rare_token_threshold else '<unk>' for token in sent['sentence'].split(' ')])\n",
        "      })\n",
        "\n",
        "    return cleaned_train_dataset, cleaned_test_dataset\n",
        "\n",
        "cleaned_train_dataset, cleaned_test_dataset = remove_rare_token(train_dataset=ptb_train,\n",
        "                                                                test_dataset=ptb_test,\n",
        "                                                                rare_token_threshold=10)\n"
      ]
    },
    {
      "cell_type": "markdown",
      "id": "6f09a7d3",
      "metadata": {
        "id": "6f09a7d3"
      },
      "source": [
        "##### Now, follow similar steps to compute the perplexity given the two new datasets (`cleaned_train_dataset` and `cleaned_test_dataset`)"
      ]
    },
    {
      "cell_type": "code",
      "execution_count": 15,
      "id": "d2083f50",
      "metadata": {
        "id": "d2083f50",
        "colab": {
          "base_uri": "https://localhost:8080/"
        },
        "outputId": "9fbaf88e-7b3e-49e6-dcdd-57a9b221ea6d"
      },
      "outputs": [
        {
          "output_type": "stream",
          "name": "stdout",
          "text": [
            "The perplexity for the Unigram language model after replacing rare tokens is  485.19615976153983\n"
          ]
        }
      ],
      "source": [
        "word_prob_dict = get_word_probability_dict(cleaned_train_dataset)\n",
        "cleaned_unigram_lm_perplexity = get_unigram_lm_perplexity(cleaned_test_dataset, word_prob_dict)\n",
        "\n",
        "print(\"The perplexity for the Unigram language model after replacing rare tokens is \",\n",
        "      cleaned_unigram_lm_perplexity)"
      ]
    },
    {
      "cell_type": "markdown",
      "id": "4abe9eac",
      "metadata": {
        "id": "4abe9eac"
      },
      "source": [
        "## 1.2 Bi-gram Language Model <a name='bigram_lm'></a>\n",
        "In the Bi-gram language model, we pick/generate next token conditioned only on the previous token. Therefore, for an arbitrary sequence $x_1x_2~...x_n$, its respective probability becomes:\n",
        "$$p(x_1x_2~...x_n) = p(x_1) ~\\Pi_{i=2} ^n p(x_i|x_{i-1})$$\n",
        "Let's use the same dataset (`Penn Treebank`) to evaluate this model's perplexity. (We use the dataset that already has the `<stop>` token at the end).\n",
        "\n",
        "We estimate $p(x_i|x_{i-1})$ as the $\\frac{count(x_{i-1},~x_i)}{count(x_{i-1})}$ according to the training dataset frequencies."
      ]
    },
    {
      "cell_type": "code",
      "execution_count": 16,
      "id": "f96966fc",
      "metadata": {
        "id": "f96966fc"
      },
      "outputs": [],
      "source": [
        "def get_first_order_conditional_probabilities(train_dataset: datasets.arrow_dataset.Dataset):\n",
        "    '''\n",
        "    In this function the conditional probabilities have to be computed based train_dataset. The output of the\n",
        "    function is a dictionary having keys like (x_{i-1}, x_i) as a tuple and the value being p(x_i|x_{i-1}).\n",
        "    args:\n",
        "        train_dataset: a Dataset object that can be iterated to get all the sentences\n",
        "    output:\n",
        "        word_prob_dict:\n",
        "        first_order_condition_prob: a dictionary having containing the first order conditional probabilities\n",
        "                                    as discussed above.\n",
        "        word_prob_dict: a dictionary containing the word probabilities\n",
        "    '''\n",
        "    # get tokens\n",
        "    train_dataset_tokens = ' '.join(train_dataset['sentence']).split(' ')\n",
        "\n",
        "    # get the unigram counts\n",
        "    unigram_counts = Counter(train_dataset_tokens)\n",
        "\n",
        "    # get the bigram counts\n",
        "    all_bigrams = []\n",
        "    for sample in train_dataset['sentence']:\n",
        "      sample_token = sample.split(' ')\n",
        "      bigrams = list(zip(sample_token, sample_token[1:]))\n",
        "      all_bigrams += bigrams\n",
        "    bigrams_counts = Counter(all_bigrams)\n",
        "\n",
        "    # get the unigram probas\n",
        "    word_prob_dict = get_word_probability_dict(train_dataset)\n",
        "\n",
        "    # create dictionary\n",
        "    first_order_condition_prob = defaultdict(float)\n",
        "    for k, v in bigrams_counts.items():\n",
        "      first_order_condition_prob[k] = v / unigram_counts[k[0]]\n",
        "\n",
        "    return word_prob_dict, first_order_condition_prob\n",
        "\n",
        "word_prob_dict, first_order_condition_prob = get_first_order_conditional_probabilities(ptb_train)"
      ]
    },
    {
      "cell_type": "markdown",
      "id": "c89cb406",
      "metadata": {
        "id": "c89cb406"
      },
      "source": [
        "#### Now let's analyze the Bi-gram language model for different sequences. We first create a function that can output the probability for a given string."
      ]
    },
    {
      "cell_type": "markdown",
      "source": [
        "<font color='red'> Why in the solutions it is </font>\n",
        "\n",
        "np.prod([word_prob_dict[token_list[0]]] + [first_order_condition_prob[bigram] for bigram in bigram_list])"
      ],
      "metadata": {
        "id": "UPHqGEO9P9P4"
      },
      "id": "UPHqGEO9P9P4"
    },
    {
      "cell_type": "code",
      "execution_count": null,
      "id": "e459cdc4",
      "metadata": {
        "id": "e459cdc4"
      },
      "outputs": [],
      "source": [
        "def bigram_lm_seq_probability(input_sentence: str,\n",
        "                              word_prob_dict: dict,\n",
        "                              first_order_condition_prob: dict):\n",
        "    '''\n",
        "    args:\n",
        "        input_sentence: The input sequence string. Here we assume\n",
        "        word_prob_dict: a dictionary containing the word probabilities\n",
        "        first_order_condition_prob: a dictionary containing the first order conditional probabilities\n",
        "                                    as discussed in the previous function.\n",
        "    output:\n",
        "        probability: The probability of the input_sentence according to the Bi-gram language model\n",
        "    '''\n",
        "    sentence_list = input_sentence.split(' ')\n",
        "    bigrams = list(zip(sentence_list, sentence_list[1:]))\n",
        "\n",
        "    probability = word_prob_dict[sentence_list[0]] * np.prod([first_order_condition_prob[bigram] for bigram in bigrams])\n",
        "\n",
        "    return probability"
      ]
    },
    {
      "cell_type": "markdown",
      "id": "a87509ef",
      "metadata": {
        "id": "a87509ef"
      },
      "source": [
        "Let's investigate a major issue with higher order language models.\n",
        "#### Compute the probabilities for all the sequences in `ptb_test` dataset, and compute the minimum value among these probablities. What would be the perplexity for the dataset given these values?\n",
        "Discussion: How can we avoid this **overfitting** to train dataset?"
      ]
    },
    {
      "cell_type": "code",
      "execution_count": null,
      "id": "3d9a0460",
      "metadata": {
        "id": "3d9a0460",
        "colab": {
          "base_uri": "https://localhost:8080/"
        },
        "outputId": "f6edd2aa-04bf-4c9c-b6e7-77f8dbb33634"
      },
      "outputs": [
        {
          "output_type": "stream",
          "name": "stdout",
          "text": [
            "Minimum probability: 0.0\n",
            "90.85% of samples in the test set have zero probability!\n"
          ]
        }
      ],
      "source": [
        "bigram_test_probabilities = [bigram_lm_seq_probability(sent, word_prob_dict, first_order_condition_prob) for sent in ptb_test['sentence']]\n",
        "\n",
        "print(f'Minimum probability: {np.min(bigram_test_probabilities)}')\n",
        "print(f\"{bigram_test_probabilities.count(0)/len(ptb_test)*100:.4}% of samples in the test set have zero probability!\")"
      ]
    },
    {
      "cell_type": "markdown",
      "source": [
        "**Answer**\n",
        "\n",
        "The perplexity would have been an infinity, as log(0) -> inf"
      ],
      "metadata": {
        "id": "TLwXEHfCpBy8"
      },
      "id": "TLwXEHfCpBy8"
    },
    {
      "cell_type": "markdown",
      "id": "9ced914f",
      "metadata": {
        "id": "9ced914f"
      },
      "source": [
        "### Smoothing\n",
        "As we saw above, due to having new pair of consecutive words in the test dataset, we might have zero probabilities for some sequences. Therefore, as discussed in the lectures, in order to have a meaningful perplexity for N-gram language models, we need to smooth the probabilities to have non-zero values for non-seen sequences. In this exercise, we use Laplace smoothing as defined below:\n",
        "$$P(x_i|x_{i-1}) = \\frac{count(x_{i-1},~x_i) + \\alpha}{count(x_{i-1}) + \\alpha ~|V|}$$\n",
        ", where $\\alpha$ is the smoothing parameter, and $|V|$ is the (train dataset) vocabulary size.\n",
        "\n",
        "#### Let's recompute the conditional probabilities using Laplace smoothing."
      ]
    },
    {
      "cell_type": "code",
      "execution_count": null,
      "id": "5d808944",
      "metadata": {
        "id": "5d808944"
      },
      "outputs": [],
      "source": [
        "def get_smoothed_first_order_conditional_probabilities(train_dataset: datasets.arrow_dataset.Dataset,\n",
        "                                                       smoothing_alpha: float):\n",
        "    '''\n",
        "    In this function the conditional probabilities have to be computed based on train_dataset. The output\n",
        "    of the function is a dictionary having keys like (x_{i-1}, x_i) as a tuple and the\n",
        "    value being p(x_i|x_{i-1}).\n",
        "    args:\n",
        "        train_dataset: a Dataset object that can be iterated to get all the sentences\n",
        "        smoothing_alpha: The alpha parameter used in the Laplace smoothing.\n",
        "    output:\n",
        "        word_prob_dict: a dictionary containing the word probabilities\n",
        "        first_order_condition_prob: a dictionary containing the smoothed first order\n",
        "                                    conditional probabilities as discussed above.\n",
        "    '''\n",
        "    # get tokens\n",
        "    train_dataset_tokens = ' '.join(train_dataset['sentence']).split(' ')\n",
        "\n",
        "    # get the unigram counts\n",
        "    unigram_counts = Counter(train_dataset_tokens)\n",
        "\n",
        "    # get the bigram counts\n",
        "    all_bigrams = []\n",
        "    for sample in train_dataset['sentence']:\n",
        "      sample_token = sample.split(' ')\n",
        "      bigrams = list(zip(sample_token, sample_token[1:]))\n",
        "      all_bigrams += bigrams\n",
        "    bigrams_counts = Counter(all_bigrams)\n",
        "\n",
        "    # get the unigram probas\n",
        "    word_prob_dict = get_word_probability_dict(train_dataset)\n",
        "\n",
        "    # create dictionary\n",
        "    vocab_len = sum(dict(unigram_counts).values())\n",
        "    first_order_condition_prob = {}\n",
        "    for k, v in bigrams_counts.items():\n",
        "      first_order_condition_prob[k] = (v + smoothing_alpha) / (unigram_counts[k[0]] + smoothing_alpha * vocab_len)\n",
        "\n",
        "    return word_prob_dict, first_order_condition_prob"
      ]
    },
    {
      "cell_type": "code",
      "execution_count": null,
      "id": "3008240c",
      "metadata": {
        "id": "3008240c"
      },
      "outputs": [],
      "source": [
        "def smoothed_bigram_lm_seq_probability(input_sentence: str,\n",
        "                                       word_prob_dict: dict,\n",
        "                                       word_frequency_dict: dict,\n",
        "                                       smoothed_first_order_condition_prob: dict,\n",
        "                                       smoothing_alpha: float\n",
        "                                       ):\n",
        "    '''\n",
        "    args:\n",
        "        input_sentence: The input sequence string. Here we assume\n",
        "        word_prob_dict: a dictionary containing the word probabilities\n",
        "        word_frequency_dict: a dictionary containing the frequency for every word in vocabulary\n",
        "        smoothed_first_order_condition_prob: a dictionary containing the first order conditional probabilities\n",
        "                                    as discussed in the previous function.\n",
        "        smoothing_alpha: The alpha parameter used in the Laplace smoothing.\n",
        "    output:\n",
        "        probability: The probability of the input_sentence according to the Bi-gram language model\n",
        "    '''\n",
        "    sentence_list = input_sentence.split(' ')\n",
        "    bigrams = list(zip(sentence_list, sentence_list[1:]))\n",
        "\n",
        "    vocab_len = sum(word_frequency_dict.values())\n",
        "    prd_1 = word_prob_dict[sentence_list[0]]\n",
        "    prd_2 = []\n",
        "    for bigram in bigrams:\n",
        "      prd_2.append(smoothed_first_order_condition_prob.get(bigram, smoothing_alpha / (smoothing_alpha * vocab_len + word_frequency_dict.get(bigram[0], 0))))\n",
        "    probability = prd_1 * np.prod(prd_2)\n",
        "\n",
        "    return probability"
      ]
    },
    {
      "cell_type": "markdown",
      "id": "4cd77e6c",
      "metadata": {
        "id": "4cd77e6c"
      },
      "source": [
        "#### Assuming $\\alpha=0.01$ for the smoothing, use the previous function and `bigram_lm_seq_probability` to compute the sequence probabilities for all the sentences in the `ptb_test` dataset."
      ]
    },
    {
      "cell_type": "code",
      "execution_count": null,
      "id": "e2c76c94",
      "metadata": {
        "id": "e2c76c94",
        "colab": {
          "base_uri": "https://localhost:8080/"
        },
        "outputId": "ac66715b-61b0-4256-f6a9-f2881a6be028"
      },
      "outputs": [
        {
          "output_type": "stream",
          "name": "stdout",
          "text": [
            "Minimum probability: 2.99843249984e-312\n",
            "0.0% of samples in the test set have zero probability!\n"
          ]
        }
      ],
      "source": [
        "word_frequency_dict = dict(Counter(' '.join(ptb_test['sentence']).split(' ')))\n",
        "word_prob_dict, smoothed_first_order_condition_prob = get_smoothed_first_order_conditional_probabilities(ptb_train, 0.01)\n",
        "smoothed_bigram_test_probabilities = [\n",
        "    smoothed_bigram_lm_seq_probability(\n",
        "      input_sentence=sent,\n",
        "      word_prob_dict=word_prob_dict,\n",
        "      word_frequency_dict=dict(ptb_train_cnt),\n",
        "      smoothed_first_order_condition_prob=smoothed_first_order_condition_prob,\n",
        "      smoothing_alpha=0.01) for sent in ptb_test['sentence']]\n",
        "\n",
        "print(f'Minimum probability: {np.min(smoothed_bigram_test_probabilities)}')\n",
        "print(f\"{smoothed_bigram_test_probabilities.count(0)/len(ptb_test)*100}% of samples in the test set have zero probability!\")"
      ]
    },
    {
      "cell_type": "markdown",
      "id": "8f8b38b8",
      "metadata": {
        "id": "8f8b38b8"
      },
      "source": [
        "If the perplexity for a given sequence is computed as below, compute the Bigram language model perplexity over `ptb_test` dataset over all the sentences ($\\alpha=0.01)$:\n",
        "$$Perplexity(x_1x_2...x_n) = p(x_1x_2...x_n)^{-1/n}$$\n",
        ", where $p(x_1x_2...x_n)$ is the probability assigned to $x_1x_2...x_n$ sequence by the language model."
      ]
    },
    {
      "cell_type": "code",
      "execution_count": null,
      "id": "7e3665f1",
      "metadata": {
        "id": "7e3665f1",
        "colab": {
          "base_uri": "https://localhost:8080/"
        },
        "outputId": "7e2cd3dd-37c8-4eaf-ce2a-efbf43dd5491"
      },
      "outputs": [
        {
          "output_type": "stream",
          "name": "stdout",
          "text": [
            "Bigram language model perplexity is 2238.2591546126173\n"
          ]
        }
      ],
      "source": [
        "bigram_lm_perplexity = 2**np.mean([-np.log2(smoothed_bigram_test_probabilities[idx]) / len(sent.split(' ')) for idx, sent in enumerate(ptb_test['sentence'])])\n",
        "\n",
        "print(f\"Bigram language model perplexity is {bigram_lm_perplexity}\")"
      ]
    },
    {
      "cell_type": "markdown",
      "id": "edd753ef",
      "metadata": {
        "id": "edd753ef"
      },
      "source": [
        "Repeat the same steps but for `cleaned_train_dataset` and `cleaned_test_dataset` datasets where rare tokens (with frequency less than 10) are replaced with `<unk>` token. Do we have a better or a worse perplexity compared to the previous computed perplexity?"
      ]
    },
    {
      "cell_type": "code",
      "execution_count": null,
      "id": "92b98f8b",
      "metadata": {
        "id": "92b98f8b",
        "colab": {
          "base_uri": "https://localhost:8080/"
        },
        "outputId": "1d4b7b8c-c5a0-4159-e8f5-8707f65e40c2"
      },
      "outputs": [
        {
          "output_type": "stream",
          "name": "stdout",
          "text": [
            "(cleaned) Bigram language model perplexity is 1309.774294288807\n"
          ]
        }
      ],
      "source": [
        "# get first order probas\n",
        "clean_word_prob_dict, clean_smoothed_first_order_condition_prob = get_smoothed_first_order_conditional_probabilities(cleaned_train_dataset, 0.01)\n",
        "\n",
        "# get frequency dictionary\n",
        "cleaned_train_dataset_str = ' '.join(cleaned_train_dataset['sentence'])\n",
        "cleaned_train_dataset_cnt = dict(Counter(cleaned_train_dataset_str.split(' ')))\n",
        "\n",
        "# get each sentence probas for cleaned test dataset\n",
        "cleaned_smoothed_bigram_test_probabilities = [\n",
        "    smoothed_bigram_lm_seq_probability(\n",
        "      input_sentence=sent,\n",
        "      word_prob_dict=clean_word_prob_dict,\n",
        "      word_frequency_dict=cleaned_train_dataset_cnt,\n",
        "      smoothed_first_order_condition_prob=clean_smoothed_first_order_condition_prob,\n",
        "      smoothing_alpha=0.01) for sent in cleaned_test_dataset['sentence']]\n",
        "\n",
        "# get average perplexity\n",
        "cleaned_bigram_lm_perplexity = 2**np.mean([-np.log2(cleaned_smoothed_bigram_test_probabilities[idx]) / len(sent.split(' ')) for idx, sent in enumerate(cleaned_test_dataset['sentence']) if cleaned_smoothed_bigram_test_probabilities[idx] != 0])\n",
        "\n",
        "print(f\"(cleaned) Bigram language model perplexity is {cleaned_bigram_lm_perplexity}\")"
      ]
    },
    {
      "cell_type": "markdown",
      "id": "e2ea844a",
      "metadata": {
        "id": "e2ea844a"
      },
      "source": [
        "## 1.3 Tri-gram Language Model <a name='trigram_lm'></a>\n",
        "In the Tri-gram language model, we pick/generate next token conditioned only on the two previous tokens. Therefore, for an arbitrary sequence $x_1x_2~...x_n$, its respective probability becomes:\n",
        "$$p(x_1x_2~...x_n) = p(x_1) p(x_2|x_1) ~\\Pi_{i=3} ^n p(x_i|x_{i-2}x_{i-1})$$\n",
        "Let's use the same dataset (`Penn Treebank`) to evaluate this model's perplexity. (We use the dataset that already has the `<stop>` token at the end of each sentence).\n",
        "\n",
        "\n",
        "We estimate $p(x_i|x_{i-1}x_{i-2})$ using the Laplace smoothing with $\\alpha=3 \\cdot 10^{-3}$. First let's write a function that computes these conditional probabilities for the Tri-gram language model."
      ]
    },
    {
      "cell_type": "code",
      "execution_count": null,
      "id": "abdf0b35",
      "metadata": {
        "id": "abdf0b35"
      },
      "outputs": [],
      "source": [
        "def get_smoothed_second_order_conditional_probabilities(train_dataset: datasets.arrow_dataset.Dataset,\n",
        "                                                        smoothing_alpha: float):\n",
        "    '''\n",
        "    In this function the conditional probabilities have to be computed based on train_dataset. The output\n",
        "    of the function is a dictionary having keys like (x_{i-2}, x_{i-1}, x_i) as a tuple and the\n",
        "    value being p(x_i | x_{i-2} x_{i-1}).\n",
        "    args:\n",
        "        train_dataset: a Dataset object that can be iterated to get all the sentences\n",
        "        smoothing_alpha: The alpha parameter used in the Laplace smoothing.\n",
        "    output:\n",
        "        word_prob_dict: a dictionary containing the word probabilities\n",
        "        first_order_condition_prob: a dictionary containing the smoothed first order\n",
        "                                    conditional probabilities.\n",
        "        second_order_condition_prob: a dictionary containing the smoothed second order\n",
        "                                     conditional probabilities.\n",
        "    '''\n",
        "    # get tokens\n",
        "    train_dataset_tokens = ' '.join(train_dataset['sentence']).split(' ')\n",
        "\n",
        "    # get the bigram counts\n",
        "    all_bigrams = []\n",
        "    for sample in train_dataset['sentence']:\n",
        "      sample_token = sample.split(' ')\n",
        "      bigrams = list(zip(sample_token, sample_token[1:]))\n",
        "      all_bigrams += bigrams\n",
        "    bigrams_counts = Counter(all_bigrams)\n",
        "\n",
        "    # get the trigram counts\n",
        "    all_trigrams = []\n",
        "    for sample in train_dataset['sentence']:\n",
        "      sample_token = sample.split(' ')\n",
        "      trigrams = list(zip(sample_token, sample_token[1:], sample_token[2:]))\n",
        "      all_trigrams += trigrams\n",
        "    trigrams_counts = Counter(all_trigrams)\n",
        "\n",
        "    # vocab size\n",
        "    vocab_len = len(train_dataset_tokens)\n",
        "\n",
        "    # populate the dict\n",
        "    smoothed_second_order_condition_prob = {}\n",
        "    for k, v in trigrams_counts.items():\n",
        "      smoothed_second_order_condition_prob[k] = (v + smoothing_alpha) / (bigrams_counts[k[:1]] + smoothing_alpha * vocab_len)\n",
        "\n",
        "    # let's first get the 0th and 1st order conditional probabilities\n",
        "    (word_prob_dict, first_order_condition_prob) = get_smoothed_first_order_conditional_probabilities(train_dataset, smoothing_alpha)\n",
        "\n",
        "    return word_prob_dict, first_order_condition_prob, smoothed_second_order_condition_prob"
      ]
    },
    {
      "cell_type": "markdown",
      "id": "936a664f",
      "metadata": {
        "id": "936a664f"
      },
      "source": [
        "#### Now let's analyze the Tri-gram language model for different sequences. We first create a function that can output the probability for a given string."
      ]
    },
    {
      "cell_type": "code",
      "execution_count": null,
      "id": "3f6a692c",
      "metadata": {
        "id": "3f6a692c"
      },
      "outputs": [],
      "source": [
        "def smoothed_trigram_lm_seq_probability(input_sentence: str,\n",
        "                                        word_prob_dict: dict,\n",
        "                                        word_frequency_dict: dict,\n",
        "                                        bigram_frequency_dict: dict,\n",
        "                                        first_order_condition_prob: dict,\n",
        "                                        second_order_condition_prob: dict,\n",
        "                                        smoothing_alpha: float):\n",
        "    '''\n",
        "    args:\n",
        "        input_sentence: The input sequence string. Here we assume\n",
        "        word_prob_dict: a dictionary containing the word probabilities\n",
        "        word_frequency_dict: a dictionary containing the frequency for every word in vocabulary\n",
        "        bigram_frequency_dict: a dictionary containing the frequency for every bigram in vocabulary\n",
        "        first_order_condition_prob: a dictionary containing the first order conditional probabilities\n",
        "                                    as discussed earlier.\n",
        "        second_order_condition_prob: a dictionary containing the second order conditional probabilities\n",
        "                                     as discussed in the previous function.\n",
        "    output:\n",
        "        probability: The probability of the input_sentence according to the Bi-gram language model\n",
        "    '''\n",
        "\n",
        "    vocab_size = len(word_prob_dict)\n",
        "    token_list = input_sentence.split()\n",
        "    bigram_list = [(s1, s2) for s1, s2 in zip(token_list, token_list[1:])]\n",
        "    trigram_list = [(s1, s2, s3) for s1, s2, s3 in zip(token_list, token_list[1:], token_list[2:])]\n",
        "\n",
        "    probability = np.prod([word_prob_dict[token_list[0]]] \\\n",
        "                        + [first_order_condition_prob.get(bigram_list[0], smoothing_alpha / (word_frequency_dict.get(bigram_list[0][0], 0) + smoothing_alpha * vocab_size))] \\\n",
        "                        + [second_order_condition_prob.get(trigram, smoothing_alpha / (bigram_frequency_dict.get(trigram[:2], 0) + smoothing_alpha * vocab_size))\n",
        "                        for trigram in trigram_list])\n",
        "\n",
        "    return probability"
      ]
    },
    {
      "cell_type": "markdown",
      "id": "16865742",
      "metadata": {
        "id": "16865742"
      },
      "source": [
        "#### Now let's compute the probability for sequences in the test dataset, assuming $\\alpha=3\\cdot10^{-3}$ has been used in the Laplace smoothing."
      ]
    },
    {
      "cell_type": "code",
      "execution_count": null,
      "id": "36feefd8",
      "metadata": {
        "id": "36feefd8",
        "colab": {
          "base_uri": "https://localhost:8080/"
        },
        "outputId": "3c027cc7-b826-4814-f86b-ba2e7a7ffa8d"
      },
      "outputs": [
        {
          "output_type": "stream",
          "name": "stdout",
          "text": [
            "0.0% of samples in the test set have zero probability!\n"
          ]
        }
      ],
      "source": [
        "# token freq\n",
        "ptb_train_tok = ' '.join(ptb_train['sentence']).split(' ')\n",
        "word_frequency_dict = Counter(ptb_train_tok)\n",
        "\n",
        "# bigram freq\n",
        "all_bigrams = []\n",
        "for sample in ptb_train:\n",
        "    token_list = sample[\"sentence\"].split()\n",
        "    sample_bigrams = [(s1, s2) for s1, s2 in zip(token_list, token_list[1:])]\n",
        "    all_bigrams += sample_bigrams\n",
        "bigram_frequency_dict = Counter(all_bigrams)\n",
        "\n",
        "# get the zero, first and second order probas\n",
        "word_prob_dict, smoothed_first_order_condition_prob, smoothed_second_order_condition_prob = get_smoothed_second_order_conditional_probabilities(ptb_train, 3e-3)\n",
        "\n",
        "smoothed_trigram_test_probabilities = [smoothed_trigram_lm_seq_probability(\n",
        "    input_sentence = sent,\n",
        "    word_prob_dict = word_prob_dict,\n",
        "    word_frequency_dict = dict(word_frequency_dict),\n",
        "    bigram_frequency_dict = dict(bigram_frequency_dict),\n",
        "    first_order_condition_prob = smoothed_first_order_condition_prob,\n",
        "    second_order_condition_prob = smoothed_second_order_condition_prob,\n",
        "    smoothing_alpha = 3e-3) for sent in ptb_test['sentence']]\n",
        "\n",
        "# zero is because of the very small product of 2nd order conditional probas. (they are not really zero, but -> 0)\n",
        "print(f\"{smoothed_trigram_test_probabilities.count(0)/len(ptb_test)*100}% of samples in the test set have zero probability!\")"
      ]
    },
    {
      "cell_type": "markdown",
      "id": "26ddd040",
      "metadata": {
        "id": "26ddd040"
      },
      "source": [
        "Now we compute the perplexity on the `ptb_test` dataset for the tri-gram language model."
      ]
    },
    {
      "cell_type": "code",
      "execution_count": null,
      "id": "25ed3d70",
      "metadata": {
        "id": "25ed3d70",
        "colab": {
          "base_uri": "https://localhost:8080/"
        },
        "outputId": "0ca9575a-f3d5-4955-cf06-4a3b58484afb"
      },
      "outputs": [
        {
          "output_type": "stream",
          "name": "stdout",
          "text": [
            "Trigram language model perplexity is 2594.3115652785195\n"
          ]
        }
      ],
      "source": [
        "trigram_lm_perplexity = 2**np.mean([-np.log2(smoothed_trigram_test_probabilities[idx]) / len(sent.split(' ')) for idx, sent in enumerate(ptb_test['sentence'])])\n",
        "\n",
        "print(f\"Trigram language model perplexity is {trigram_lm_perplexity}\")"
      ]
    },
    {
      "cell_type": "markdown",
      "id": "e34c59c8",
      "metadata": {
        "id": "e34c59c8"
      },
      "source": [
        "Repeat the same steps but for `cleaned_train_dataset` and `cleaned_test_dataset` datasets where rare tokens (with frequency less than 10) are replaced with `<unk>` token. Do we have a better or a worse perplexity compared to the previous computed perplexity?"
      ]
    },
    {
      "cell_type": "code",
      "execution_count": null,
      "id": "41b456be",
      "metadata": {
        "id": "41b456be",
        "colab": {
          "base_uri": "https://localhost:8080/"
        },
        "outputId": "c0b6f10b-d432-49d1-fab8-88fcc6280b37"
      },
      "outputs": [
        {
          "output_type": "stream",
          "name": "stdout",
          "text": [
            "0.36939942802669207% of samples in the test set have zero probability!\n",
            "Cleaned Trigram language model perplexity is 1530.5709739396284\n"
          ]
        }
      ],
      "source": [
        "cleaned_word_frequency_dict = Counter(\" \".join([i[\"sentence\"] for i in cleaned_train_dataset]).split())\n",
        "\n",
        "# bigram freq\n",
        "all_bigrams = []\n",
        "for sample in cleaned_train_dataset:\n",
        "    token_list = sample[\"sentence\"].split()\n",
        "    sample_bigrams = [(s1, s2) for s1, s2 in zip(token_list, token_list[1:])]\n",
        "    all_bigrams += sample_bigrams\n",
        "cleaned_bigram_frequency_dict = Counter(all_bigrams)\n",
        "\n",
        "# get zero, first and second order probas\n",
        "clean_word_prob_dict, clean_smoothed_first_order_condition_prob, clean_smoothed_second_order_condition_prob = get_smoothed_second_order_conditional_probabilities(cleaned_train_dataset, 3e-3)\n",
        "\n",
        "clean_smoothed_trigram_test_probabilities = [smoothed_trigram_lm_seq_probability(\n",
        "    input_sentence = sent,\n",
        "    word_prob_dict = clean_word_prob_dict,\n",
        "    word_frequency_dict = dict(cleaned_word_frequency_dict),\n",
        "    bigram_frequency_dict = dict(cleaned_bigram_frequency_dict),\n",
        "    first_order_condition_prob = clean_smoothed_first_order_condition_prob,\n",
        "    second_order_condition_prob = clean_smoothed_second_order_condition_prob,\n",
        "    smoothing_alpha = 3e-3) for sent in cleaned_test_dataset['sentence']]\n",
        "\n",
        "clean_trigram_lm_perplexity = 2**np.mean([-np.log2(clean_smoothed_trigram_test_probabilities[idx]) / len(sent.split(' ')) for idx, sent in enumerate(cleaned_test_dataset['sentence']) if clean_smoothed_trigram_test_probabilities[idx] != 0])\n",
        "\n",
        "print(f\"{clean_smoothed_trigram_test_probabilities.count(0)/len(cleaned_test_dataset)*100}% of samples in the test set have zero probability!\")\n",
        "print(f\"Cleaned Trigram language model perplexity is {clean_trigram_lm_perplexity}\")"
      ]
    },
    {
      "cell_type": "markdown",
      "source": [
        "**Remark**\n",
        "\n",
        "It is higher than the non-cleaned version. It is probably because, we are ommiting the 0 probabilities in the non-cleaned version, and thoses ommited ~0 values should have actually increased the perplexity. So, becuase we are ommiting them, the perplexity in the non-cleand version appears to be smaller than the one in the cleaned version."
      ],
      "metadata": {
        "id": "F6lKaqqajFGU"
      },
      "id": "F6lKaqqajFGU"
    },
    {
      "cell_type": "markdown",
      "id": "2d8e69cc",
      "metadata": {
        "id": "2d8e69cc"
      },
      "source": [
        "#### Discussion\n",
        " - How are the three discussed models performance compare to each other?\n",
        " - What is the cost of using N-gram language models for even larger N values?\n",
        " - What is the effect of vocabulary size on models' perplexities? Can we compare models with different vocabulary sizes?\n",
        " - What is the perplexity of a language model (vocabulary size of |V|) that given any context (i.e., $x_1 x_2 ... x_{n-1}$) assigns uniform probabilities (for all the tokens in the vocabulary) for the next token?"
      ]
    },
    {
      "cell_type": "markdown",
      "id": "641578b1",
      "metadata": {
        "id": "641578b1"
      },
      "source": [
        "## 2. Task B: Neural Language Models <a name='neural_lm'></a>\n",
        "\n",
        "In this exercise, we will better understand the functioning of some simple neural language models. We first start with a fixed-window neural language model. In the following subsection, we will investigate an RNN-based language model."
      ]
    },
    {
      "cell_type": "markdown",
      "id": "88cee765",
      "metadata": {
        "id": "88cee765"
      },
      "source": [
        "### 2.1 Fixed-Window Neural Language Model <a name='fixed_window_lm'></a>\n",
        "This language model take as input a constant number of tokens, and then outputs a probability distribution for the next token. In this section, we assume the underlying model is a Multi-layer Perceptron (MLP) with a single hidden layer. This model doesn't have the sparsity issue of N-gram language models, but is always limited to a fixed window of tokens.\n",
        "\n",
        "In this section, we don't include the training of the model but rather we use a pretrained model on the same training dataset. We evaluate the language model over the `ptb_test` dataset, to show the power of neural language models, when compared to N-gram language models.\n",
        "\n",
        "More importantly, we use PyTorch modules in this section, so that you get more familiar with its capabilities. Throughout this exercise, we use a `window_size=3` for this model.\n",
        "\n"
      ]
    },
    {
      "cell_type": "markdown",
      "id": "6808da1e",
      "metadata": {
        "id": "6808da1e"
      },
      "source": [
        "Let's first create a dataset of all consecutive tokens of length `window_size` from the `ptb_train` dataset. you can read more about PyTorch datasets and how to create a custom dataset  [here](https://pytorch.org/tutorials/beginner/basics/data_tutorial.html#creating-a-custom-dataset-for-your-files)."
      ]
    },
    {
      "cell_type": "code",
      "execution_count": null,
      "id": "70f5c3bf",
      "metadata": {
        "id": "70f5c3bf"
      },
      "outputs": [],
      "source": [
        "from torch.utils.data import Dataset, DataLoader\n",
        "\n",
        "window_size = 3\n",
        "vocabulary_size = 10000\n",
        "word_emb_dim = 100\n",
        "hidden_dim = 100\n",
        "\n",
        "\n",
        "class FixedWindowDataset(Dataset):\n",
        "    # read more about custom datasets at https://pytorch.org/tutorials/beginner/basics/data_tutorial.html\n",
        "    def __init__(self,\n",
        "                 train_dataset: datasets.arrow_dataset.Dataset,\n",
        "                 test_dataset: datasets.arrow_dataset.Dataset,\n",
        "                 window_size: int,\n",
        "                 vocabulary_size: int\n",
        "                ):\n",
        "        self.prepared_train_dataset = self.prepare_fixed_window_lm_dataset(train_dataset, window_size + 1)\n",
        "        self.prepared_test_dataset = self.prepare_fixed_window_lm_dataset(test_dataset, window_size + 1)\n",
        "\n",
        "        dataset_vocab = self.get_dataset_vocabulary(train_dataset)\n",
        "        # defining a dictionary that simply maps tokens to their respective index in the embedding matrix\n",
        "        self.word_to_index = {word: idx for idx,word in enumerate(dataset_vocab)}\n",
        "        self.index_to_word = {idx: word for idx,word in enumerate(dataset_vocab)}\n",
        "\n",
        "        assert vocabulary_size >= len(dataset_vocab) , f\"The dataset vocab size is {len(dataset_vocab)}!\"\n",
        "\n",
        "    def __len__(self):\n",
        "        return len(self.prepared_train_dataset)\n",
        "\n",
        "    def get_encoded_test_samples(self):\n",
        "        all_token_lists = [sample.split() for sample in self.prepared_test_dataset]\n",
        "        all_token_ids = [[self.word_to_index.get(word, self.word_to_index[\"<unk>\"])\n",
        "                          for word in token_list[:-1]]\n",
        "                         for token_list in all_token_lists\n",
        "                        ]\n",
        "        all_next_token_ids = [self.word_to_index.get(token_list[-1], self.word_to_index[\"<unk>\"]) for\n",
        "                              token_list in all_token_lists]\n",
        "        return torch.tensor(all_token_ids), torch.tensor(all_next_token_ids)\n",
        "\n",
        "    def __getitem__(self, idx):\n",
        "        # here we need to transform the data to the format we expect at the model input\n",
        "        token_list = self.prepared_train_dataset[idx].split()\n",
        "        # having a fallback to <unk> token if an unseen word is encoded.\n",
        "        token_ids = [self.word_to_index.get(word, self.word_to_index[\"<unk>\"]) for word in token_list[:-1]]\n",
        "        next_token_id = self.word_to_index.get(token_list[-1], self.word_to_index[\"<unk>\"])\n",
        "        return torch.tensor(token_ids), torch.tensor(next_token_id)\n",
        "\n",
        "    def decode_idx_to_word(self, token_id):\n",
        "        return [self.index_to_word[id_.item()] for id_ in token_id]\n",
        "\n",
        "    def get_dataset_vocabulary(self, train_dataset: datasets.arrow_dataset.Dataset):\n",
        "        vocab = sorted(set(\" \".join([sample[\"sentence\"] for sample in train_dataset]).split()))\n",
        "        # we also add a <start> token to include initial tokens in the sentences in the dataset\n",
        "        vocab += [\"<start>\"]\n",
        "        return vocab\n",
        "\n",
        "    @staticmethod\n",
        "    def prepare_fixed_window_lm_dataset(target_dataset: datasets.arrow_dataset.Dataset,\n",
        "                                        window_size: int):\n",
        "        '''\n",
        "        Please note that for the very first tokens, they will be added like \"<start> <start> Token#1\".\n",
        "        args:\n",
        "            target_dataset: the target dataset where its consecutive tokens of length 'window_size' should be extracted\n",
        "            window_size: the window size for the language model\n",
        "        output:\n",
        "            prepared_dataset: a list of strings each containing 'window_size' tokens.\n",
        "        '''\n",
        "\n",
        "        data = (' '.join(ptb_train['sentence'])).split(' ')\n",
        "\n",
        "        prepared_dataset = []\n",
        "        for idx, d in enumerate(data):\n",
        "          prepared_dataset.append(' '.join([data[idx-i] if idx >= i else '<start>' for i in range(window_size)][::-1]))\n",
        "\n",
        "        return prepared_dataset"
      ]
    },
    {
      "cell_type": "code",
      "execution_count": null,
      "id": "524f4a18",
      "metadata": {
        "id": "524f4a18"
      },
      "outputs": [],
      "source": [
        "fixed_window_dataset = FixedWindowDataset(ptb_train, ptb_test, window_size, vocabulary_size)\n",
        "\n",
        "# let's create a simple dataloader for this dataset\n",
        "train_dataloader =  DataLoader(fixed_window_dataset, batch_size=8, shuffle=True)"
      ]
    },
    {
      "cell_type": "markdown",
      "id": "5b44e90d",
      "metadata": {
        "id": "5b44e90d"
      },
      "source": [
        "Now, let's define the underlying PyTorch model for the language model. You can read more about PyTorch models [here](https://pytorch.org/tutorials/beginner/introyt/modelsyt_tutorial.html).\n",
        "\n",
        "**Note**: Here in the forward pass, we compute the negative log-likelihood after passing through the MLP layers. Here we use `torch.nn.LogSoftmax`, as it's numerically more stable than doing seperately `softmax` followed by taking its logarithm."
      ]
    },
    {
      "cell_type": "code",
      "execution_count": null,
      "id": "e3ea691f",
      "metadata": {
        "id": "e3ea691f"
      },
      "outputs": [],
      "source": [
        "import torch.optim as optim\n",
        "\n",
        "class Fixed_window_language_model(torch.nn.Module):\n",
        "    def __init__(self, emb_dim, hidden_dim, window_size, vocab_size=10000):\n",
        "        super().__init__()\n",
        "\n",
        "        self.window_size = window_size\n",
        "        self.emb_dim = emb_dim\n",
        "        self.word_embeddings = torch.nn.Embedding(vocab_size, emb_dim) # word embeddings\n",
        "        self.linear1 = torch.nn.Linear(window_size * emb_dim, hidden_dim) # first linear layer\n",
        "        self.activation_func = torch.tanh # the activation function\n",
        "        self.linear2 = torch.nn.Linear(hidden_dim, vocab_size) # second linear layer\n",
        "\n",
        "        self.log_softmax = torch.nn.LogSoftmax(dim=1)\n",
        "        self.criterion = torch.nn.NLLLoss()\n",
        "\n",
        "    def forward(self, input_ids, labels):\n",
        "        inputs_embeds = self.word_embeddings(input_ids)\n",
        "        concat_input_embed = inputs_embeds.reshape(-1, self.emb_dim * self.window_size)\n",
        "        hidden_state = self.activation_func(self.linear1(concat_input_embed) )\n",
        "        logits = self.log_softmax(self.linear2(hidden_state) )\n",
        "        loss = self.criterion(logits, labels)\n",
        "\n",
        "        return loss"
      ]
    },
    {
      "cell_type": "markdown",
      "id": "4dae5397",
      "metadata": {
        "id": "4dae5397"
      },
      "source": [
        "Now let's see how easy it is to train a model with PyTorch! (we provide a trained model in the cell after train, so that you can just start using the model without going through the time-consuming training)"
      ]
    },
    {
      "cell_type": "code",
      "execution_count": null,
      "id": "93779901",
      "metadata": {
        "id": "93779901",
        "colab": {
          "base_uri": "https://localhost:8080/"
        },
        "outputId": "0e4523a5-5538-4757-f56a-45b8db7bd930"
      },
      "outputs": [
        {
          "output_type": "stream",
          "name": "stdout",
          "text": [
            "cpu\n"
          ]
        }
      ],
      "source": [
        "# define device\n",
        "device = 'cuda' if torch.cuda.is_available() else 'cpu'\n",
        "print(device)\n",
        "\n",
        "# defining the model\n",
        "model_fixed_window = Fixed_window_language_model(emb_dim=word_emb_dim, hidden_dim=hidden_dim,\n",
        "                                                 window_size=window_size, vocab_size=vocabulary_size).to(device)\n",
        "\n",
        "# defining the optimizer\n",
        "optimizer = optim.SGD(model_fixed_window.parameters(),\n",
        "                      lr=0.005,\n",
        "                      momentum=0.9)"
      ]
    },
    {
      "cell_type": "code",
      "execution_count": null,
      "id": "77626d29",
      "metadata": {
        "scrolled": true,
        "id": "77626d29",
        "colab": {
          "base_uri": "https://localhost:8080/"
        },
        "outputId": "6835c3ed-faa7-40ba-e749-478f6b26a68d"
      },
      "outputs": [
        {
          "output_type": "stream",
          "name": "stdout",
          "text": [
            "[1,  5000] loss: 6.825\n",
            "[1, 10000] loss: 6.243\n",
            "[1, 15000] loss: 6.100\n",
            "[1, 20000] loss: 6.058\n",
            "[1, 25000] loss: 6.001\n",
            "[1, 30000] loss: 5.939\n",
            "[1, 35000] loss: 5.942\n",
            "[1, 40000] loss: 5.901\n",
            "[1, 45000] loss: 5.870\n",
            "[1, 50000] loss: 5.838\n",
            "[1, 55000] loss: 5.826\n",
            "[1, 60000] loss: 5.834\n",
            "[1, 65000] loss: 5.755\n",
            "[1, 70000] loss: 5.758\n",
            "[1, 75000] loss: 5.735\n",
            "[1, 80000] loss: 5.726\n",
            "[1, 85000] loss: 5.702\n",
            "[1, 90000] loss: 5.704\n",
            "[2,  5000] loss: 5.541\n",
            "[2, 10000] loss: 5.566\n",
            "[2, 15000] loss: 5.591\n",
            "[2, 20000] loss: 5.577\n",
            "[2, 25000] loss: 5.561\n",
            "[2, 30000] loss: 5.560\n",
            "[2, 35000] loss: 5.560\n",
            "[2, 40000] loss: 5.542\n",
            "[2, 45000] loss: 5.525\n",
            "[2, 50000] loss: 5.519\n",
            "[2, 55000] loss: 5.567\n",
            "[2, 60000] loss: 5.516\n",
            "[2, 65000] loss: 5.529\n",
            "[2, 70000] loss: 5.533\n",
            "[2, 75000] loss: 5.542\n",
            "[2, 80000] loss: 5.504\n",
            "[2, 85000] loss: 5.537\n",
            "[2, 90000] loss: 5.483\n",
            "Finished Training\n"
          ]
        }
      ],
      "source": [
        "for epoch in range(2):  # loop over the dataset multiple times\n",
        "\n",
        "    running_loss = 0.0\n",
        "    for i, data in enumerate(train_dataloader):\n",
        "        # get the inputs; data is a tuple of (context, target)\n",
        "        context, target = data\n",
        "\n",
        "        # zero the parameter gradients\n",
        "        optimizer.zero_grad()\n",
        "\n",
        "        # forward + backward + optimize\n",
        "        loss = model_fixed_window(context.to(device), target.to(device))\n",
        "        loss.backward()\n",
        "        optimizer.step()\n",
        "\n",
        "        # print statistics\n",
        "        running_loss += loss.item()\n",
        "        if i % 5000 == 4999. :    # print every 5000 mini-batches\n",
        "            print(f'[{epoch + 1}, {i + 1:5d}] loss: {running_loss / 5000:.3f}')\n",
        "            running_loss = 0.0\n",
        "\n",
        "print('Finished Training')\n",
        "\n",
        "# saving the trained model\n",
        "torch.save(model_fixed_window.state_dict(), \"fixed_window_model.pt\")"
      ]
    },
    {
      "cell_type": "markdown",
      "id": "0483dd01",
      "metadata": {
        "id": "0483dd01"
      },
      "source": [
        "We provide a trained model, so that you can start using it right away"
      ]
    },
    {
      "cell_type": "code",
      "execution_count": null,
      "id": "54ba51b1",
      "metadata": {
        "id": "54ba51b1",
        "colab": {
          "base_uri": "https://localhost:8080/"
        },
        "outputId": "62a98e64-9303-4b21-8270-9032c05ef825"
      },
      "outputs": [
        {
          "output_type": "execute_result",
          "data": {
            "text/plain": [
              "<All keys matched successfully>"
            ]
          },
          "metadata": {},
          "execution_count": 70
        }
      ],
      "source": [
        "fixed_window_checkpoint_file = \"fixed_window_model.pt\"\n",
        "model_fixed_window_2 = Fixed_window_language_model(emb_dim=word_emb_dim, hidden_dim=hidden_dim,\n",
        "                                                 window_size=window_size, vocab_size=vocabulary_size).to(device)\n",
        "model_fixed_window_2.load_state_dict(torch.load(fixed_window_checkpoint_file))"
      ]
    },
    {
      "cell_type": "code",
      "execution_count": null,
      "id": "b806f375",
      "metadata": {
        "id": "b806f375"
      },
      "outputs": [],
      "source": [
        "# context and 'target' ids (target is the next word after the context)\n",
        "test_token_ids, test_target_ids = fixed_window_dataset.get_encoded_test_samples()"
      ]
    },
    {
      "cell_type": "code",
      "source": [
        "# model_fixed_window(context.to(device), target.to(device))"
      ],
      "metadata": {
        "id": "GCX5lFH3y7hs"
      },
      "id": "GCX5lFH3y7hs",
      "execution_count": null,
      "outputs": []
    },
    {
      "cell_type": "code",
      "source": [
        "# model_fixed_window_2(context.to(device), target.to(device))"
      ],
      "metadata": {
        "id": "FQzJp38ny1AE"
      },
      "id": "FQzJp38ny1AE",
      "execution_count": null,
      "outputs": []
    },
    {
      "cell_type": "markdown",
      "id": "f87e283d",
      "metadata": {
        "id": "f87e283d"
      },
      "source": [
        "We now have the `test_token_ids`, `test_target_ids` tensors for the test dataset. The `test_token_ids` are the context ids and `test_target_ids` are the respective **next token** (a.k.a. target here) for these contexts.\n",
        "#### Using the trained model, implement a function that can output the loss for the discussed test dataset. How can we generally decide if the model is overfitted to the train dataset or not?"
      ]
    },
    {
      "cell_type": "code",
      "source": [
        "len(test_target_ids)"
      ],
      "metadata": {
        "colab": {
          "base_uri": "https://localhost:8080/"
        },
        "id": "VHknF_MAnL_B",
        "outputId": "ec865150-eec2-41bc-9db7-07ded623622c"
      },
      "id": "VHknF_MAnL_B",
      "execution_count": null,
      "outputs": [
        {
          "output_type": "execute_result",
          "data": {
            "text/plain": [
              "742782"
            ]
          },
          "metadata": {},
          "execution_count": 78
        }
      ]
    },
    {
      "cell_type": "code",
      "execution_count": null,
      "id": "e352e019",
      "metadata": {
        "id": "e352e019",
        "colab": {
          "base_uri": "https://localhost:8080/"
        },
        "outputId": "0115c8bd-3e2c-4467-bcda-699529299c12"
      },
      "outputs": [
        {
          "output_type": "stream",
          "name": "stderr",
          "text": [
            "100%|██████████| 2499/2499 [00:02<00:00, 961.24it/s]\n"
          ]
        },
        {
          "output_type": "stream",
          "name": "stdout",
          "text": [
            "Test dataset loss is 5.375057220458984\n"
          ]
        }
      ],
      "source": [
        "from tqdm import tqdm\n",
        "def generate_test_dataset_loss(model: torch.nn.Module,\n",
        "                               test_token_ids: torch.Tensor,\n",
        "                               test_target_ids: torch.Tensor):\n",
        "    '''\n",
        "    args:\n",
        "        model: fixed-window language model\n",
        "        test_token_ids: the context ids in a single tensor.\n",
        "        test_target_ids: the target ids (next token after the context) in a single tensor.\n",
        "    output:\n",
        "        avg_test_loss: The average loss of model over test dataset.\n",
        "    '''\n",
        "    batch_size = 4\n",
        "    test_loss = []\n",
        "\n",
        "    test_token_ids, test_target_ids = test_token_ids.to(device), test_target_ids.to(device)\n",
        "\n",
        "    model.eval()\n",
        "    with torch.inference_mode():\n",
        "      for idx in tqdm(range(int(np.floor(len(test_target_ids) / 4 - 1)))):\n",
        "        test_loss.append(model(input_ids = test_token_ids[idx*batch_size : (idx+1)*batch_size], labels = test_target_ids[idx*batch_size : (idx+1)*batch_size]))\n",
        "      test_loss.append(model(input_ids = test_token_ids[idx*batch_size:], labels = test_target_ids[idx*batch_size:]))\n",
        "\n",
        "    avg_test_loss = np.mean(test_loss)\n",
        "    return avg_test_loss\n",
        "\n",
        "test_dataset_loss = generate_test_dataset_loss(model_fixed_window_2, test_token_ids[:10000], test_target_ids[:10000]) # taking toooo much of time\n",
        "print(f\"Test dataset loss is {test_dataset_loss}\")"
      ]
    },
    {
      "cell_type": "markdown",
      "id": "085d7476",
      "metadata": {
        "id": "085d7476"
      },
      "source": [
        "#### Using the trained fixed-window model, implemention a function that can output entropy for a given sequence."
      ]
    },
    {
      "cell_type": "code",
      "execution_count": null,
      "id": "db54e454",
      "metadata": {
        "id": "db54e454"
      },
      "outputs": [],
      "source": [
        "def get_seqeuence_entropy_fixed_window_lm(model: torch.nn.Module,\n",
        "                                          input_sequence: str,\n",
        "                                          window_size: int,\n",
        "                                          word_to_idx: dict):\n",
        "    '''\n",
        "    Note that e.g., in order to get the first token probability, you need to pass a sequence\n",
        "    like \"<start> <start> <start>\" (prefix padding) to the neural model. In a similar fashion, we need to pass\n",
        "    \"<start> <start> TOKEN#1\" for getting the probability of the second token.\n",
        "    args:\n",
        "        model: fixed-window language model\n",
        "        input_sequence: the sequence for which we want to calculate the probability\n",
        "        window_size: the size of window for the language model\n",
        "        word_to_idx: a mapping from words to the embedding indices (to encode tokens before being\n",
        "                     passed to model). You can get this dict from 'fixed_window_dataset.word_to_index'\n",
        "    output:\n",
        "        sequence_entropy: the entropy for the input sequence using the trained model\n",
        "    '''\n",
        "    input_tokens = input_sequence.split(' ')\n",
        "\n",
        "    input_context_ids = []\n",
        "    input_target_ids = []\n",
        "    for idx in range(len(input_tokens) - 1):\n",
        "      input_context_ids.append([word_to_idx.get(input_tokens[idx-i], word_to_idx[\"<unk>\"]) if idx > i else word_to_idx.get('<start>', word_to_idx[\"<unk>\"]) for i in range(window_size)][::-1])\n",
        "      input_target_ids.append(word_to_idx.get(input_tokens[idx+1], word_to_idx[\"<unk>\"]))\n",
        "    input_context_ids, input_target_ids = torch.tensor(input_context_ids).to(device), torch.tensor(input_target_ids).to(device)\n",
        "\n",
        "    with torch.inference_mode():\n",
        "      sequence_entropy = model(input_context_ids, input_target_ids).cpu()\n",
        "\n",
        "    return sequence_entropy"
      ]
    },
    {
      "cell_type": "markdown",
      "id": "7d055835",
      "metadata": {
        "id": "7d055835"
      },
      "source": [
        "#### Compute the perplexity for the trained fixed-window language model over `ptb_test` dataset using the previous function. How does it perform compared to N-gram language models we discussed earlier?"
      ]
    },
    {
      "cell_type": "code",
      "execution_count": null,
      "id": "f4289886",
      "metadata": {
        "id": "f4289886",
        "colab": {
          "base_uri": "https://localhost:8080/"
        },
        "outputId": "b12c7270-5a4e-496d-b69a-883f53be4a98"
      },
      "outputs": [
        {
          "output_type": "stream",
          "name": "stdout",
          "text": [
            "The fixed-window model perplexity over test dataset is 299.67333984375\n"
          ]
        }
      ],
      "source": [
        "entropies = [get_seqeuence_entropy_fixed_window_lm(model = model_fixed_window_2,\n",
        "                                       input_sequence = sent,\n",
        "                                       window_size = window_size,\n",
        "                                       word_to_idx = fixed_window_dataset.word_to_index) for sent in ptb_test['sentence']]\n",
        "perplexity = np.exp(np.mean(entropies))\n",
        "print(f\"The fixed-window model perplexity over test dataset is {perplexity}\")"
      ]
    },
    {
      "cell_type": "markdown",
      "id": "240c3d89",
      "metadata": {
        "id": "240c3d89"
      },
      "source": [
        "### 2.2 RNN-based Language Model <a name='rnn_lm'></a>\n",
        "To address the need for a neural architecture that can proceed with any length input (as opposed to the fixed-window model that can only process a fixed number of tokens), we implement the Recurrent Neural Network (RNN). The core idea behind is that we can apply the same weight W repeatedly.\n",
        "\n",
        "An advatange of RNN model compared to fixed-window langauage model is that we can pass a given sentence at once, instead of passing it in many windows of size `window_size`. Moreover, the language model has the ability to look behind further that a fixed number of tokens.\n",
        "\n",
        " As we already did a neural model training exercise for the previous neural model, we only provide a trained LM at this section, so that you can focus only on the analysis part.\n",
        "\n",
        "You can find the dataset structure as well as the RNN architecture in the `rnn_utils.py` file."
      ]
    },
    {
      "cell_type": "code",
      "execution_count": 17,
      "id": "fc631bc1",
      "metadata": {
        "id": "fc631bc1",
        "colab": {
          "base_uri": "https://localhost:8080/"
        },
        "outputId": "cc5ffdcd-0780-444b-98f8-29ac954ce59e"
      },
      "outputs": [
        {
          "output_type": "execute_result",
          "data": {
            "text/plain": [
              "RNN_language_model(\n",
              "  (criterion): CrossEntropyLoss()\n",
              "  (embedding): Embedding(10000, 200)\n",
              "  (rnn): RNN(200, 200, num_layers=4)\n",
              "  (dropout): Dropout(p=0.001, inplace=False)\n",
              "  (lm_decoder): Linear(in_features=200, out_features=10000, bias=True)\n",
              ")"
            ]
          },
          "metadata": {},
          "execution_count": 17
        }
      ],
      "source": [
        "from rnn_utils import RNNDataset, RNN_language_model\n",
        "\n",
        "vocabulary_size = 10000\n",
        "word_emb_dim = 200\n",
        "hidden_dim = 200\n",
        "\n",
        "rnn_dataset = RNNDataset(ptb_train, ptb_test, vocabulary_size)\n",
        "\n",
        "# if gpu is available, we puts the model on it\n",
        "device = torch.device(\"cuda:0\" if torch.cuda.is_available() else \"cpu\")\n",
        "\n",
        "# Here we need a <pad> token for the RNN model, in order to have a batch of sequences with difference sizes\n",
        "pad_idx = rnn_dataset.pad_idx # the index for <pad> token\n",
        "rnn_model = RNN_language_model(vocab_size=vocabulary_size, emb_dim=word_emb_dim, hidden_dim=hidden_dim,\n",
        "                               pad_idx=pad_idx)\n",
        "rnn_model.to(device)"
      ]
    },
    {
      "cell_type": "markdown",
      "id": "25137a9f",
      "metadata": {
        "id": "25137a9f"
      },
      "source": [
        "load the model weights using the state_dict in `rnn_model.pt` file."
      ]
    },
    {
      "cell_type": "code",
      "execution_count": 19,
      "id": "52adb1f9",
      "metadata": {
        "id": "52adb1f9",
        "colab": {
          "base_uri": "https://localhost:8080/"
        },
        "outputId": "44ba3c3b-93b7-433b-c572-1d7124928b8c"
      },
      "outputs": [
        {
          "output_type": "execute_result",
          "data": {
            "text/plain": [
              "<All keys matched successfully>"
            ]
          },
          "metadata": {},
          "execution_count": 19
        }
      ],
      "source": [
        "checkpoints = 'rnn_model.pt'\n",
        "rnn_model.load_state_dict(torch.load(checkpoints, map_location=device))"
      ]
    },
    {
      "cell_type": "markdown",
      "id": "f06eb967",
      "metadata": {
        "id": "f06eb967"
      },
      "source": [
        "As the training of an RNN model is time-consuming, we provide a trained language model on this dataset (`rnn_model.pt`), so that you can just analyze the model performance here.\n",
        "As mentioned above, as RNN can get sequences with varying lengths, the input sequences should be padded with a special token like `<pad>`, so that we can create a batch of sentences. The output of the defined RNN model (see the architecture detail `rnn_utils.py`) is the model's entropy over the input data.\n",
        "\n",
        "#### First get the encoded test samples of `ptb_test` dataset, and then pass these (already padded) sentences to the RNN model to get the respective entropy values. Compute the perplexity of the model and compare it with previous approaches.\n",
        "**HINT**: You can use the `get_encoded_test_samples` function of `rnn_dataset` to get encoded test samples.\n"
      ]
    },
    {
      "cell_type": "code",
      "execution_count": 21,
      "id": "09d7b99f",
      "metadata": {
        "id": "09d7b99f",
        "colab": {
          "base_uri": "https://localhost:8080/"
        },
        "outputId": "39de896e-0b01-4958-ee61-77a42a7e6efa"
      },
      "outputs": [
        {
          "output_type": "stream",
          "name": "stdout",
          "text": [
            "The model perplexity is 208.3364322940167\n"
          ]
        }
      ],
      "source": [
        "batch_size = 8\n",
        "rnn_test_dataset = rnn_dataset.get_encoded_test_samples().to(device)\n",
        "\n",
        "rnn_model.eval()\n",
        "with torch.inference_mode():\n",
        "  entropy = []\n",
        "  for idx in range(0, len(rnn_test_dataset), batch_size):\n",
        "    context_id = rnn_test_dataset[idx:idx+batch_size]\n",
        "    entropy.append(rnn_model(context_id).item())\n",
        "test_perplexity = np.exp(np.mean(entropy))\n",
        "\n",
        "print(f\"The model perplexity is {test_perplexity}\")"
      ]
    }
  ],
  "metadata": {
    "kernelspec": {
      "display_name": "Python 3",
      "name": "python3"
    },
    "language_info": {
      "codemirror_mode": {
        "name": "ipython",
        "version": 3
      },
      "file_extension": ".py",
      "mimetype": "text/x-python",
      "name": "python",
      "nbconvert_exporter": "python",
      "pygments_lexer": "ipython3",
      "version": "3.9.0"
    },
    "vscode": {
      "interpreter": {
        "hash": "a8ced340a52f9326f5856e1d63a73f97bd9f0a225610b549ff7b502d766a19ce"
      }
    },
    "colab": {
      "provenance": [],
      "gpuType": "T4"
    },
    "accelerator": "GPU",
    "widgets": {
      "application/vnd.jupyter.widget-state+json": {
        "65c327caf17f4c88bc717d22ed4e75ed": {
          "model_module": "@jupyter-widgets/controls",
          "model_name": "HBoxModel",
          "model_module_version": "1.5.0",
          "state": {
            "_dom_classes": [],
            "_model_module": "@jupyter-widgets/controls",
            "_model_module_version": "1.5.0",
            "_model_name": "HBoxModel",
            "_view_count": null,
            "_view_module": "@jupyter-widgets/controls",
            "_view_module_version": "1.5.0",
            "_view_name": "HBoxView",
            "box_style": "",
            "children": [
              "IPY_MODEL_58b026c9e1be45e8950162fd8c6c248c",
              "IPY_MODEL_ab9eda09313d47bd86dc70cfe050a324",
              "IPY_MODEL_2e389117511b4dd78e900b89cf1fe8ce"
            ],
            "layout": "IPY_MODEL_401e98db93d04cba90058223ff3ae37b"
          }
        },
        "58b026c9e1be45e8950162fd8c6c248c": {
          "model_module": "@jupyter-widgets/controls",
          "model_name": "HTMLModel",
          "model_module_version": "1.5.0",
          "state": {
            "_dom_classes": [],
            "_model_module": "@jupyter-widgets/controls",
            "_model_module_version": "1.5.0",
            "_model_name": "HTMLModel",
            "_view_count": null,
            "_view_module": "@jupyter-widgets/controls",
            "_view_module_version": "1.5.0",
            "_view_name": "HTMLView",
            "description": "",
            "description_tooltip": null,
            "layout": "IPY_MODEL_f08eb69d173e4d35b531829dcf2db43d",
            "placeholder": "​",
            "style": "IPY_MODEL_009a7df08f2741ef89d7a158f6b048ab",
            "value": "Downloading data: 100%"
          }
        },
        "ab9eda09313d47bd86dc70cfe050a324": {
          "model_module": "@jupyter-widgets/controls",
          "model_name": "FloatProgressModel",
          "model_module_version": "1.5.0",
          "state": {
            "_dom_classes": [],
            "_model_module": "@jupyter-widgets/controls",
            "_model_module_version": "1.5.0",
            "_model_name": "FloatProgressModel",
            "_view_count": null,
            "_view_module": "@jupyter-widgets/controls",
            "_view_module_version": "1.5.0",
            "_view_name": "ProgressView",
            "bar_style": "success",
            "description": "",
            "description_tooltip": null,
            "layout": "IPY_MODEL_f4e089b1407f4d2d953924d3a634805a",
            "max": 2961439,
            "min": 0,
            "orientation": "horizontal",
            "style": "IPY_MODEL_0bb025f318c5454792155b205855bc1f",
            "value": 2961439
          }
        },
        "2e389117511b4dd78e900b89cf1fe8ce": {
          "model_module": "@jupyter-widgets/controls",
          "model_name": "HTMLModel",
          "model_module_version": "1.5.0",
          "state": {
            "_dom_classes": [],
            "_model_module": "@jupyter-widgets/controls",
            "_model_module_version": "1.5.0",
            "_model_name": "HTMLModel",
            "_view_count": null,
            "_view_module": "@jupyter-widgets/controls",
            "_view_module_version": "1.5.0",
            "_view_name": "HTMLView",
            "description": "",
            "description_tooltip": null,
            "layout": "IPY_MODEL_b8ebb19aa92d4dfa954c142a601aa83c",
            "placeholder": "​",
            "style": "IPY_MODEL_ca03edfea32c4946bfe1af1fc67d1cbb",
            "value": " 2.96M/2.96M [00:00&lt;00:00, 5.12MB/s]"
          }
        },
        "401e98db93d04cba90058223ff3ae37b": {
          "model_module": "@jupyter-widgets/base",
          "model_name": "LayoutModel",
          "model_module_version": "1.2.0",
          "state": {
            "_model_module": "@jupyter-widgets/base",
            "_model_module_version": "1.2.0",
            "_model_name": "LayoutModel",
            "_view_count": null,
            "_view_module": "@jupyter-widgets/base",
            "_view_module_version": "1.2.0",
            "_view_name": "LayoutView",
            "align_content": null,
            "align_items": null,
            "align_self": null,
            "border": null,
            "bottom": null,
            "display": null,
            "flex": null,
            "flex_flow": null,
            "grid_area": null,
            "grid_auto_columns": null,
            "grid_auto_flow": null,
            "grid_auto_rows": null,
            "grid_column": null,
            "grid_gap": null,
            "grid_row": null,
            "grid_template_areas": null,
            "grid_template_columns": null,
            "grid_template_rows": null,
            "height": null,
            "justify_content": null,
            "justify_items": null,
            "left": null,
            "margin": null,
            "max_height": null,
            "max_width": null,
            "min_height": null,
            "min_width": null,
            "object_fit": null,
            "object_position": null,
            "order": null,
            "overflow": null,
            "overflow_x": null,
            "overflow_y": null,
            "padding": null,
            "right": null,
            "top": null,
            "visibility": null,
            "width": null
          }
        },
        "f08eb69d173e4d35b531829dcf2db43d": {
          "model_module": "@jupyter-widgets/base",
          "model_name": "LayoutModel",
          "model_module_version": "1.2.0",
          "state": {
            "_model_module": "@jupyter-widgets/base",
            "_model_module_version": "1.2.0",
            "_model_name": "LayoutModel",
            "_view_count": null,
            "_view_module": "@jupyter-widgets/base",
            "_view_module_version": "1.2.0",
            "_view_name": "LayoutView",
            "align_content": null,
            "align_items": null,
            "align_self": null,
            "border": null,
            "bottom": null,
            "display": null,
            "flex": null,
            "flex_flow": null,
            "grid_area": null,
            "grid_auto_columns": null,
            "grid_auto_flow": null,
            "grid_auto_rows": null,
            "grid_column": null,
            "grid_gap": null,
            "grid_row": null,
            "grid_template_areas": null,
            "grid_template_columns": null,
            "grid_template_rows": null,
            "height": null,
            "justify_content": null,
            "justify_items": null,
            "left": null,
            "margin": null,
            "max_height": null,
            "max_width": null,
            "min_height": null,
            "min_width": null,
            "object_fit": null,
            "object_position": null,
            "order": null,
            "overflow": null,
            "overflow_x": null,
            "overflow_y": null,
            "padding": null,
            "right": null,
            "top": null,
            "visibility": null,
            "width": null
          }
        },
        "009a7df08f2741ef89d7a158f6b048ab": {
          "model_module": "@jupyter-widgets/controls",
          "model_name": "DescriptionStyleModel",
          "model_module_version": "1.5.0",
          "state": {
            "_model_module": "@jupyter-widgets/controls",
            "_model_module_version": "1.5.0",
            "_model_name": "DescriptionStyleModel",
            "_view_count": null,
            "_view_module": "@jupyter-widgets/base",
            "_view_module_version": "1.2.0",
            "_view_name": "StyleView",
            "description_width": ""
          }
        },
        "f4e089b1407f4d2d953924d3a634805a": {
          "model_module": "@jupyter-widgets/base",
          "model_name": "LayoutModel",
          "model_module_version": "1.2.0",
          "state": {
            "_model_module": "@jupyter-widgets/base",
            "_model_module_version": "1.2.0",
            "_model_name": "LayoutModel",
            "_view_count": null,
            "_view_module": "@jupyter-widgets/base",
            "_view_module_version": "1.2.0",
            "_view_name": "LayoutView",
            "align_content": null,
            "align_items": null,
            "align_self": null,
            "border": null,
            "bottom": null,
            "display": null,
            "flex": null,
            "flex_flow": null,
            "grid_area": null,
            "grid_auto_columns": null,
            "grid_auto_flow": null,
            "grid_auto_rows": null,
            "grid_column": null,
            "grid_gap": null,
            "grid_row": null,
            "grid_template_areas": null,
            "grid_template_columns": null,
            "grid_template_rows": null,
            "height": null,
            "justify_content": null,
            "justify_items": null,
            "left": null,
            "margin": null,
            "max_height": null,
            "max_width": null,
            "min_height": null,
            "min_width": null,
            "object_fit": null,
            "object_position": null,
            "order": null,
            "overflow": null,
            "overflow_x": null,
            "overflow_y": null,
            "padding": null,
            "right": null,
            "top": null,
            "visibility": null,
            "width": null
          }
        },
        "0bb025f318c5454792155b205855bc1f": {
          "model_module": "@jupyter-widgets/controls",
          "model_name": "ProgressStyleModel",
          "model_module_version": "1.5.0",
          "state": {
            "_model_module": "@jupyter-widgets/controls",
            "_model_module_version": "1.5.0",
            "_model_name": "ProgressStyleModel",
            "_view_count": null,
            "_view_module": "@jupyter-widgets/base",
            "_view_module_version": "1.2.0",
            "_view_name": "StyleView",
            "bar_color": null,
            "description_width": ""
          }
        },
        "b8ebb19aa92d4dfa954c142a601aa83c": {
          "model_module": "@jupyter-widgets/base",
          "model_name": "LayoutModel",
          "model_module_version": "1.2.0",
          "state": {
            "_model_module": "@jupyter-widgets/base",
            "_model_module_version": "1.2.0",
            "_model_name": "LayoutModel",
            "_view_count": null,
            "_view_module": "@jupyter-widgets/base",
            "_view_module_version": "1.2.0",
            "_view_name": "LayoutView",
            "align_content": null,
            "align_items": null,
            "align_self": null,
            "border": null,
            "bottom": null,
            "display": null,
            "flex": null,
            "flex_flow": null,
            "grid_area": null,
            "grid_auto_columns": null,
            "grid_auto_flow": null,
            "grid_auto_rows": null,
            "grid_column": null,
            "grid_gap": null,
            "grid_row": null,
            "grid_template_areas": null,
            "grid_template_columns": null,
            "grid_template_rows": null,
            "height": null,
            "justify_content": null,
            "justify_items": null,
            "left": null,
            "margin": null,
            "max_height": null,
            "max_width": null,
            "min_height": null,
            "min_width": null,
            "object_fit": null,
            "object_position": null,
            "order": null,
            "overflow": null,
            "overflow_x": null,
            "overflow_y": null,
            "padding": null,
            "right": null,
            "top": null,
            "visibility": null,
            "width": null
          }
        },
        "ca03edfea32c4946bfe1af1fc67d1cbb": {
          "model_module": "@jupyter-widgets/controls",
          "model_name": "DescriptionStyleModel",
          "model_module_version": "1.5.0",
          "state": {
            "_model_module": "@jupyter-widgets/controls",
            "_model_module_version": "1.5.0",
            "_model_name": "DescriptionStyleModel",
            "_view_count": null,
            "_view_module": "@jupyter-widgets/base",
            "_view_module_version": "1.2.0",
            "_view_name": "StyleView",
            "description_width": ""
          }
        },
        "be2e4c61b98c40a0a68d70ac6c23d303": {
          "model_module": "@jupyter-widgets/controls",
          "model_name": "HBoxModel",
          "model_module_version": "1.5.0",
          "state": {
            "_dom_classes": [],
            "_model_module": "@jupyter-widgets/controls",
            "_model_module_version": "1.5.0",
            "_model_name": "HBoxModel",
            "_view_count": null,
            "_view_module": "@jupyter-widgets/controls",
            "_view_module_version": "1.5.0",
            "_view_name": "HBoxView",
            "box_style": "",
            "children": [
              "IPY_MODEL_d23698faf53549e5985af0ed0dd0ba2d",
              "IPY_MODEL_de5ed56a14f640b598643bc601320afb",
              "IPY_MODEL_0c7305da47394d489ea677630524f2c2"
            ],
            "layout": "IPY_MODEL_257ff2fa53214ac99f1dbf32530e18e5"
          }
        },
        "d23698faf53549e5985af0ed0dd0ba2d": {
          "model_module": "@jupyter-widgets/controls",
          "model_name": "HTMLModel",
          "model_module_version": "1.5.0",
          "state": {
            "_dom_classes": [],
            "_model_module": "@jupyter-widgets/controls",
            "_model_module_version": "1.5.0",
            "_model_name": "HTMLModel",
            "_view_count": null,
            "_view_module": "@jupyter-widgets/controls",
            "_view_module_version": "1.5.0",
            "_view_name": "HTMLView",
            "description": "",
            "description_tooltip": null,
            "layout": "IPY_MODEL_83829842ef1c4324ad1feb0a1ca0f1a6",
            "placeholder": "​",
            "style": "IPY_MODEL_13f280e689994c9bb3d149fcd28ce2a2",
            "value": "Downloading data: 100%"
          }
        },
        "de5ed56a14f640b598643bc601320afb": {
          "model_module": "@jupyter-widgets/controls",
          "model_name": "FloatProgressModel",
          "model_module_version": "1.5.0",
          "state": {
            "_dom_classes": [],
            "_model_module": "@jupyter-widgets/controls",
            "_model_module_version": "1.5.0",
            "_model_name": "FloatProgressModel",
            "_view_count": null,
            "_view_module": "@jupyter-widgets/controls",
            "_view_module_version": "1.5.0",
            "_view_name": "ProgressView",
            "bar_style": "success",
            "description": "",
            "description_tooltip": null,
            "layout": "IPY_MODEL_56f8af8fb5e74a96934c78ea91e3232b",
            "max": 261699,
            "min": 0,
            "orientation": "horizontal",
            "style": "IPY_MODEL_835c7e5bf3994e2084b0032c21a8f950",
            "value": 261699
          }
        },
        "0c7305da47394d489ea677630524f2c2": {
          "model_module": "@jupyter-widgets/controls",
          "model_name": "HTMLModel",
          "model_module_version": "1.5.0",
          "state": {
            "_dom_classes": [],
            "_model_module": "@jupyter-widgets/controls",
            "_model_module_version": "1.5.0",
            "_model_name": "HTMLModel",
            "_view_count": null,
            "_view_module": "@jupyter-widgets/controls",
            "_view_module_version": "1.5.0",
            "_view_name": "HTMLView",
            "description": "",
            "description_tooltip": null,
            "layout": "IPY_MODEL_57d3407b4d6c4a4a8cbe55c88559dce8",
            "placeholder": "​",
            "style": "IPY_MODEL_78e9de8bd09e400c892b2cfafda25594",
            "value": " 262k/262k [00:00&lt;00:00, 1.65MB/s]"
          }
        },
        "257ff2fa53214ac99f1dbf32530e18e5": {
          "model_module": "@jupyter-widgets/base",
          "model_name": "LayoutModel",
          "model_module_version": "1.2.0",
          "state": {
            "_model_module": "@jupyter-widgets/base",
            "_model_module_version": "1.2.0",
            "_model_name": "LayoutModel",
            "_view_count": null,
            "_view_module": "@jupyter-widgets/base",
            "_view_module_version": "1.2.0",
            "_view_name": "LayoutView",
            "align_content": null,
            "align_items": null,
            "align_self": null,
            "border": null,
            "bottom": null,
            "display": null,
            "flex": null,
            "flex_flow": null,
            "grid_area": null,
            "grid_auto_columns": null,
            "grid_auto_flow": null,
            "grid_auto_rows": null,
            "grid_column": null,
            "grid_gap": null,
            "grid_row": null,
            "grid_template_areas": null,
            "grid_template_columns": null,
            "grid_template_rows": null,
            "height": null,
            "justify_content": null,
            "justify_items": null,
            "left": null,
            "margin": null,
            "max_height": null,
            "max_width": null,
            "min_height": null,
            "min_width": null,
            "object_fit": null,
            "object_position": null,
            "order": null,
            "overflow": null,
            "overflow_x": null,
            "overflow_y": null,
            "padding": null,
            "right": null,
            "top": null,
            "visibility": null,
            "width": null
          }
        },
        "83829842ef1c4324ad1feb0a1ca0f1a6": {
          "model_module": "@jupyter-widgets/base",
          "model_name": "LayoutModel",
          "model_module_version": "1.2.0",
          "state": {
            "_model_module": "@jupyter-widgets/base",
            "_model_module_version": "1.2.0",
            "_model_name": "LayoutModel",
            "_view_count": null,
            "_view_module": "@jupyter-widgets/base",
            "_view_module_version": "1.2.0",
            "_view_name": "LayoutView",
            "align_content": null,
            "align_items": null,
            "align_self": null,
            "border": null,
            "bottom": null,
            "display": null,
            "flex": null,
            "flex_flow": null,
            "grid_area": null,
            "grid_auto_columns": null,
            "grid_auto_flow": null,
            "grid_auto_rows": null,
            "grid_column": null,
            "grid_gap": null,
            "grid_row": null,
            "grid_template_areas": null,
            "grid_template_columns": null,
            "grid_template_rows": null,
            "height": null,
            "justify_content": null,
            "justify_items": null,
            "left": null,
            "margin": null,
            "max_height": null,
            "max_width": null,
            "min_height": null,
            "min_width": null,
            "object_fit": null,
            "object_position": null,
            "order": null,
            "overflow": null,
            "overflow_x": null,
            "overflow_y": null,
            "padding": null,
            "right": null,
            "top": null,
            "visibility": null,
            "width": null
          }
        },
        "13f280e689994c9bb3d149fcd28ce2a2": {
          "model_module": "@jupyter-widgets/controls",
          "model_name": "DescriptionStyleModel",
          "model_module_version": "1.5.0",
          "state": {
            "_model_module": "@jupyter-widgets/controls",
            "_model_module_version": "1.5.0",
            "_model_name": "DescriptionStyleModel",
            "_view_count": null,
            "_view_module": "@jupyter-widgets/base",
            "_view_module_version": "1.2.0",
            "_view_name": "StyleView",
            "description_width": ""
          }
        },
        "56f8af8fb5e74a96934c78ea91e3232b": {
          "model_module": "@jupyter-widgets/base",
          "model_name": "LayoutModel",
          "model_module_version": "1.2.0",
          "state": {
            "_model_module": "@jupyter-widgets/base",
            "_model_module_version": "1.2.0",
            "_model_name": "LayoutModel",
            "_view_count": null,
            "_view_module": "@jupyter-widgets/base",
            "_view_module_version": "1.2.0",
            "_view_name": "LayoutView",
            "align_content": null,
            "align_items": null,
            "align_self": null,
            "border": null,
            "bottom": null,
            "display": null,
            "flex": null,
            "flex_flow": null,
            "grid_area": null,
            "grid_auto_columns": null,
            "grid_auto_flow": null,
            "grid_auto_rows": null,
            "grid_column": null,
            "grid_gap": null,
            "grid_row": null,
            "grid_template_areas": null,
            "grid_template_columns": null,
            "grid_template_rows": null,
            "height": null,
            "justify_content": null,
            "justify_items": null,
            "left": null,
            "margin": null,
            "max_height": null,
            "max_width": null,
            "min_height": null,
            "min_width": null,
            "object_fit": null,
            "object_position": null,
            "order": null,
            "overflow": null,
            "overflow_x": null,
            "overflow_y": null,
            "padding": null,
            "right": null,
            "top": null,
            "visibility": null,
            "width": null
          }
        },
        "835c7e5bf3994e2084b0032c21a8f950": {
          "model_module": "@jupyter-widgets/controls",
          "model_name": "ProgressStyleModel",
          "model_module_version": "1.5.0",
          "state": {
            "_model_module": "@jupyter-widgets/controls",
            "_model_module_version": "1.5.0",
            "_model_name": "ProgressStyleModel",
            "_view_count": null,
            "_view_module": "@jupyter-widgets/base",
            "_view_module_version": "1.2.0",
            "_view_name": "StyleView",
            "bar_color": null,
            "description_width": ""
          }
        },
        "57d3407b4d6c4a4a8cbe55c88559dce8": {
          "model_module": "@jupyter-widgets/base",
          "model_name": "LayoutModel",
          "model_module_version": "1.2.0",
          "state": {
            "_model_module": "@jupyter-widgets/base",
            "_model_module_version": "1.2.0",
            "_model_name": "LayoutModel",
            "_view_count": null,
            "_view_module": "@jupyter-widgets/base",
            "_view_module_version": "1.2.0",
            "_view_name": "LayoutView",
            "align_content": null,
            "align_items": null,
            "align_self": null,
            "border": null,
            "bottom": null,
            "display": null,
            "flex": null,
            "flex_flow": null,
            "grid_area": null,
            "grid_auto_columns": null,
            "grid_auto_flow": null,
            "grid_auto_rows": null,
            "grid_column": null,
            "grid_gap": null,
            "grid_row": null,
            "grid_template_areas": null,
            "grid_template_columns": null,
            "grid_template_rows": null,
            "height": null,
            "justify_content": null,
            "justify_items": null,
            "left": null,
            "margin": null,
            "max_height": null,
            "max_width": null,
            "min_height": null,
            "min_width": null,
            "object_fit": null,
            "object_position": null,
            "order": null,
            "overflow": null,
            "overflow_x": null,
            "overflow_y": null,
            "padding": null,
            "right": null,
            "top": null,
            "visibility": null,
            "width": null
          }
        },
        "78e9de8bd09e400c892b2cfafda25594": {
          "model_module": "@jupyter-widgets/controls",
          "model_name": "DescriptionStyleModel",
          "model_module_version": "1.5.0",
          "state": {
            "_model_module": "@jupyter-widgets/controls",
            "_model_module_version": "1.5.0",
            "_model_name": "DescriptionStyleModel",
            "_view_count": null,
            "_view_module": "@jupyter-widgets/base",
            "_view_module_version": "1.2.0",
            "_view_name": "StyleView",
            "description_width": ""
          }
        },
        "057368fa0b3a40a5910af9adc74d05c7": {
          "model_module": "@jupyter-widgets/controls",
          "model_name": "HBoxModel",
          "model_module_version": "1.5.0",
          "state": {
            "_dom_classes": [],
            "_model_module": "@jupyter-widgets/controls",
            "_model_module_version": "1.5.0",
            "_model_name": "HBoxModel",
            "_view_count": null,
            "_view_module": "@jupyter-widgets/controls",
            "_view_module_version": "1.5.0",
            "_view_name": "HBoxView",
            "box_style": "",
            "children": [
              "IPY_MODEL_b32f358fd5224523bd92f1f0fe75ba27",
              "IPY_MODEL_edb00a6d941f4f218e47c5be2835d28a",
              "IPY_MODEL_df0dcebf0e0f4e0b8a4161b177c7b4e4"
            ],
            "layout": "IPY_MODEL_a122730b505d4457a381e4fd3b7638d2"
          }
        },
        "b32f358fd5224523bd92f1f0fe75ba27": {
          "model_module": "@jupyter-widgets/controls",
          "model_name": "HTMLModel",
          "model_module_version": "1.5.0",
          "state": {
            "_dom_classes": [],
            "_model_module": "@jupyter-widgets/controls",
            "_model_module_version": "1.5.0",
            "_model_name": "HTMLModel",
            "_view_count": null,
            "_view_module": "@jupyter-widgets/controls",
            "_view_module_version": "1.5.0",
            "_view_name": "HTMLView",
            "description": "",
            "description_tooltip": null,
            "layout": "IPY_MODEL_3e582953732f46e59ff19c198efe3a91",
            "placeholder": "​",
            "style": "IPY_MODEL_3f65e3c567964bc0bf5f121ea1834b80",
            "value": "Downloading data: 100%"
          }
        },
        "edb00a6d941f4f218e47c5be2835d28a": {
          "model_module": "@jupyter-widgets/controls",
          "model_name": "FloatProgressModel",
          "model_module_version": "1.5.0",
          "state": {
            "_dom_classes": [],
            "_model_module": "@jupyter-widgets/controls",
            "_model_module_version": "1.5.0",
            "_model_name": "FloatProgressModel",
            "_view_count": null,
            "_view_module": "@jupyter-widgets/controls",
            "_view_module_version": "1.5.0",
            "_view_name": "ProgressView",
            "bar_style": "success",
            "description": "",
            "description_tooltip": null,
            "layout": "IPY_MODEL_3df80cc8ac0546a0a3839f87290bd88f",
            "max": 235756,
            "min": 0,
            "orientation": "horizontal",
            "style": "IPY_MODEL_a30e67d6ffd3489ab91e04931d1543f2",
            "value": 235756
          }
        },
        "df0dcebf0e0f4e0b8a4161b177c7b4e4": {
          "model_module": "@jupyter-widgets/controls",
          "model_name": "HTMLModel",
          "model_module_version": "1.5.0",
          "state": {
            "_dom_classes": [],
            "_model_module": "@jupyter-widgets/controls",
            "_model_module_version": "1.5.0",
            "_model_name": "HTMLModel",
            "_view_count": null,
            "_view_module": "@jupyter-widgets/controls",
            "_view_module_version": "1.5.0",
            "_view_name": "HTMLView",
            "description": "",
            "description_tooltip": null,
            "layout": "IPY_MODEL_aea0d5b0fe9843339f02a60d42cf6789",
            "placeholder": "​",
            "style": "IPY_MODEL_79f188162c7e412b8bddc68c1da3de67",
            "value": " 236k/236k [00:00&lt;00:00, 1.15MB/s]"
          }
        },
        "a122730b505d4457a381e4fd3b7638d2": {
          "model_module": "@jupyter-widgets/base",
          "model_name": "LayoutModel",
          "model_module_version": "1.2.0",
          "state": {
            "_model_module": "@jupyter-widgets/base",
            "_model_module_version": "1.2.0",
            "_model_name": "LayoutModel",
            "_view_count": null,
            "_view_module": "@jupyter-widgets/base",
            "_view_module_version": "1.2.0",
            "_view_name": "LayoutView",
            "align_content": null,
            "align_items": null,
            "align_self": null,
            "border": null,
            "bottom": null,
            "display": null,
            "flex": null,
            "flex_flow": null,
            "grid_area": null,
            "grid_auto_columns": null,
            "grid_auto_flow": null,
            "grid_auto_rows": null,
            "grid_column": null,
            "grid_gap": null,
            "grid_row": null,
            "grid_template_areas": null,
            "grid_template_columns": null,
            "grid_template_rows": null,
            "height": null,
            "justify_content": null,
            "justify_items": null,
            "left": null,
            "margin": null,
            "max_height": null,
            "max_width": null,
            "min_height": null,
            "min_width": null,
            "object_fit": null,
            "object_position": null,
            "order": null,
            "overflow": null,
            "overflow_x": null,
            "overflow_y": null,
            "padding": null,
            "right": null,
            "top": null,
            "visibility": null,
            "width": null
          }
        },
        "3e582953732f46e59ff19c198efe3a91": {
          "model_module": "@jupyter-widgets/base",
          "model_name": "LayoutModel",
          "model_module_version": "1.2.0",
          "state": {
            "_model_module": "@jupyter-widgets/base",
            "_model_module_version": "1.2.0",
            "_model_name": "LayoutModel",
            "_view_count": null,
            "_view_module": "@jupyter-widgets/base",
            "_view_module_version": "1.2.0",
            "_view_name": "LayoutView",
            "align_content": null,
            "align_items": null,
            "align_self": null,
            "border": null,
            "bottom": null,
            "display": null,
            "flex": null,
            "flex_flow": null,
            "grid_area": null,
            "grid_auto_columns": null,
            "grid_auto_flow": null,
            "grid_auto_rows": null,
            "grid_column": null,
            "grid_gap": null,
            "grid_row": null,
            "grid_template_areas": null,
            "grid_template_columns": null,
            "grid_template_rows": null,
            "height": null,
            "justify_content": null,
            "justify_items": null,
            "left": null,
            "margin": null,
            "max_height": null,
            "max_width": null,
            "min_height": null,
            "min_width": null,
            "object_fit": null,
            "object_position": null,
            "order": null,
            "overflow": null,
            "overflow_x": null,
            "overflow_y": null,
            "padding": null,
            "right": null,
            "top": null,
            "visibility": null,
            "width": null
          }
        },
        "3f65e3c567964bc0bf5f121ea1834b80": {
          "model_module": "@jupyter-widgets/controls",
          "model_name": "DescriptionStyleModel",
          "model_module_version": "1.5.0",
          "state": {
            "_model_module": "@jupyter-widgets/controls",
            "_model_module_version": "1.5.0",
            "_model_name": "DescriptionStyleModel",
            "_view_count": null,
            "_view_module": "@jupyter-widgets/base",
            "_view_module_version": "1.2.0",
            "_view_name": "StyleView",
            "description_width": ""
          }
        },
        "3df80cc8ac0546a0a3839f87290bd88f": {
          "model_module": "@jupyter-widgets/base",
          "model_name": "LayoutModel",
          "model_module_version": "1.2.0",
          "state": {
            "_model_module": "@jupyter-widgets/base",
            "_model_module_version": "1.2.0",
            "_model_name": "LayoutModel",
            "_view_count": null,
            "_view_module": "@jupyter-widgets/base",
            "_view_module_version": "1.2.0",
            "_view_name": "LayoutView",
            "align_content": null,
            "align_items": null,
            "align_self": null,
            "border": null,
            "bottom": null,
            "display": null,
            "flex": null,
            "flex_flow": null,
            "grid_area": null,
            "grid_auto_columns": null,
            "grid_auto_flow": null,
            "grid_auto_rows": null,
            "grid_column": null,
            "grid_gap": null,
            "grid_row": null,
            "grid_template_areas": null,
            "grid_template_columns": null,
            "grid_template_rows": null,
            "height": null,
            "justify_content": null,
            "justify_items": null,
            "left": null,
            "margin": null,
            "max_height": null,
            "max_width": null,
            "min_height": null,
            "min_width": null,
            "object_fit": null,
            "object_position": null,
            "order": null,
            "overflow": null,
            "overflow_x": null,
            "overflow_y": null,
            "padding": null,
            "right": null,
            "top": null,
            "visibility": null,
            "width": null
          }
        },
        "a30e67d6ffd3489ab91e04931d1543f2": {
          "model_module": "@jupyter-widgets/controls",
          "model_name": "ProgressStyleModel",
          "model_module_version": "1.5.0",
          "state": {
            "_model_module": "@jupyter-widgets/controls",
            "_model_module_version": "1.5.0",
            "_model_name": "ProgressStyleModel",
            "_view_count": null,
            "_view_module": "@jupyter-widgets/base",
            "_view_module_version": "1.2.0",
            "_view_name": "StyleView",
            "bar_color": null,
            "description_width": ""
          }
        },
        "aea0d5b0fe9843339f02a60d42cf6789": {
          "model_module": "@jupyter-widgets/base",
          "model_name": "LayoutModel",
          "model_module_version": "1.2.0",
          "state": {
            "_model_module": "@jupyter-widgets/base",
            "_model_module_version": "1.2.0",
            "_model_name": "LayoutModel",
            "_view_count": null,
            "_view_module": "@jupyter-widgets/base",
            "_view_module_version": "1.2.0",
            "_view_name": "LayoutView",
            "align_content": null,
            "align_items": null,
            "align_self": null,
            "border": null,
            "bottom": null,
            "display": null,
            "flex": null,
            "flex_flow": null,
            "grid_area": null,
            "grid_auto_columns": null,
            "grid_auto_flow": null,
            "grid_auto_rows": null,
            "grid_column": null,
            "grid_gap": null,
            "grid_row": null,
            "grid_template_areas": null,
            "grid_template_columns": null,
            "grid_template_rows": null,
            "height": null,
            "justify_content": null,
            "justify_items": null,
            "left": null,
            "margin": null,
            "max_height": null,
            "max_width": null,
            "min_height": null,
            "min_width": null,
            "object_fit": null,
            "object_position": null,
            "order": null,
            "overflow": null,
            "overflow_x": null,
            "overflow_y": null,
            "padding": null,
            "right": null,
            "top": null,
            "visibility": null,
            "width": null
          }
        },
        "79f188162c7e412b8bddc68c1da3de67": {
          "model_module": "@jupyter-widgets/controls",
          "model_name": "DescriptionStyleModel",
          "model_module_version": "1.5.0",
          "state": {
            "_model_module": "@jupyter-widgets/controls",
            "_model_module_version": "1.5.0",
            "_model_name": "DescriptionStyleModel",
            "_view_count": null,
            "_view_module": "@jupyter-widgets/base",
            "_view_module_version": "1.2.0",
            "_view_name": "StyleView",
            "description_width": ""
          }
        },
        "f8548889aa5c43d89df477a539115b8f": {
          "model_module": "@jupyter-widgets/controls",
          "model_name": "HBoxModel",
          "model_module_version": "1.5.0",
          "state": {
            "_dom_classes": [],
            "_model_module": "@jupyter-widgets/controls",
            "_model_module_version": "1.5.0",
            "_model_name": "HBoxModel",
            "_view_count": null,
            "_view_module": "@jupyter-widgets/controls",
            "_view_module_version": "1.5.0",
            "_view_name": "HBoxView",
            "box_style": "",
            "children": [
              "IPY_MODEL_7c695b0b166348169f6e2a07747895e5",
              "IPY_MODEL_de89af332f584ebca3bebf7e0a7fe1f0",
              "IPY_MODEL_6a31ec78c20c49469bae3d8d29538782"
            ],
            "layout": "IPY_MODEL_db9af8662d1c463ca346d8fe8832ab77"
          }
        },
        "7c695b0b166348169f6e2a07747895e5": {
          "model_module": "@jupyter-widgets/controls",
          "model_name": "HTMLModel",
          "model_module_version": "1.5.0",
          "state": {
            "_dom_classes": [],
            "_model_module": "@jupyter-widgets/controls",
            "_model_module_version": "1.5.0",
            "_model_name": "HTMLModel",
            "_view_count": null,
            "_view_module": "@jupyter-widgets/controls",
            "_view_module_version": "1.5.0",
            "_view_name": "HTMLView",
            "description": "",
            "description_tooltip": null,
            "layout": "IPY_MODEL_19210866a78f4fd09c8aa938976667d8",
            "placeholder": "​",
            "style": "IPY_MODEL_c1b590809101470c837eefb9844e80c7",
            "value": "Generating train split: 100%"
          }
        },
        "de89af332f584ebca3bebf7e0a7fe1f0": {
          "model_module": "@jupyter-widgets/controls",
          "model_name": "FloatProgressModel",
          "model_module_version": "1.5.0",
          "state": {
            "_dom_classes": [],
            "_model_module": "@jupyter-widgets/controls",
            "_model_module_version": "1.5.0",
            "_model_name": "FloatProgressModel",
            "_view_count": null,
            "_view_module": "@jupyter-widgets/controls",
            "_view_module_version": "1.5.0",
            "_view_name": "ProgressView",
            "bar_style": "success",
            "description": "",
            "description_tooltip": null,
            "layout": "IPY_MODEL_e5a079fe81cd48deb0cf686cf61aaf54",
            "max": 42068,
            "min": 0,
            "orientation": "horizontal",
            "style": "IPY_MODEL_7e161f6985444ff08c38bd7645712852",
            "value": 42068
          }
        },
        "6a31ec78c20c49469bae3d8d29538782": {
          "model_module": "@jupyter-widgets/controls",
          "model_name": "HTMLModel",
          "model_module_version": "1.5.0",
          "state": {
            "_dom_classes": [],
            "_model_module": "@jupyter-widgets/controls",
            "_model_module_version": "1.5.0",
            "_model_name": "HTMLModel",
            "_view_count": null,
            "_view_module": "@jupyter-widgets/controls",
            "_view_module_version": "1.5.0",
            "_view_name": "HTMLView",
            "description": "",
            "description_tooltip": null,
            "layout": "IPY_MODEL_4dbc21fb19e24ffe8394326dc39d7865",
            "placeholder": "​",
            "style": "IPY_MODEL_b909703706f14c5894fcdc1b28b01e93",
            "value": " 42068/42068 [00:00&lt;00:00, 9384.76 examples/s]"
          }
        },
        "db9af8662d1c463ca346d8fe8832ab77": {
          "model_module": "@jupyter-widgets/base",
          "model_name": "LayoutModel",
          "model_module_version": "1.2.0",
          "state": {
            "_model_module": "@jupyter-widgets/base",
            "_model_module_version": "1.2.0",
            "_model_name": "LayoutModel",
            "_view_count": null,
            "_view_module": "@jupyter-widgets/base",
            "_view_module_version": "1.2.0",
            "_view_name": "LayoutView",
            "align_content": null,
            "align_items": null,
            "align_self": null,
            "border": null,
            "bottom": null,
            "display": null,
            "flex": null,
            "flex_flow": null,
            "grid_area": null,
            "grid_auto_columns": null,
            "grid_auto_flow": null,
            "grid_auto_rows": null,
            "grid_column": null,
            "grid_gap": null,
            "grid_row": null,
            "grid_template_areas": null,
            "grid_template_columns": null,
            "grid_template_rows": null,
            "height": null,
            "justify_content": null,
            "justify_items": null,
            "left": null,
            "margin": null,
            "max_height": null,
            "max_width": null,
            "min_height": null,
            "min_width": null,
            "object_fit": null,
            "object_position": null,
            "order": null,
            "overflow": null,
            "overflow_x": null,
            "overflow_y": null,
            "padding": null,
            "right": null,
            "top": null,
            "visibility": null,
            "width": null
          }
        },
        "19210866a78f4fd09c8aa938976667d8": {
          "model_module": "@jupyter-widgets/base",
          "model_name": "LayoutModel",
          "model_module_version": "1.2.0",
          "state": {
            "_model_module": "@jupyter-widgets/base",
            "_model_module_version": "1.2.0",
            "_model_name": "LayoutModel",
            "_view_count": null,
            "_view_module": "@jupyter-widgets/base",
            "_view_module_version": "1.2.0",
            "_view_name": "LayoutView",
            "align_content": null,
            "align_items": null,
            "align_self": null,
            "border": null,
            "bottom": null,
            "display": null,
            "flex": null,
            "flex_flow": null,
            "grid_area": null,
            "grid_auto_columns": null,
            "grid_auto_flow": null,
            "grid_auto_rows": null,
            "grid_column": null,
            "grid_gap": null,
            "grid_row": null,
            "grid_template_areas": null,
            "grid_template_columns": null,
            "grid_template_rows": null,
            "height": null,
            "justify_content": null,
            "justify_items": null,
            "left": null,
            "margin": null,
            "max_height": null,
            "max_width": null,
            "min_height": null,
            "min_width": null,
            "object_fit": null,
            "object_position": null,
            "order": null,
            "overflow": null,
            "overflow_x": null,
            "overflow_y": null,
            "padding": null,
            "right": null,
            "top": null,
            "visibility": null,
            "width": null
          }
        },
        "c1b590809101470c837eefb9844e80c7": {
          "model_module": "@jupyter-widgets/controls",
          "model_name": "DescriptionStyleModel",
          "model_module_version": "1.5.0",
          "state": {
            "_model_module": "@jupyter-widgets/controls",
            "_model_module_version": "1.5.0",
            "_model_name": "DescriptionStyleModel",
            "_view_count": null,
            "_view_module": "@jupyter-widgets/base",
            "_view_module_version": "1.2.0",
            "_view_name": "StyleView",
            "description_width": ""
          }
        },
        "e5a079fe81cd48deb0cf686cf61aaf54": {
          "model_module": "@jupyter-widgets/base",
          "model_name": "LayoutModel",
          "model_module_version": "1.2.0",
          "state": {
            "_model_module": "@jupyter-widgets/base",
            "_model_module_version": "1.2.0",
            "_model_name": "LayoutModel",
            "_view_count": null,
            "_view_module": "@jupyter-widgets/base",
            "_view_module_version": "1.2.0",
            "_view_name": "LayoutView",
            "align_content": null,
            "align_items": null,
            "align_self": null,
            "border": null,
            "bottom": null,
            "display": null,
            "flex": null,
            "flex_flow": null,
            "grid_area": null,
            "grid_auto_columns": null,
            "grid_auto_flow": null,
            "grid_auto_rows": null,
            "grid_column": null,
            "grid_gap": null,
            "grid_row": null,
            "grid_template_areas": null,
            "grid_template_columns": null,
            "grid_template_rows": null,
            "height": null,
            "justify_content": null,
            "justify_items": null,
            "left": null,
            "margin": null,
            "max_height": null,
            "max_width": null,
            "min_height": null,
            "min_width": null,
            "object_fit": null,
            "object_position": null,
            "order": null,
            "overflow": null,
            "overflow_x": null,
            "overflow_y": null,
            "padding": null,
            "right": null,
            "top": null,
            "visibility": null,
            "width": null
          }
        },
        "7e161f6985444ff08c38bd7645712852": {
          "model_module": "@jupyter-widgets/controls",
          "model_name": "ProgressStyleModel",
          "model_module_version": "1.5.0",
          "state": {
            "_model_module": "@jupyter-widgets/controls",
            "_model_module_version": "1.5.0",
            "_model_name": "ProgressStyleModel",
            "_view_count": null,
            "_view_module": "@jupyter-widgets/base",
            "_view_module_version": "1.2.0",
            "_view_name": "StyleView",
            "bar_color": null,
            "description_width": ""
          }
        },
        "4dbc21fb19e24ffe8394326dc39d7865": {
          "model_module": "@jupyter-widgets/base",
          "model_name": "LayoutModel",
          "model_module_version": "1.2.0",
          "state": {
            "_model_module": "@jupyter-widgets/base",
            "_model_module_version": "1.2.0",
            "_model_name": "LayoutModel",
            "_view_count": null,
            "_view_module": "@jupyter-widgets/base",
            "_view_module_version": "1.2.0",
            "_view_name": "LayoutView",
            "align_content": null,
            "align_items": null,
            "align_self": null,
            "border": null,
            "bottom": null,
            "display": null,
            "flex": null,
            "flex_flow": null,
            "grid_area": null,
            "grid_auto_columns": null,
            "grid_auto_flow": null,
            "grid_auto_rows": null,
            "grid_column": null,
            "grid_gap": null,
            "grid_row": null,
            "grid_template_areas": null,
            "grid_template_columns": null,
            "grid_template_rows": null,
            "height": null,
            "justify_content": null,
            "justify_items": null,
            "left": null,
            "margin": null,
            "max_height": null,
            "max_width": null,
            "min_height": null,
            "min_width": null,
            "object_fit": null,
            "object_position": null,
            "order": null,
            "overflow": null,
            "overflow_x": null,
            "overflow_y": null,
            "padding": null,
            "right": null,
            "top": null,
            "visibility": null,
            "width": null
          }
        },
        "b909703706f14c5894fcdc1b28b01e93": {
          "model_module": "@jupyter-widgets/controls",
          "model_name": "DescriptionStyleModel",
          "model_module_version": "1.5.0",
          "state": {
            "_model_module": "@jupyter-widgets/controls",
            "_model_module_version": "1.5.0",
            "_model_name": "DescriptionStyleModel",
            "_view_count": null,
            "_view_module": "@jupyter-widgets/base",
            "_view_module_version": "1.2.0",
            "_view_name": "StyleView",
            "description_width": ""
          }
        },
        "40e495a753cc4501ad17f310a01e3ddd": {
          "model_module": "@jupyter-widgets/controls",
          "model_name": "HBoxModel",
          "model_module_version": "1.5.0",
          "state": {
            "_dom_classes": [],
            "_model_module": "@jupyter-widgets/controls",
            "_model_module_version": "1.5.0",
            "_model_name": "HBoxModel",
            "_view_count": null,
            "_view_module": "@jupyter-widgets/controls",
            "_view_module_version": "1.5.0",
            "_view_name": "HBoxView",
            "box_style": "",
            "children": [
              "IPY_MODEL_d8ccbf63de2e4572885a3f92cbe38afc",
              "IPY_MODEL_c979925d1bad4ab7bb73d735bfd77910",
              "IPY_MODEL_b07744b3f92c41cc81c90af06d7831b7"
            ],
            "layout": "IPY_MODEL_bf6b35585740422a8899168f0ee061dd"
          }
        },
        "d8ccbf63de2e4572885a3f92cbe38afc": {
          "model_module": "@jupyter-widgets/controls",
          "model_name": "HTMLModel",
          "model_module_version": "1.5.0",
          "state": {
            "_dom_classes": [],
            "_model_module": "@jupyter-widgets/controls",
            "_model_module_version": "1.5.0",
            "_model_name": "HTMLModel",
            "_view_count": null,
            "_view_module": "@jupyter-widgets/controls",
            "_view_module_version": "1.5.0",
            "_view_name": "HTMLView",
            "description": "",
            "description_tooltip": null,
            "layout": "IPY_MODEL_8859aa2588ab4ac3a5a04bb318a54127",
            "placeholder": "​",
            "style": "IPY_MODEL_238d06cf3ec74113812e9b358618cdb3",
            "value": "Generating test split: 100%"
          }
        },
        "c979925d1bad4ab7bb73d735bfd77910": {
          "model_module": "@jupyter-widgets/controls",
          "model_name": "FloatProgressModel",
          "model_module_version": "1.5.0",
          "state": {
            "_dom_classes": [],
            "_model_module": "@jupyter-widgets/controls",
            "_model_module_version": "1.5.0",
            "_model_name": "FloatProgressModel",
            "_view_count": null,
            "_view_module": "@jupyter-widgets/controls",
            "_view_module_version": "1.5.0",
            "_view_name": "ProgressView",
            "bar_style": "success",
            "description": "",
            "description_tooltip": null,
            "layout": "IPY_MODEL_f94bec4f6eb842e0a2cf686ea62bc505",
            "max": 3761,
            "min": 0,
            "orientation": "horizontal",
            "style": "IPY_MODEL_7ab258f80b22413dbbb0f3e2e930eff2",
            "value": 3761
          }
        },
        "b07744b3f92c41cc81c90af06d7831b7": {
          "model_module": "@jupyter-widgets/controls",
          "model_name": "HTMLModel",
          "model_module_version": "1.5.0",
          "state": {
            "_dom_classes": [],
            "_model_module": "@jupyter-widgets/controls",
            "_model_module_version": "1.5.0",
            "_model_name": "HTMLModel",
            "_view_count": null,
            "_view_module": "@jupyter-widgets/controls",
            "_view_module_version": "1.5.0",
            "_view_name": "HTMLView",
            "description": "",
            "description_tooltip": null,
            "layout": "IPY_MODEL_b5dce2f4170946089961f5153e6c1472",
            "placeholder": "​",
            "style": "IPY_MODEL_ab07dc428ae94d14a5f77a5aae047b71",
            "value": " 3761/3761 [00:00&lt;00:00, 76524.21 examples/s]"
          }
        },
        "bf6b35585740422a8899168f0ee061dd": {
          "model_module": "@jupyter-widgets/base",
          "model_name": "LayoutModel",
          "model_module_version": "1.2.0",
          "state": {
            "_model_module": "@jupyter-widgets/base",
            "_model_module_version": "1.2.0",
            "_model_name": "LayoutModel",
            "_view_count": null,
            "_view_module": "@jupyter-widgets/base",
            "_view_module_version": "1.2.0",
            "_view_name": "LayoutView",
            "align_content": null,
            "align_items": null,
            "align_self": null,
            "border": null,
            "bottom": null,
            "display": null,
            "flex": null,
            "flex_flow": null,
            "grid_area": null,
            "grid_auto_columns": null,
            "grid_auto_flow": null,
            "grid_auto_rows": null,
            "grid_column": null,
            "grid_gap": null,
            "grid_row": null,
            "grid_template_areas": null,
            "grid_template_columns": null,
            "grid_template_rows": null,
            "height": null,
            "justify_content": null,
            "justify_items": null,
            "left": null,
            "margin": null,
            "max_height": null,
            "max_width": null,
            "min_height": null,
            "min_width": null,
            "object_fit": null,
            "object_position": null,
            "order": null,
            "overflow": null,
            "overflow_x": null,
            "overflow_y": null,
            "padding": null,
            "right": null,
            "top": null,
            "visibility": null,
            "width": null
          }
        },
        "8859aa2588ab4ac3a5a04bb318a54127": {
          "model_module": "@jupyter-widgets/base",
          "model_name": "LayoutModel",
          "model_module_version": "1.2.0",
          "state": {
            "_model_module": "@jupyter-widgets/base",
            "_model_module_version": "1.2.0",
            "_model_name": "LayoutModel",
            "_view_count": null,
            "_view_module": "@jupyter-widgets/base",
            "_view_module_version": "1.2.0",
            "_view_name": "LayoutView",
            "align_content": null,
            "align_items": null,
            "align_self": null,
            "border": null,
            "bottom": null,
            "display": null,
            "flex": null,
            "flex_flow": null,
            "grid_area": null,
            "grid_auto_columns": null,
            "grid_auto_flow": null,
            "grid_auto_rows": null,
            "grid_column": null,
            "grid_gap": null,
            "grid_row": null,
            "grid_template_areas": null,
            "grid_template_columns": null,
            "grid_template_rows": null,
            "height": null,
            "justify_content": null,
            "justify_items": null,
            "left": null,
            "margin": null,
            "max_height": null,
            "max_width": null,
            "min_height": null,
            "min_width": null,
            "object_fit": null,
            "object_position": null,
            "order": null,
            "overflow": null,
            "overflow_x": null,
            "overflow_y": null,
            "padding": null,
            "right": null,
            "top": null,
            "visibility": null,
            "width": null
          }
        },
        "238d06cf3ec74113812e9b358618cdb3": {
          "model_module": "@jupyter-widgets/controls",
          "model_name": "DescriptionStyleModel",
          "model_module_version": "1.5.0",
          "state": {
            "_model_module": "@jupyter-widgets/controls",
            "_model_module_version": "1.5.0",
            "_model_name": "DescriptionStyleModel",
            "_view_count": null,
            "_view_module": "@jupyter-widgets/base",
            "_view_module_version": "1.2.0",
            "_view_name": "StyleView",
            "description_width": ""
          }
        },
        "f94bec4f6eb842e0a2cf686ea62bc505": {
          "model_module": "@jupyter-widgets/base",
          "model_name": "LayoutModel",
          "model_module_version": "1.2.0",
          "state": {
            "_model_module": "@jupyter-widgets/base",
            "_model_module_version": "1.2.0",
            "_model_name": "LayoutModel",
            "_view_count": null,
            "_view_module": "@jupyter-widgets/base",
            "_view_module_version": "1.2.0",
            "_view_name": "LayoutView",
            "align_content": null,
            "align_items": null,
            "align_self": null,
            "border": null,
            "bottom": null,
            "display": null,
            "flex": null,
            "flex_flow": null,
            "grid_area": null,
            "grid_auto_columns": null,
            "grid_auto_flow": null,
            "grid_auto_rows": null,
            "grid_column": null,
            "grid_gap": null,
            "grid_row": null,
            "grid_template_areas": null,
            "grid_template_columns": null,
            "grid_template_rows": null,
            "height": null,
            "justify_content": null,
            "justify_items": null,
            "left": null,
            "margin": null,
            "max_height": null,
            "max_width": null,
            "min_height": null,
            "min_width": null,
            "object_fit": null,
            "object_position": null,
            "order": null,
            "overflow": null,
            "overflow_x": null,
            "overflow_y": null,
            "padding": null,
            "right": null,
            "top": null,
            "visibility": null,
            "width": null
          }
        },
        "7ab258f80b22413dbbb0f3e2e930eff2": {
          "model_module": "@jupyter-widgets/controls",
          "model_name": "ProgressStyleModel",
          "model_module_version": "1.5.0",
          "state": {
            "_model_module": "@jupyter-widgets/controls",
            "_model_module_version": "1.5.0",
            "_model_name": "ProgressStyleModel",
            "_view_count": null,
            "_view_module": "@jupyter-widgets/base",
            "_view_module_version": "1.2.0",
            "_view_name": "StyleView",
            "bar_color": null,
            "description_width": ""
          }
        },
        "b5dce2f4170946089961f5153e6c1472": {
          "model_module": "@jupyter-widgets/base",
          "model_name": "LayoutModel",
          "model_module_version": "1.2.0",
          "state": {
            "_model_module": "@jupyter-widgets/base",
            "_model_module_version": "1.2.0",
            "_model_name": "LayoutModel",
            "_view_count": null,
            "_view_module": "@jupyter-widgets/base",
            "_view_module_version": "1.2.0",
            "_view_name": "LayoutView",
            "align_content": null,
            "align_items": null,
            "align_self": null,
            "border": null,
            "bottom": null,
            "display": null,
            "flex": null,
            "flex_flow": null,
            "grid_area": null,
            "grid_auto_columns": null,
            "grid_auto_flow": null,
            "grid_auto_rows": null,
            "grid_column": null,
            "grid_gap": null,
            "grid_row": null,
            "grid_template_areas": null,
            "grid_template_columns": null,
            "grid_template_rows": null,
            "height": null,
            "justify_content": null,
            "justify_items": null,
            "left": null,
            "margin": null,
            "max_height": null,
            "max_width": null,
            "min_height": null,
            "min_width": null,
            "object_fit": null,
            "object_position": null,
            "order": null,
            "overflow": null,
            "overflow_x": null,
            "overflow_y": null,
            "padding": null,
            "right": null,
            "top": null,
            "visibility": null,
            "width": null
          }
        },
        "ab07dc428ae94d14a5f77a5aae047b71": {
          "model_module": "@jupyter-widgets/controls",
          "model_name": "DescriptionStyleModel",
          "model_module_version": "1.5.0",
          "state": {
            "_model_module": "@jupyter-widgets/controls",
            "_model_module_version": "1.5.0",
            "_model_name": "DescriptionStyleModel",
            "_view_count": null,
            "_view_module": "@jupyter-widgets/base",
            "_view_module_version": "1.2.0",
            "_view_name": "StyleView",
            "description_width": ""
          }
        },
        "d528c1ebc96843a6885c8c203e2d812d": {
          "model_module": "@jupyter-widgets/controls",
          "model_name": "HBoxModel",
          "model_module_version": "1.5.0",
          "state": {
            "_dom_classes": [],
            "_model_module": "@jupyter-widgets/controls",
            "_model_module_version": "1.5.0",
            "_model_name": "HBoxModel",
            "_view_count": null,
            "_view_module": "@jupyter-widgets/controls",
            "_view_module_version": "1.5.0",
            "_view_name": "HBoxView",
            "box_style": "",
            "children": [
              "IPY_MODEL_029e4307a93e4b59aa8bf103c221c98a",
              "IPY_MODEL_3f2aa5e5187e48d589e45db5d07a81f2",
              "IPY_MODEL_88304ce3f5664fec918a07438fb3c729"
            ],
            "layout": "IPY_MODEL_34c27c4c0cdd47d8aad6221a7c70d065"
          }
        },
        "029e4307a93e4b59aa8bf103c221c98a": {
          "model_module": "@jupyter-widgets/controls",
          "model_name": "HTMLModel",
          "model_module_version": "1.5.0",
          "state": {
            "_dom_classes": [],
            "_model_module": "@jupyter-widgets/controls",
            "_model_module_version": "1.5.0",
            "_model_name": "HTMLModel",
            "_view_count": null,
            "_view_module": "@jupyter-widgets/controls",
            "_view_module_version": "1.5.0",
            "_view_name": "HTMLView",
            "description": "",
            "description_tooltip": null,
            "layout": "IPY_MODEL_263f94bc205544abb619f880decebd17",
            "placeholder": "​",
            "style": "IPY_MODEL_f69462e4d6434d5daaaf6bb9f384d5db",
            "value": "Generating validation split: 100%"
          }
        },
        "3f2aa5e5187e48d589e45db5d07a81f2": {
          "model_module": "@jupyter-widgets/controls",
          "model_name": "FloatProgressModel",
          "model_module_version": "1.5.0",
          "state": {
            "_dom_classes": [],
            "_model_module": "@jupyter-widgets/controls",
            "_model_module_version": "1.5.0",
            "_model_name": "FloatProgressModel",
            "_view_count": null,
            "_view_module": "@jupyter-widgets/controls",
            "_view_module_version": "1.5.0",
            "_view_name": "ProgressView",
            "bar_style": "success",
            "description": "",
            "description_tooltip": null,
            "layout": "IPY_MODEL_e5ecc9a1605c4115afa84ab2d79f12f6",
            "max": 3370,
            "min": 0,
            "orientation": "horizontal",
            "style": "IPY_MODEL_822985f4d18c45d6a8d7d2718558373f",
            "value": 3370
          }
        },
        "88304ce3f5664fec918a07438fb3c729": {
          "model_module": "@jupyter-widgets/controls",
          "model_name": "HTMLModel",
          "model_module_version": "1.5.0",
          "state": {
            "_dom_classes": [],
            "_model_module": "@jupyter-widgets/controls",
            "_model_module_version": "1.5.0",
            "_model_name": "HTMLModel",
            "_view_count": null,
            "_view_module": "@jupyter-widgets/controls",
            "_view_module_version": "1.5.0",
            "_view_name": "HTMLView",
            "description": "",
            "description_tooltip": null,
            "layout": "IPY_MODEL_d963b2f8274e40bda2b32d5b48afb85f",
            "placeholder": "​",
            "style": "IPY_MODEL_5798ac3d1bea45e7bb2269faba019518",
            "value": " 3370/3370 [00:00&lt;00:00, 77415.78 examples/s]"
          }
        },
        "34c27c4c0cdd47d8aad6221a7c70d065": {
          "model_module": "@jupyter-widgets/base",
          "model_name": "LayoutModel",
          "model_module_version": "1.2.0",
          "state": {
            "_model_module": "@jupyter-widgets/base",
            "_model_module_version": "1.2.0",
            "_model_name": "LayoutModel",
            "_view_count": null,
            "_view_module": "@jupyter-widgets/base",
            "_view_module_version": "1.2.0",
            "_view_name": "LayoutView",
            "align_content": null,
            "align_items": null,
            "align_self": null,
            "border": null,
            "bottom": null,
            "display": null,
            "flex": null,
            "flex_flow": null,
            "grid_area": null,
            "grid_auto_columns": null,
            "grid_auto_flow": null,
            "grid_auto_rows": null,
            "grid_column": null,
            "grid_gap": null,
            "grid_row": null,
            "grid_template_areas": null,
            "grid_template_columns": null,
            "grid_template_rows": null,
            "height": null,
            "justify_content": null,
            "justify_items": null,
            "left": null,
            "margin": null,
            "max_height": null,
            "max_width": null,
            "min_height": null,
            "min_width": null,
            "object_fit": null,
            "object_position": null,
            "order": null,
            "overflow": null,
            "overflow_x": null,
            "overflow_y": null,
            "padding": null,
            "right": null,
            "top": null,
            "visibility": null,
            "width": null
          }
        },
        "263f94bc205544abb619f880decebd17": {
          "model_module": "@jupyter-widgets/base",
          "model_name": "LayoutModel",
          "model_module_version": "1.2.0",
          "state": {
            "_model_module": "@jupyter-widgets/base",
            "_model_module_version": "1.2.0",
            "_model_name": "LayoutModel",
            "_view_count": null,
            "_view_module": "@jupyter-widgets/base",
            "_view_module_version": "1.2.0",
            "_view_name": "LayoutView",
            "align_content": null,
            "align_items": null,
            "align_self": null,
            "border": null,
            "bottom": null,
            "display": null,
            "flex": null,
            "flex_flow": null,
            "grid_area": null,
            "grid_auto_columns": null,
            "grid_auto_flow": null,
            "grid_auto_rows": null,
            "grid_column": null,
            "grid_gap": null,
            "grid_row": null,
            "grid_template_areas": null,
            "grid_template_columns": null,
            "grid_template_rows": null,
            "height": null,
            "justify_content": null,
            "justify_items": null,
            "left": null,
            "margin": null,
            "max_height": null,
            "max_width": null,
            "min_height": null,
            "min_width": null,
            "object_fit": null,
            "object_position": null,
            "order": null,
            "overflow": null,
            "overflow_x": null,
            "overflow_y": null,
            "padding": null,
            "right": null,
            "top": null,
            "visibility": null,
            "width": null
          }
        },
        "f69462e4d6434d5daaaf6bb9f384d5db": {
          "model_module": "@jupyter-widgets/controls",
          "model_name": "DescriptionStyleModel",
          "model_module_version": "1.5.0",
          "state": {
            "_model_module": "@jupyter-widgets/controls",
            "_model_module_version": "1.5.0",
            "_model_name": "DescriptionStyleModel",
            "_view_count": null,
            "_view_module": "@jupyter-widgets/base",
            "_view_module_version": "1.2.0",
            "_view_name": "StyleView",
            "description_width": ""
          }
        },
        "e5ecc9a1605c4115afa84ab2d79f12f6": {
          "model_module": "@jupyter-widgets/base",
          "model_name": "LayoutModel",
          "model_module_version": "1.2.0",
          "state": {
            "_model_module": "@jupyter-widgets/base",
            "_model_module_version": "1.2.0",
            "_model_name": "LayoutModel",
            "_view_count": null,
            "_view_module": "@jupyter-widgets/base",
            "_view_module_version": "1.2.0",
            "_view_name": "LayoutView",
            "align_content": null,
            "align_items": null,
            "align_self": null,
            "border": null,
            "bottom": null,
            "display": null,
            "flex": null,
            "flex_flow": null,
            "grid_area": null,
            "grid_auto_columns": null,
            "grid_auto_flow": null,
            "grid_auto_rows": null,
            "grid_column": null,
            "grid_gap": null,
            "grid_row": null,
            "grid_template_areas": null,
            "grid_template_columns": null,
            "grid_template_rows": null,
            "height": null,
            "justify_content": null,
            "justify_items": null,
            "left": null,
            "margin": null,
            "max_height": null,
            "max_width": null,
            "min_height": null,
            "min_width": null,
            "object_fit": null,
            "object_position": null,
            "order": null,
            "overflow": null,
            "overflow_x": null,
            "overflow_y": null,
            "padding": null,
            "right": null,
            "top": null,
            "visibility": null,
            "width": null
          }
        },
        "822985f4d18c45d6a8d7d2718558373f": {
          "model_module": "@jupyter-widgets/controls",
          "model_name": "ProgressStyleModel",
          "model_module_version": "1.5.0",
          "state": {
            "_model_module": "@jupyter-widgets/controls",
            "_model_module_version": "1.5.0",
            "_model_name": "ProgressStyleModel",
            "_view_count": null,
            "_view_module": "@jupyter-widgets/base",
            "_view_module_version": "1.2.0",
            "_view_name": "StyleView",
            "bar_color": null,
            "description_width": ""
          }
        },
        "d963b2f8274e40bda2b32d5b48afb85f": {
          "model_module": "@jupyter-widgets/base",
          "model_name": "LayoutModel",
          "model_module_version": "1.2.0",
          "state": {
            "_model_module": "@jupyter-widgets/base",
            "_model_module_version": "1.2.0",
            "_model_name": "LayoutModel",
            "_view_count": null,
            "_view_module": "@jupyter-widgets/base",
            "_view_module_version": "1.2.0",
            "_view_name": "LayoutView",
            "align_content": null,
            "align_items": null,
            "align_self": null,
            "border": null,
            "bottom": null,
            "display": null,
            "flex": null,
            "flex_flow": null,
            "grid_area": null,
            "grid_auto_columns": null,
            "grid_auto_flow": null,
            "grid_auto_rows": null,
            "grid_column": null,
            "grid_gap": null,
            "grid_row": null,
            "grid_template_areas": null,
            "grid_template_columns": null,
            "grid_template_rows": null,
            "height": null,
            "justify_content": null,
            "justify_items": null,
            "left": null,
            "margin": null,
            "max_height": null,
            "max_width": null,
            "min_height": null,
            "min_width": null,
            "object_fit": null,
            "object_position": null,
            "order": null,
            "overflow": null,
            "overflow_x": null,
            "overflow_y": null,
            "padding": null,
            "right": null,
            "top": null,
            "visibility": null,
            "width": null
          }
        },
        "5798ac3d1bea45e7bb2269faba019518": {
          "model_module": "@jupyter-widgets/controls",
          "model_name": "DescriptionStyleModel",
          "model_module_version": "1.5.0",
          "state": {
            "_model_module": "@jupyter-widgets/controls",
            "_model_module_version": "1.5.0",
            "_model_name": "DescriptionStyleModel",
            "_view_count": null,
            "_view_module": "@jupyter-widgets/base",
            "_view_module_version": "1.2.0",
            "_view_name": "StyleView",
            "description_width": ""
          }
        },
        "1c636352d1384cb5b29e1e30aa7912e7": {
          "model_module": "@jupyter-widgets/controls",
          "model_name": "HBoxModel",
          "model_module_version": "1.5.0",
          "state": {
            "_dom_classes": [],
            "_model_module": "@jupyter-widgets/controls",
            "_model_module_version": "1.5.0",
            "_model_name": "HBoxModel",
            "_view_count": null,
            "_view_module": "@jupyter-widgets/controls",
            "_view_module_version": "1.5.0",
            "_view_name": "HBoxView",
            "box_style": "",
            "children": [
              "IPY_MODEL_a648bd37d1554293b435189cb02f883d",
              "IPY_MODEL_134fcacdd12e46d6924f39b7f9b09de1",
              "IPY_MODEL_329cda4983e242259557320ca435ee6f"
            ],
            "layout": "IPY_MODEL_eef258392a0f4dc0a45a85c8eaa56585"
          }
        },
        "a648bd37d1554293b435189cb02f883d": {
          "model_module": "@jupyter-widgets/controls",
          "model_name": "HTMLModel",
          "model_module_version": "1.5.0",
          "state": {
            "_dom_classes": [],
            "_model_module": "@jupyter-widgets/controls",
            "_model_module_version": "1.5.0",
            "_model_name": "HTMLModel",
            "_view_count": null,
            "_view_module": "@jupyter-widgets/controls",
            "_view_module_version": "1.5.0",
            "_view_name": "HTMLView",
            "description": "",
            "description_tooltip": null,
            "layout": "IPY_MODEL_6063a4997e5d48cba578ed93eba5034e",
            "placeholder": "​",
            "style": "IPY_MODEL_d30a46af7a95480bbc14dec42c78bec6",
            "value": "Map: 100%"
          }
        },
        "134fcacdd12e46d6924f39b7f9b09de1": {
          "model_module": "@jupyter-widgets/controls",
          "model_name": "FloatProgressModel",
          "model_module_version": "1.5.0",
          "state": {
            "_dom_classes": [],
            "_model_module": "@jupyter-widgets/controls",
            "_model_module_version": "1.5.0",
            "_model_name": "FloatProgressModel",
            "_view_count": null,
            "_view_module": "@jupyter-widgets/controls",
            "_view_module_version": "1.5.0",
            "_view_name": "ProgressView",
            "bar_style": "success",
            "description": "",
            "description_tooltip": null,
            "layout": "IPY_MODEL_dc70099d43784322ac72c94594402dbf",
            "max": 33654,
            "min": 0,
            "orientation": "horizontal",
            "style": "IPY_MODEL_0b3e79cb2c7443a09965121012234334",
            "value": 33654
          }
        },
        "329cda4983e242259557320ca435ee6f": {
          "model_module": "@jupyter-widgets/controls",
          "model_name": "HTMLModel",
          "model_module_version": "1.5.0",
          "state": {
            "_dom_classes": [],
            "_model_module": "@jupyter-widgets/controls",
            "_model_module_version": "1.5.0",
            "_model_name": "HTMLModel",
            "_view_count": null,
            "_view_module": "@jupyter-widgets/controls",
            "_view_module_version": "1.5.0",
            "_view_name": "HTMLView",
            "description": "",
            "description_tooltip": null,
            "layout": "IPY_MODEL_92fcca63e37c490ca951541bda6f0060",
            "placeholder": "​",
            "style": "IPY_MODEL_8ffbe3db06104718a471342a28341241",
            "value": " 33654/33654 [00:03&lt;00:00, 11875.59 examples/s]"
          }
        },
        "eef258392a0f4dc0a45a85c8eaa56585": {
          "model_module": "@jupyter-widgets/base",
          "model_name": "LayoutModel",
          "model_module_version": "1.2.0",
          "state": {
            "_model_module": "@jupyter-widgets/base",
            "_model_module_version": "1.2.0",
            "_model_name": "LayoutModel",
            "_view_count": null,
            "_view_module": "@jupyter-widgets/base",
            "_view_module_version": "1.2.0",
            "_view_name": "LayoutView",
            "align_content": null,
            "align_items": null,
            "align_self": null,
            "border": null,
            "bottom": null,
            "display": null,
            "flex": null,
            "flex_flow": null,
            "grid_area": null,
            "grid_auto_columns": null,
            "grid_auto_flow": null,
            "grid_auto_rows": null,
            "grid_column": null,
            "grid_gap": null,
            "grid_row": null,
            "grid_template_areas": null,
            "grid_template_columns": null,
            "grid_template_rows": null,
            "height": null,
            "justify_content": null,
            "justify_items": null,
            "left": null,
            "margin": null,
            "max_height": null,
            "max_width": null,
            "min_height": null,
            "min_width": null,
            "object_fit": null,
            "object_position": null,
            "order": null,
            "overflow": null,
            "overflow_x": null,
            "overflow_y": null,
            "padding": null,
            "right": null,
            "top": null,
            "visibility": null,
            "width": null
          }
        },
        "6063a4997e5d48cba578ed93eba5034e": {
          "model_module": "@jupyter-widgets/base",
          "model_name": "LayoutModel",
          "model_module_version": "1.2.0",
          "state": {
            "_model_module": "@jupyter-widgets/base",
            "_model_module_version": "1.2.0",
            "_model_name": "LayoutModel",
            "_view_count": null,
            "_view_module": "@jupyter-widgets/base",
            "_view_module_version": "1.2.0",
            "_view_name": "LayoutView",
            "align_content": null,
            "align_items": null,
            "align_self": null,
            "border": null,
            "bottom": null,
            "display": null,
            "flex": null,
            "flex_flow": null,
            "grid_area": null,
            "grid_auto_columns": null,
            "grid_auto_flow": null,
            "grid_auto_rows": null,
            "grid_column": null,
            "grid_gap": null,
            "grid_row": null,
            "grid_template_areas": null,
            "grid_template_columns": null,
            "grid_template_rows": null,
            "height": null,
            "justify_content": null,
            "justify_items": null,
            "left": null,
            "margin": null,
            "max_height": null,
            "max_width": null,
            "min_height": null,
            "min_width": null,
            "object_fit": null,
            "object_position": null,
            "order": null,
            "overflow": null,
            "overflow_x": null,
            "overflow_y": null,
            "padding": null,
            "right": null,
            "top": null,
            "visibility": null,
            "width": null
          }
        },
        "d30a46af7a95480bbc14dec42c78bec6": {
          "model_module": "@jupyter-widgets/controls",
          "model_name": "DescriptionStyleModel",
          "model_module_version": "1.5.0",
          "state": {
            "_model_module": "@jupyter-widgets/controls",
            "_model_module_version": "1.5.0",
            "_model_name": "DescriptionStyleModel",
            "_view_count": null,
            "_view_module": "@jupyter-widgets/base",
            "_view_module_version": "1.2.0",
            "_view_name": "StyleView",
            "description_width": ""
          }
        },
        "dc70099d43784322ac72c94594402dbf": {
          "model_module": "@jupyter-widgets/base",
          "model_name": "LayoutModel",
          "model_module_version": "1.2.0",
          "state": {
            "_model_module": "@jupyter-widgets/base",
            "_model_module_version": "1.2.0",
            "_model_name": "LayoutModel",
            "_view_count": null,
            "_view_module": "@jupyter-widgets/base",
            "_view_module_version": "1.2.0",
            "_view_name": "LayoutView",
            "align_content": null,
            "align_items": null,
            "align_self": null,
            "border": null,
            "bottom": null,
            "display": null,
            "flex": null,
            "flex_flow": null,
            "grid_area": null,
            "grid_auto_columns": null,
            "grid_auto_flow": null,
            "grid_auto_rows": null,
            "grid_column": null,
            "grid_gap": null,
            "grid_row": null,
            "grid_template_areas": null,
            "grid_template_columns": null,
            "grid_template_rows": null,
            "height": null,
            "justify_content": null,
            "justify_items": null,
            "left": null,
            "margin": null,
            "max_height": null,
            "max_width": null,
            "min_height": null,
            "min_width": null,
            "object_fit": null,
            "object_position": null,
            "order": null,
            "overflow": null,
            "overflow_x": null,
            "overflow_y": null,
            "padding": null,
            "right": null,
            "top": null,
            "visibility": null,
            "width": null
          }
        },
        "0b3e79cb2c7443a09965121012234334": {
          "model_module": "@jupyter-widgets/controls",
          "model_name": "ProgressStyleModel",
          "model_module_version": "1.5.0",
          "state": {
            "_model_module": "@jupyter-widgets/controls",
            "_model_module_version": "1.5.0",
            "_model_name": "ProgressStyleModel",
            "_view_count": null,
            "_view_module": "@jupyter-widgets/base",
            "_view_module_version": "1.2.0",
            "_view_name": "StyleView",
            "bar_color": null,
            "description_width": ""
          }
        },
        "92fcca63e37c490ca951541bda6f0060": {
          "model_module": "@jupyter-widgets/base",
          "model_name": "LayoutModel",
          "model_module_version": "1.2.0",
          "state": {
            "_model_module": "@jupyter-widgets/base",
            "_model_module_version": "1.2.0",
            "_model_name": "LayoutModel",
            "_view_count": null,
            "_view_module": "@jupyter-widgets/base",
            "_view_module_version": "1.2.0",
            "_view_name": "LayoutView",
            "align_content": null,
            "align_items": null,
            "align_self": null,
            "border": null,
            "bottom": null,
            "display": null,
            "flex": null,
            "flex_flow": null,
            "grid_area": null,
            "grid_auto_columns": null,
            "grid_auto_flow": null,
            "grid_auto_rows": null,
            "grid_column": null,
            "grid_gap": null,
            "grid_row": null,
            "grid_template_areas": null,
            "grid_template_columns": null,
            "grid_template_rows": null,
            "height": null,
            "justify_content": null,
            "justify_items": null,
            "left": null,
            "margin": null,
            "max_height": null,
            "max_width": null,
            "min_height": null,
            "min_width": null,
            "object_fit": null,
            "object_position": null,
            "order": null,
            "overflow": null,
            "overflow_x": null,
            "overflow_y": null,
            "padding": null,
            "right": null,
            "top": null,
            "visibility": null,
            "width": null
          }
        },
        "8ffbe3db06104718a471342a28341241": {
          "model_module": "@jupyter-widgets/controls",
          "model_name": "DescriptionStyleModel",
          "model_module_version": "1.5.0",
          "state": {
            "_model_module": "@jupyter-widgets/controls",
            "_model_module_version": "1.5.0",
            "_model_name": "DescriptionStyleModel",
            "_view_count": null,
            "_view_module": "@jupyter-widgets/base",
            "_view_module_version": "1.2.0",
            "_view_name": "StyleView",
            "description_width": ""
          }
        },
        "4eeba4130ad847ab882831fae909b0e0": {
          "model_module": "@jupyter-widgets/controls",
          "model_name": "HBoxModel",
          "model_module_version": "1.5.0",
          "state": {
            "_dom_classes": [],
            "_model_module": "@jupyter-widgets/controls",
            "_model_module_version": "1.5.0",
            "_model_name": "HBoxModel",
            "_view_count": null,
            "_view_module": "@jupyter-widgets/controls",
            "_view_module_version": "1.5.0",
            "_view_name": "HBoxView",
            "box_style": "",
            "children": [
              "IPY_MODEL_8ace2ba8d48f487cbc40ba0ede06b07c",
              "IPY_MODEL_e8260c38d7414d45a5715ae7b2479476",
              "IPY_MODEL_de108de588504320b5cae9f5b1f1bbe3"
            ],
            "layout": "IPY_MODEL_f42b72093cd94c8c93c603382643eece"
          }
        },
        "8ace2ba8d48f487cbc40ba0ede06b07c": {
          "model_module": "@jupyter-widgets/controls",
          "model_name": "HTMLModel",
          "model_module_version": "1.5.0",
          "state": {
            "_dom_classes": [],
            "_model_module": "@jupyter-widgets/controls",
            "_model_module_version": "1.5.0",
            "_model_name": "HTMLModel",
            "_view_count": null,
            "_view_module": "@jupyter-widgets/controls",
            "_view_module_version": "1.5.0",
            "_view_name": "HTMLView",
            "description": "",
            "description_tooltip": null,
            "layout": "IPY_MODEL_5b4d0ca299dd4aea99d18f9d523a93dd",
            "placeholder": "​",
            "style": "IPY_MODEL_0c2e437bab3743ad861b54566c446699",
            "value": "Map: 100%"
          }
        },
        "e8260c38d7414d45a5715ae7b2479476": {
          "model_module": "@jupyter-widgets/controls",
          "model_name": "FloatProgressModel",
          "model_module_version": "1.5.0",
          "state": {
            "_dom_classes": [],
            "_model_module": "@jupyter-widgets/controls",
            "_model_module_version": "1.5.0",
            "_model_name": "FloatProgressModel",
            "_view_count": null,
            "_view_module": "@jupyter-widgets/controls",
            "_view_module_version": "1.5.0",
            "_view_name": "ProgressView",
            "bar_style": "success",
            "description": "",
            "description_tooltip": null,
            "layout": "IPY_MODEL_ec2d272319ff40a18433925b811a81e6",
            "max": 8414,
            "min": 0,
            "orientation": "horizontal",
            "style": "IPY_MODEL_ef297875ee1a468db6096fc5d314ad43",
            "value": 8414
          }
        },
        "de108de588504320b5cae9f5b1f1bbe3": {
          "model_module": "@jupyter-widgets/controls",
          "model_name": "HTMLModel",
          "model_module_version": "1.5.0",
          "state": {
            "_dom_classes": [],
            "_model_module": "@jupyter-widgets/controls",
            "_model_module_version": "1.5.0",
            "_model_name": "HTMLModel",
            "_view_count": null,
            "_view_module": "@jupyter-widgets/controls",
            "_view_module_version": "1.5.0",
            "_view_name": "HTMLView",
            "description": "",
            "description_tooltip": null,
            "layout": "IPY_MODEL_1f6d034cc6224a50a54b5015ce8dadfc",
            "placeholder": "​",
            "style": "IPY_MODEL_e7a35e78f58744e791187c609e8914e8",
            "value": " 8414/8414 [00:01&lt;00:00, 5291.48 examples/s]"
          }
        },
        "f42b72093cd94c8c93c603382643eece": {
          "model_module": "@jupyter-widgets/base",
          "model_name": "LayoutModel",
          "model_module_version": "1.2.0",
          "state": {
            "_model_module": "@jupyter-widgets/base",
            "_model_module_version": "1.2.0",
            "_model_name": "LayoutModel",
            "_view_count": null,
            "_view_module": "@jupyter-widgets/base",
            "_view_module_version": "1.2.0",
            "_view_name": "LayoutView",
            "align_content": null,
            "align_items": null,
            "align_self": null,
            "border": null,
            "bottom": null,
            "display": null,
            "flex": null,
            "flex_flow": null,
            "grid_area": null,
            "grid_auto_columns": null,
            "grid_auto_flow": null,
            "grid_auto_rows": null,
            "grid_column": null,
            "grid_gap": null,
            "grid_row": null,
            "grid_template_areas": null,
            "grid_template_columns": null,
            "grid_template_rows": null,
            "height": null,
            "justify_content": null,
            "justify_items": null,
            "left": null,
            "margin": null,
            "max_height": null,
            "max_width": null,
            "min_height": null,
            "min_width": null,
            "object_fit": null,
            "object_position": null,
            "order": null,
            "overflow": null,
            "overflow_x": null,
            "overflow_y": null,
            "padding": null,
            "right": null,
            "top": null,
            "visibility": null,
            "width": null
          }
        },
        "5b4d0ca299dd4aea99d18f9d523a93dd": {
          "model_module": "@jupyter-widgets/base",
          "model_name": "LayoutModel",
          "model_module_version": "1.2.0",
          "state": {
            "_model_module": "@jupyter-widgets/base",
            "_model_module_version": "1.2.0",
            "_model_name": "LayoutModel",
            "_view_count": null,
            "_view_module": "@jupyter-widgets/base",
            "_view_module_version": "1.2.0",
            "_view_name": "LayoutView",
            "align_content": null,
            "align_items": null,
            "align_self": null,
            "border": null,
            "bottom": null,
            "display": null,
            "flex": null,
            "flex_flow": null,
            "grid_area": null,
            "grid_auto_columns": null,
            "grid_auto_flow": null,
            "grid_auto_rows": null,
            "grid_column": null,
            "grid_gap": null,
            "grid_row": null,
            "grid_template_areas": null,
            "grid_template_columns": null,
            "grid_template_rows": null,
            "height": null,
            "justify_content": null,
            "justify_items": null,
            "left": null,
            "margin": null,
            "max_height": null,
            "max_width": null,
            "min_height": null,
            "min_width": null,
            "object_fit": null,
            "object_position": null,
            "order": null,
            "overflow": null,
            "overflow_x": null,
            "overflow_y": null,
            "padding": null,
            "right": null,
            "top": null,
            "visibility": null,
            "width": null
          }
        },
        "0c2e437bab3743ad861b54566c446699": {
          "model_module": "@jupyter-widgets/controls",
          "model_name": "DescriptionStyleModel",
          "model_module_version": "1.5.0",
          "state": {
            "_model_module": "@jupyter-widgets/controls",
            "_model_module_version": "1.5.0",
            "_model_name": "DescriptionStyleModel",
            "_view_count": null,
            "_view_module": "@jupyter-widgets/base",
            "_view_module_version": "1.2.0",
            "_view_name": "StyleView",
            "description_width": ""
          }
        },
        "ec2d272319ff40a18433925b811a81e6": {
          "model_module": "@jupyter-widgets/base",
          "model_name": "LayoutModel",
          "model_module_version": "1.2.0",
          "state": {
            "_model_module": "@jupyter-widgets/base",
            "_model_module_version": "1.2.0",
            "_model_name": "LayoutModel",
            "_view_count": null,
            "_view_module": "@jupyter-widgets/base",
            "_view_module_version": "1.2.0",
            "_view_name": "LayoutView",
            "align_content": null,
            "align_items": null,
            "align_self": null,
            "border": null,
            "bottom": null,
            "display": null,
            "flex": null,
            "flex_flow": null,
            "grid_area": null,
            "grid_auto_columns": null,
            "grid_auto_flow": null,
            "grid_auto_rows": null,
            "grid_column": null,
            "grid_gap": null,
            "grid_row": null,
            "grid_template_areas": null,
            "grid_template_columns": null,
            "grid_template_rows": null,
            "height": null,
            "justify_content": null,
            "justify_items": null,
            "left": null,
            "margin": null,
            "max_height": null,
            "max_width": null,
            "min_height": null,
            "min_width": null,
            "object_fit": null,
            "object_position": null,
            "order": null,
            "overflow": null,
            "overflow_x": null,
            "overflow_y": null,
            "padding": null,
            "right": null,
            "top": null,
            "visibility": null,
            "width": null
          }
        },
        "ef297875ee1a468db6096fc5d314ad43": {
          "model_module": "@jupyter-widgets/controls",
          "model_name": "ProgressStyleModel",
          "model_module_version": "1.5.0",
          "state": {
            "_model_module": "@jupyter-widgets/controls",
            "_model_module_version": "1.5.0",
            "_model_name": "ProgressStyleModel",
            "_view_count": null,
            "_view_module": "@jupyter-widgets/base",
            "_view_module_version": "1.2.0",
            "_view_name": "StyleView",
            "bar_color": null,
            "description_width": ""
          }
        },
        "1f6d034cc6224a50a54b5015ce8dadfc": {
          "model_module": "@jupyter-widgets/base",
          "model_name": "LayoutModel",
          "model_module_version": "1.2.0",
          "state": {
            "_model_module": "@jupyter-widgets/base",
            "_model_module_version": "1.2.0",
            "_model_name": "LayoutModel",
            "_view_count": null,
            "_view_module": "@jupyter-widgets/base",
            "_view_module_version": "1.2.0",
            "_view_name": "LayoutView",
            "align_content": null,
            "align_items": null,
            "align_self": null,
            "border": null,
            "bottom": null,
            "display": null,
            "flex": null,
            "flex_flow": null,
            "grid_area": null,
            "grid_auto_columns": null,
            "grid_auto_flow": null,
            "grid_auto_rows": null,
            "grid_column": null,
            "grid_gap": null,
            "grid_row": null,
            "grid_template_areas": null,
            "grid_template_columns": null,
            "grid_template_rows": null,
            "height": null,
            "justify_content": null,
            "justify_items": null,
            "left": null,
            "margin": null,
            "max_height": null,
            "max_width": null,
            "min_height": null,
            "min_width": null,
            "object_fit": null,
            "object_position": null,
            "order": null,
            "overflow": null,
            "overflow_x": null,
            "overflow_y": null,
            "padding": null,
            "right": null,
            "top": null,
            "visibility": null,
            "width": null
          }
        },
        "e7a35e78f58744e791187c609e8914e8": {
          "model_module": "@jupyter-widgets/controls",
          "model_name": "DescriptionStyleModel",
          "model_module_version": "1.5.0",
          "state": {
            "_model_module": "@jupyter-widgets/controls",
            "_model_module_version": "1.5.0",
            "_model_name": "DescriptionStyleModel",
            "_view_count": null,
            "_view_module": "@jupyter-widgets/base",
            "_view_module_version": "1.2.0",
            "_view_name": "StyleView",
            "description_width": ""
          }
        },
        "abfa0fcc195c4f41a4b83d21c81c4e0e": {
          "model_module": "@jupyter-widgets/controls",
          "model_name": "HBoxModel",
          "model_module_version": "1.5.0",
          "state": {
            "_dom_classes": [],
            "_model_module": "@jupyter-widgets/controls",
            "_model_module_version": "1.5.0",
            "_model_name": "HBoxModel",
            "_view_count": null,
            "_view_module": "@jupyter-widgets/controls",
            "_view_module_version": "1.5.0",
            "_view_name": "HBoxView",
            "box_style": "",
            "children": [
              "IPY_MODEL_65797d9c70fd4db2ad2c3e95221fbaf5",
              "IPY_MODEL_b06c6ce8f4dd4679b09b2294640eea99",
              "IPY_MODEL_1b7e032430e4412daba367f574d20e93"
            ],
            "layout": "IPY_MODEL_d9e75b147d2e40f697376ed386b88470"
          }
        },
        "65797d9c70fd4db2ad2c3e95221fbaf5": {
          "model_module": "@jupyter-widgets/controls",
          "model_name": "HTMLModel",
          "model_module_version": "1.5.0",
          "state": {
            "_dom_classes": [],
            "_model_module": "@jupyter-widgets/controls",
            "_model_module_version": "1.5.0",
            "_model_name": "HTMLModel",
            "_view_count": null,
            "_view_module": "@jupyter-widgets/controls",
            "_view_module_version": "1.5.0",
            "_view_name": "HTMLView",
            "description": "",
            "description_tooltip": null,
            "layout": "IPY_MODEL_ad4a0f5c07d94b23b62630d012f4ffb9",
            "placeholder": "​",
            "style": "IPY_MODEL_d101aac94f6b49a8b0166cbf8fadcc2c",
            "value": "Filter: 100%"
          }
        },
        "b06c6ce8f4dd4679b09b2294640eea99": {
          "model_module": "@jupyter-widgets/controls",
          "model_name": "FloatProgressModel",
          "model_module_version": "1.5.0",
          "state": {
            "_dom_classes": [],
            "_model_module": "@jupyter-widgets/controls",
            "_model_module_version": "1.5.0",
            "_model_name": "FloatProgressModel",
            "_view_count": null,
            "_view_module": "@jupyter-widgets/controls",
            "_view_module_version": "1.5.0",
            "_view_name": "ProgressView",
            "bar_style": "success",
            "description": "",
            "description_tooltip": null,
            "layout": "IPY_MODEL_445193e69af1414b804a9f214e1bef22",
            "max": 33654,
            "min": 0,
            "orientation": "horizontal",
            "style": "IPY_MODEL_b37fea64a4744d73847bbec3b07fa8f1",
            "value": 33654
          }
        },
        "1b7e032430e4412daba367f574d20e93": {
          "model_module": "@jupyter-widgets/controls",
          "model_name": "HTMLModel",
          "model_module_version": "1.5.0",
          "state": {
            "_dom_classes": [],
            "_model_module": "@jupyter-widgets/controls",
            "_model_module_version": "1.5.0",
            "_model_name": "HTMLModel",
            "_view_count": null,
            "_view_module": "@jupyter-widgets/controls",
            "_view_module_version": "1.5.0",
            "_view_name": "HTMLView",
            "description": "",
            "description_tooltip": null,
            "layout": "IPY_MODEL_edfaa37ac78f48a4bd5bcb3a087068dc",
            "placeholder": "​",
            "style": "IPY_MODEL_13515fb075e24fc5aa5941de39e06b82",
            "value": " 33654/33654 [00:00&lt;00:00, 95260.77 examples/s]"
          }
        },
        "d9e75b147d2e40f697376ed386b88470": {
          "model_module": "@jupyter-widgets/base",
          "model_name": "LayoutModel",
          "model_module_version": "1.2.0",
          "state": {
            "_model_module": "@jupyter-widgets/base",
            "_model_module_version": "1.2.0",
            "_model_name": "LayoutModel",
            "_view_count": null,
            "_view_module": "@jupyter-widgets/base",
            "_view_module_version": "1.2.0",
            "_view_name": "LayoutView",
            "align_content": null,
            "align_items": null,
            "align_self": null,
            "border": null,
            "bottom": null,
            "display": null,
            "flex": null,
            "flex_flow": null,
            "grid_area": null,
            "grid_auto_columns": null,
            "grid_auto_flow": null,
            "grid_auto_rows": null,
            "grid_column": null,
            "grid_gap": null,
            "grid_row": null,
            "grid_template_areas": null,
            "grid_template_columns": null,
            "grid_template_rows": null,
            "height": null,
            "justify_content": null,
            "justify_items": null,
            "left": null,
            "margin": null,
            "max_height": null,
            "max_width": null,
            "min_height": null,
            "min_width": null,
            "object_fit": null,
            "object_position": null,
            "order": null,
            "overflow": null,
            "overflow_x": null,
            "overflow_y": null,
            "padding": null,
            "right": null,
            "top": null,
            "visibility": null,
            "width": null
          }
        },
        "ad4a0f5c07d94b23b62630d012f4ffb9": {
          "model_module": "@jupyter-widgets/base",
          "model_name": "LayoutModel",
          "model_module_version": "1.2.0",
          "state": {
            "_model_module": "@jupyter-widgets/base",
            "_model_module_version": "1.2.0",
            "_model_name": "LayoutModel",
            "_view_count": null,
            "_view_module": "@jupyter-widgets/base",
            "_view_module_version": "1.2.0",
            "_view_name": "LayoutView",
            "align_content": null,
            "align_items": null,
            "align_self": null,
            "border": null,
            "bottom": null,
            "display": null,
            "flex": null,
            "flex_flow": null,
            "grid_area": null,
            "grid_auto_columns": null,
            "grid_auto_flow": null,
            "grid_auto_rows": null,
            "grid_column": null,
            "grid_gap": null,
            "grid_row": null,
            "grid_template_areas": null,
            "grid_template_columns": null,
            "grid_template_rows": null,
            "height": null,
            "justify_content": null,
            "justify_items": null,
            "left": null,
            "margin": null,
            "max_height": null,
            "max_width": null,
            "min_height": null,
            "min_width": null,
            "object_fit": null,
            "object_position": null,
            "order": null,
            "overflow": null,
            "overflow_x": null,
            "overflow_y": null,
            "padding": null,
            "right": null,
            "top": null,
            "visibility": null,
            "width": null
          }
        },
        "d101aac94f6b49a8b0166cbf8fadcc2c": {
          "model_module": "@jupyter-widgets/controls",
          "model_name": "DescriptionStyleModel",
          "model_module_version": "1.5.0",
          "state": {
            "_model_module": "@jupyter-widgets/controls",
            "_model_module_version": "1.5.0",
            "_model_name": "DescriptionStyleModel",
            "_view_count": null,
            "_view_module": "@jupyter-widgets/base",
            "_view_module_version": "1.2.0",
            "_view_name": "StyleView",
            "description_width": ""
          }
        },
        "445193e69af1414b804a9f214e1bef22": {
          "model_module": "@jupyter-widgets/base",
          "model_name": "LayoutModel",
          "model_module_version": "1.2.0",
          "state": {
            "_model_module": "@jupyter-widgets/base",
            "_model_module_version": "1.2.0",
            "_model_name": "LayoutModel",
            "_view_count": null,
            "_view_module": "@jupyter-widgets/base",
            "_view_module_version": "1.2.0",
            "_view_name": "LayoutView",
            "align_content": null,
            "align_items": null,
            "align_self": null,
            "border": null,
            "bottom": null,
            "display": null,
            "flex": null,
            "flex_flow": null,
            "grid_area": null,
            "grid_auto_columns": null,
            "grid_auto_flow": null,
            "grid_auto_rows": null,
            "grid_column": null,
            "grid_gap": null,
            "grid_row": null,
            "grid_template_areas": null,
            "grid_template_columns": null,
            "grid_template_rows": null,
            "height": null,
            "justify_content": null,
            "justify_items": null,
            "left": null,
            "margin": null,
            "max_height": null,
            "max_width": null,
            "min_height": null,
            "min_width": null,
            "object_fit": null,
            "object_position": null,
            "order": null,
            "overflow": null,
            "overflow_x": null,
            "overflow_y": null,
            "padding": null,
            "right": null,
            "top": null,
            "visibility": null,
            "width": null
          }
        },
        "b37fea64a4744d73847bbec3b07fa8f1": {
          "model_module": "@jupyter-widgets/controls",
          "model_name": "ProgressStyleModel",
          "model_module_version": "1.5.0",
          "state": {
            "_model_module": "@jupyter-widgets/controls",
            "_model_module_version": "1.5.0",
            "_model_name": "ProgressStyleModel",
            "_view_count": null,
            "_view_module": "@jupyter-widgets/base",
            "_view_module_version": "1.2.0",
            "_view_name": "StyleView",
            "bar_color": null,
            "description_width": ""
          }
        },
        "edfaa37ac78f48a4bd5bcb3a087068dc": {
          "model_module": "@jupyter-widgets/base",
          "model_name": "LayoutModel",
          "model_module_version": "1.2.0",
          "state": {
            "_model_module": "@jupyter-widgets/base",
            "_model_module_version": "1.2.0",
            "_model_name": "LayoutModel",
            "_view_count": null,
            "_view_module": "@jupyter-widgets/base",
            "_view_module_version": "1.2.0",
            "_view_name": "LayoutView",
            "align_content": null,
            "align_items": null,
            "align_self": null,
            "border": null,
            "bottom": null,
            "display": null,
            "flex": null,
            "flex_flow": null,
            "grid_area": null,
            "grid_auto_columns": null,
            "grid_auto_flow": null,
            "grid_auto_rows": null,
            "grid_column": null,
            "grid_gap": null,
            "grid_row": null,
            "grid_template_areas": null,
            "grid_template_columns": null,
            "grid_template_rows": null,
            "height": null,
            "justify_content": null,
            "justify_items": null,
            "left": null,
            "margin": null,
            "max_height": null,
            "max_width": null,
            "min_height": null,
            "min_width": null,
            "object_fit": null,
            "object_position": null,
            "order": null,
            "overflow": null,
            "overflow_x": null,
            "overflow_y": null,
            "padding": null,
            "right": null,
            "top": null,
            "visibility": null,
            "width": null
          }
        },
        "13515fb075e24fc5aa5941de39e06b82": {
          "model_module": "@jupyter-widgets/controls",
          "model_name": "DescriptionStyleModel",
          "model_module_version": "1.5.0",
          "state": {
            "_model_module": "@jupyter-widgets/controls",
            "_model_module_version": "1.5.0",
            "_model_name": "DescriptionStyleModel",
            "_view_count": null,
            "_view_module": "@jupyter-widgets/base",
            "_view_module_version": "1.2.0",
            "_view_name": "StyleView",
            "description_width": ""
          }
        },
        "24c2581f48824d9bb4d9b0996e2443de": {
          "model_module": "@jupyter-widgets/controls",
          "model_name": "HBoxModel",
          "model_module_version": "1.5.0",
          "state": {
            "_dom_classes": [],
            "_model_module": "@jupyter-widgets/controls",
            "_model_module_version": "1.5.0",
            "_model_name": "HBoxModel",
            "_view_count": null,
            "_view_module": "@jupyter-widgets/controls",
            "_view_module_version": "1.5.0",
            "_view_name": "HBoxView",
            "box_style": "",
            "children": [
              "IPY_MODEL_cf94bc381312495884806b5e7d33f17d",
              "IPY_MODEL_0cb91e277fd145a08873fecdea891217",
              "IPY_MODEL_3e2129f668064c7a8aa92ca7e4e5f9e0"
            ],
            "layout": "IPY_MODEL_6a62275b74dc41ebad136d087f86ec08"
          }
        },
        "cf94bc381312495884806b5e7d33f17d": {
          "model_module": "@jupyter-widgets/controls",
          "model_name": "HTMLModel",
          "model_module_version": "1.5.0",
          "state": {
            "_dom_classes": [],
            "_model_module": "@jupyter-widgets/controls",
            "_model_module_version": "1.5.0",
            "_model_name": "HTMLModel",
            "_view_count": null,
            "_view_module": "@jupyter-widgets/controls",
            "_view_module_version": "1.5.0",
            "_view_name": "HTMLView",
            "description": "",
            "description_tooltip": null,
            "layout": "IPY_MODEL_75c1f9dad26949949186fddb47eb96c6",
            "placeholder": "​",
            "style": "IPY_MODEL_2a3dc9a442e740f6abc9f64406cfa60c",
            "value": "Filter: 100%"
          }
        },
        "0cb91e277fd145a08873fecdea891217": {
          "model_module": "@jupyter-widgets/controls",
          "model_name": "FloatProgressModel",
          "model_module_version": "1.5.0",
          "state": {
            "_dom_classes": [],
            "_model_module": "@jupyter-widgets/controls",
            "_model_module_version": "1.5.0",
            "_model_name": "FloatProgressModel",
            "_view_count": null,
            "_view_module": "@jupyter-widgets/controls",
            "_view_module_version": "1.5.0",
            "_view_name": "ProgressView",
            "bar_style": "success",
            "description": "",
            "description_tooltip": null,
            "layout": "IPY_MODEL_1803e97d748e42d4be038e0a698df6cb",
            "max": 8414,
            "min": 0,
            "orientation": "horizontal",
            "style": "IPY_MODEL_753f5e41ba684e539294f9e10a51cdb7",
            "value": 8414
          }
        },
        "3e2129f668064c7a8aa92ca7e4e5f9e0": {
          "model_module": "@jupyter-widgets/controls",
          "model_name": "HTMLModel",
          "model_module_version": "1.5.0",
          "state": {
            "_dom_classes": [],
            "_model_module": "@jupyter-widgets/controls",
            "_model_module_version": "1.5.0",
            "_model_name": "HTMLModel",
            "_view_count": null,
            "_view_module": "@jupyter-widgets/controls",
            "_view_module_version": "1.5.0",
            "_view_name": "HTMLView",
            "description": "",
            "description_tooltip": null,
            "layout": "IPY_MODEL_14c774d90fda47df86d8edccd7de06bb",
            "placeholder": "​",
            "style": "IPY_MODEL_4f0a03bd36aa47d3b9073a95bb591620",
            "value": " 8414/8414 [00:00&lt;00:00, 60211.93 examples/s]"
          }
        },
        "6a62275b74dc41ebad136d087f86ec08": {
          "model_module": "@jupyter-widgets/base",
          "model_name": "LayoutModel",
          "model_module_version": "1.2.0",
          "state": {
            "_model_module": "@jupyter-widgets/base",
            "_model_module_version": "1.2.0",
            "_model_name": "LayoutModel",
            "_view_count": null,
            "_view_module": "@jupyter-widgets/base",
            "_view_module_version": "1.2.0",
            "_view_name": "LayoutView",
            "align_content": null,
            "align_items": null,
            "align_self": null,
            "border": null,
            "bottom": null,
            "display": null,
            "flex": null,
            "flex_flow": null,
            "grid_area": null,
            "grid_auto_columns": null,
            "grid_auto_flow": null,
            "grid_auto_rows": null,
            "grid_column": null,
            "grid_gap": null,
            "grid_row": null,
            "grid_template_areas": null,
            "grid_template_columns": null,
            "grid_template_rows": null,
            "height": null,
            "justify_content": null,
            "justify_items": null,
            "left": null,
            "margin": null,
            "max_height": null,
            "max_width": null,
            "min_height": null,
            "min_width": null,
            "object_fit": null,
            "object_position": null,
            "order": null,
            "overflow": null,
            "overflow_x": null,
            "overflow_y": null,
            "padding": null,
            "right": null,
            "top": null,
            "visibility": null,
            "width": null
          }
        },
        "75c1f9dad26949949186fddb47eb96c6": {
          "model_module": "@jupyter-widgets/base",
          "model_name": "LayoutModel",
          "model_module_version": "1.2.0",
          "state": {
            "_model_module": "@jupyter-widgets/base",
            "_model_module_version": "1.2.0",
            "_model_name": "LayoutModel",
            "_view_count": null,
            "_view_module": "@jupyter-widgets/base",
            "_view_module_version": "1.2.0",
            "_view_name": "LayoutView",
            "align_content": null,
            "align_items": null,
            "align_self": null,
            "border": null,
            "bottom": null,
            "display": null,
            "flex": null,
            "flex_flow": null,
            "grid_area": null,
            "grid_auto_columns": null,
            "grid_auto_flow": null,
            "grid_auto_rows": null,
            "grid_column": null,
            "grid_gap": null,
            "grid_row": null,
            "grid_template_areas": null,
            "grid_template_columns": null,
            "grid_template_rows": null,
            "height": null,
            "justify_content": null,
            "justify_items": null,
            "left": null,
            "margin": null,
            "max_height": null,
            "max_width": null,
            "min_height": null,
            "min_width": null,
            "object_fit": null,
            "object_position": null,
            "order": null,
            "overflow": null,
            "overflow_x": null,
            "overflow_y": null,
            "padding": null,
            "right": null,
            "top": null,
            "visibility": null,
            "width": null
          }
        },
        "2a3dc9a442e740f6abc9f64406cfa60c": {
          "model_module": "@jupyter-widgets/controls",
          "model_name": "DescriptionStyleModel",
          "model_module_version": "1.5.0",
          "state": {
            "_model_module": "@jupyter-widgets/controls",
            "_model_module_version": "1.5.0",
            "_model_name": "DescriptionStyleModel",
            "_view_count": null,
            "_view_module": "@jupyter-widgets/base",
            "_view_module_version": "1.2.0",
            "_view_name": "StyleView",
            "description_width": ""
          }
        },
        "1803e97d748e42d4be038e0a698df6cb": {
          "model_module": "@jupyter-widgets/base",
          "model_name": "LayoutModel",
          "model_module_version": "1.2.0",
          "state": {
            "_model_module": "@jupyter-widgets/base",
            "_model_module_version": "1.2.0",
            "_model_name": "LayoutModel",
            "_view_count": null,
            "_view_module": "@jupyter-widgets/base",
            "_view_module_version": "1.2.0",
            "_view_name": "LayoutView",
            "align_content": null,
            "align_items": null,
            "align_self": null,
            "border": null,
            "bottom": null,
            "display": null,
            "flex": null,
            "flex_flow": null,
            "grid_area": null,
            "grid_auto_columns": null,
            "grid_auto_flow": null,
            "grid_auto_rows": null,
            "grid_column": null,
            "grid_gap": null,
            "grid_row": null,
            "grid_template_areas": null,
            "grid_template_columns": null,
            "grid_template_rows": null,
            "height": null,
            "justify_content": null,
            "justify_items": null,
            "left": null,
            "margin": null,
            "max_height": null,
            "max_width": null,
            "min_height": null,
            "min_width": null,
            "object_fit": null,
            "object_position": null,
            "order": null,
            "overflow": null,
            "overflow_x": null,
            "overflow_y": null,
            "padding": null,
            "right": null,
            "top": null,
            "visibility": null,
            "width": null
          }
        },
        "753f5e41ba684e539294f9e10a51cdb7": {
          "model_module": "@jupyter-widgets/controls",
          "model_name": "ProgressStyleModel",
          "model_module_version": "1.5.0",
          "state": {
            "_model_module": "@jupyter-widgets/controls",
            "_model_module_version": "1.5.0",
            "_model_name": "ProgressStyleModel",
            "_view_count": null,
            "_view_module": "@jupyter-widgets/base",
            "_view_module_version": "1.2.0",
            "_view_name": "StyleView",
            "bar_color": null,
            "description_width": ""
          }
        },
        "14c774d90fda47df86d8edccd7de06bb": {
          "model_module": "@jupyter-widgets/base",
          "model_name": "LayoutModel",
          "model_module_version": "1.2.0",
          "state": {
            "_model_module": "@jupyter-widgets/base",
            "_model_module_version": "1.2.0",
            "_model_name": "LayoutModel",
            "_view_count": null,
            "_view_module": "@jupyter-widgets/base",
            "_view_module_version": "1.2.0",
            "_view_name": "LayoutView",
            "align_content": null,
            "align_items": null,
            "align_self": null,
            "border": null,
            "bottom": null,
            "display": null,
            "flex": null,
            "flex_flow": null,
            "grid_area": null,
            "grid_auto_columns": null,
            "grid_auto_flow": null,
            "grid_auto_rows": null,
            "grid_column": null,
            "grid_gap": null,
            "grid_row": null,
            "grid_template_areas": null,
            "grid_template_columns": null,
            "grid_template_rows": null,
            "height": null,
            "justify_content": null,
            "justify_items": null,
            "left": null,
            "margin": null,
            "max_height": null,
            "max_width": null,
            "min_height": null,
            "min_width": null,
            "object_fit": null,
            "object_position": null,
            "order": null,
            "overflow": null,
            "overflow_x": null,
            "overflow_y": null,
            "padding": null,
            "right": null,
            "top": null,
            "visibility": null,
            "width": null
          }
        },
        "4f0a03bd36aa47d3b9073a95bb591620": {
          "model_module": "@jupyter-widgets/controls",
          "model_name": "DescriptionStyleModel",
          "model_module_version": "1.5.0",
          "state": {
            "_model_module": "@jupyter-widgets/controls",
            "_model_module_version": "1.5.0",
            "_model_name": "DescriptionStyleModel",
            "_view_count": null,
            "_view_module": "@jupyter-widgets/base",
            "_view_module_version": "1.2.0",
            "_view_name": "StyleView",
            "description_width": ""
          }
        },
        "e287b677d4b146c092f32c2ebcc527d6": {
          "model_module": "@jupyter-widgets/controls",
          "model_name": "HBoxModel",
          "model_module_version": "1.5.0",
          "state": {
            "_dom_classes": [],
            "_model_module": "@jupyter-widgets/controls",
            "_model_module_version": "1.5.0",
            "_model_name": "HBoxModel",
            "_view_count": null,
            "_view_module": "@jupyter-widgets/controls",
            "_view_module_version": "1.5.0",
            "_view_name": "HBoxView",
            "box_style": "",
            "children": [
              "IPY_MODEL_4affa169d59446acb29497ca4db4348e",
              "IPY_MODEL_afcaa09b6ba14dc19061989a27d7e8c0",
              "IPY_MODEL_06776105ca19406db894a83780a8b3d8"
            ],
            "layout": "IPY_MODEL_75f86cd1a6184ff78219faa68abd2763"
          }
        },
        "4affa169d59446acb29497ca4db4348e": {
          "model_module": "@jupyter-widgets/controls",
          "model_name": "HTMLModel",
          "model_module_version": "1.5.0",
          "state": {
            "_dom_classes": [],
            "_model_module": "@jupyter-widgets/controls",
            "_model_module_version": "1.5.0",
            "_model_name": "HTMLModel",
            "_view_count": null,
            "_view_module": "@jupyter-widgets/controls",
            "_view_module_version": "1.5.0",
            "_view_name": "HTMLView",
            "description": "",
            "description_tooltip": null,
            "layout": "IPY_MODEL_b099f12ba6734f3aa2839a8741148122",
            "placeholder": "​",
            "style": "IPY_MODEL_79a53cd458a9482b85288ff89ef5046d",
            "value": "Map: 100%"
          }
        },
        "afcaa09b6ba14dc19061989a27d7e8c0": {
          "model_module": "@jupyter-widgets/controls",
          "model_name": "FloatProgressModel",
          "model_module_version": "1.5.0",
          "state": {
            "_dom_classes": [],
            "_model_module": "@jupyter-widgets/controls",
            "_model_module_version": "1.5.0",
            "_model_name": "FloatProgressModel",
            "_view_count": null,
            "_view_module": "@jupyter-widgets/controls",
            "_view_module_version": "1.5.0",
            "_view_name": "ProgressView",
            "bar_style": "success",
            "description": "",
            "description_tooltip": null,
            "layout": "IPY_MODEL_b9ef899be960449c9557404d76a5196d",
            "max": 33539,
            "min": 0,
            "orientation": "horizontal",
            "style": "IPY_MODEL_76554168a92640e3a2bce4db2497ec68",
            "value": 33539
          }
        },
        "06776105ca19406db894a83780a8b3d8": {
          "model_module": "@jupyter-widgets/controls",
          "model_name": "HTMLModel",
          "model_module_version": "1.5.0",
          "state": {
            "_dom_classes": [],
            "_model_module": "@jupyter-widgets/controls",
            "_model_module_version": "1.5.0",
            "_model_name": "HTMLModel",
            "_view_count": null,
            "_view_module": "@jupyter-widgets/controls",
            "_view_module_version": "1.5.0",
            "_view_name": "HTMLView",
            "description": "",
            "description_tooltip": null,
            "layout": "IPY_MODEL_f5854e12a95440d2bbeeb9e1cfc8f4eb",
            "placeholder": "​",
            "style": "IPY_MODEL_0b92b1d7b5a9487598a4d2bf40a7eb28",
            "value": " 33539/33539 [00:09&lt;00:00, 5807.82 examples/s]"
          }
        },
        "75f86cd1a6184ff78219faa68abd2763": {
          "model_module": "@jupyter-widgets/base",
          "model_name": "LayoutModel",
          "model_module_version": "1.2.0",
          "state": {
            "_model_module": "@jupyter-widgets/base",
            "_model_module_version": "1.2.0",
            "_model_name": "LayoutModel",
            "_view_count": null,
            "_view_module": "@jupyter-widgets/base",
            "_view_module_version": "1.2.0",
            "_view_name": "LayoutView",
            "align_content": null,
            "align_items": null,
            "align_self": null,
            "border": null,
            "bottom": null,
            "display": null,
            "flex": null,
            "flex_flow": null,
            "grid_area": null,
            "grid_auto_columns": null,
            "grid_auto_flow": null,
            "grid_auto_rows": null,
            "grid_column": null,
            "grid_gap": null,
            "grid_row": null,
            "grid_template_areas": null,
            "grid_template_columns": null,
            "grid_template_rows": null,
            "height": null,
            "justify_content": null,
            "justify_items": null,
            "left": null,
            "margin": null,
            "max_height": null,
            "max_width": null,
            "min_height": null,
            "min_width": null,
            "object_fit": null,
            "object_position": null,
            "order": null,
            "overflow": null,
            "overflow_x": null,
            "overflow_y": null,
            "padding": null,
            "right": null,
            "top": null,
            "visibility": null,
            "width": null
          }
        },
        "b099f12ba6734f3aa2839a8741148122": {
          "model_module": "@jupyter-widgets/base",
          "model_name": "LayoutModel",
          "model_module_version": "1.2.0",
          "state": {
            "_model_module": "@jupyter-widgets/base",
            "_model_module_version": "1.2.0",
            "_model_name": "LayoutModel",
            "_view_count": null,
            "_view_module": "@jupyter-widgets/base",
            "_view_module_version": "1.2.0",
            "_view_name": "LayoutView",
            "align_content": null,
            "align_items": null,
            "align_self": null,
            "border": null,
            "bottom": null,
            "display": null,
            "flex": null,
            "flex_flow": null,
            "grid_area": null,
            "grid_auto_columns": null,
            "grid_auto_flow": null,
            "grid_auto_rows": null,
            "grid_column": null,
            "grid_gap": null,
            "grid_row": null,
            "grid_template_areas": null,
            "grid_template_columns": null,
            "grid_template_rows": null,
            "height": null,
            "justify_content": null,
            "justify_items": null,
            "left": null,
            "margin": null,
            "max_height": null,
            "max_width": null,
            "min_height": null,
            "min_width": null,
            "object_fit": null,
            "object_position": null,
            "order": null,
            "overflow": null,
            "overflow_x": null,
            "overflow_y": null,
            "padding": null,
            "right": null,
            "top": null,
            "visibility": null,
            "width": null
          }
        },
        "79a53cd458a9482b85288ff89ef5046d": {
          "model_module": "@jupyter-widgets/controls",
          "model_name": "DescriptionStyleModel",
          "model_module_version": "1.5.0",
          "state": {
            "_model_module": "@jupyter-widgets/controls",
            "_model_module_version": "1.5.0",
            "_model_name": "DescriptionStyleModel",
            "_view_count": null,
            "_view_module": "@jupyter-widgets/base",
            "_view_module_version": "1.2.0",
            "_view_name": "StyleView",
            "description_width": ""
          }
        },
        "b9ef899be960449c9557404d76a5196d": {
          "model_module": "@jupyter-widgets/base",
          "model_name": "LayoutModel",
          "model_module_version": "1.2.0",
          "state": {
            "_model_module": "@jupyter-widgets/base",
            "_model_module_version": "1.2.0",
            "_model_name": "LayoutModel",
            "_view_count": null,
            "_view_module": "@jupyter-widgets/base",
            "_view_module_version": "1.2.0",
            "_view_name": "LayoutView",
            "align_content": null,
            "align_items": null,
            "align_self": null,
            "border": null,
            "bottom": null,
            "display": null,
            "flex": null,
            "flex_flow": null,
            "grid_area": null,
            "grid_auto_columns": null,
            "grid_auto_flow": null,
            "grid_auto_rows": null,
            "grid_column": null,
            "grid_gap": null,
            "grid_row": null,
            "grid_template_areas": null,
            "grid_template_columns": null,
            "grid_template_rows": null,
            "height": null,
            "justify_content": null,
            "justify_items": null,
            "left": null,
            "margin": null,
            "max_height": null,
            "max_width": null,
            "min_height": null,
            "min_width": null,
            "object_fit": null,
            "object_position": null,
            "order": null,
            "overflow": null,
            "overflow_x": null,
            "overflow_y": null,
            "padding": null,
            "right": null,
            "top": null,
            "visibility": null,
            "width": null
          }
        },
        "76554168a92640e3a2bce4db2497ec68": {
          "model_module": "@jupyter-widgets/controls",
          "model_name": "ProgressStyleModel",
          "model_module_version": "1.5.0",
          "state": {
            "_model_module": "@jupyter-widgets/controls",
            "_model_module_version": "1.5.0",
            "_model_name": "ProgressStyleModel",
            "_view_count": null,
            "_view_module": "@jupyter-widgets/base",
            "_view_module_version": "1.2.0",
            "_view_name": "StyleView",
            "bar_color": null,
            "description_width": ""
          }
        },
        "f5854e12a95440d2bbeeb9e1cfc8f4eb": {
          "model_module": "@jupyter-widgets/base",
          "model_name": "LayoutModel",
          "model_module_version": "1.2.0",
          "state": {
            "_model_module": "@jupyter-widgets/base",
            "_model_module_version": "1.2.0",
            "_model_name": "LayoutModel",
            "_view_count": null,
            "_view_module": "@jupyter-widgets/base",
            "_view_module_version": "1.2.0",
            "_view_name": "LayoutView",
            "align_content": null,
            "align_items": null,
            "align_self": null,
            "border": null,
            "bottom": null,
            "display": null,
            "flex": null,
            "flex_flow": null,
            "grid_area": null,
            "grid_auto_columns": null,
            "grid_auto_flow": null,
            "grid_auto_rows": null,
            "grid_column": null,
            "grid_gap": null,
            "grid_row": null,
            "grid_template_areas": null,
            "grid_template_columns": null,
            "grid_template_rows": null,
            "height": null,
            "justify_content": null,
            "justify_items": null,
            "left": null,
            "margin": null,
            "max_height": null,
            "max_width": null,
            "min_height": null,
            "min_width": null,
            "object_fit": null,
            "object_position": null,
            "order": null,
            "overflow": null,
            "overflow_x": null,
            "overflow_y": null,
            "padding": null,
            "right": null,
            "top": null,
            "visibility": null,
            "width": null
          }
        },
        "0b92b1d7b5a9487598a4d2bf40a7eb28": {
          "model_module": "@jupyter-widgets/controls",
          "model_name": "DescriptionStyleModel",
          "model_module_version": "1.5.0",
          "state": {
            "_model_module": "@jupyter-widgets/controls",
            "_model_module_version": "1.5.0",
            "_model_name": "DescriptionStyleModel",
            "_view_count": null,
            "_view_module": "@jupyter-widgets/base",
            "_view_module_version": "1.2.0",
            "_view_name": "StyleView",
            "description_width": ""
          }
        },
        "7c06714fa9bb4de1af5ae291e9dd151b": {
          "model_module": "@jupyter-widgets/controls",
          "model_name": "HBoxModel",
          "model_module_version": "1.5.0",
          "state": {
            "_dom_classes": [],
            "_model_module": "@jupyter-widgets/controls",
            "_model_module_version": "1.5.0",
            "_model_name": "HBoxModel",
            "_view_count": null,
            "_view_module": "@jupyter-widgets/controls",
            "_view_module_version": "1.5.0",
            "_view_name": "HBoxView",
            "box_style": "",
            "children": [
              "IPY_MODEL_5c7a4e5d15514fbdb3588f83fa7dd485",
              "IPY_MODEL_cdb18d38db0f4a9f9bfa9566aa78d1e0",
              "IPY_MODEL_82c3a1ecdf6b45aa8b582a4c587b469f"
            ],
            "layout": "IPY_MODEL_755d29a4ac4f48f583b564e20b1a70bb"
          }
        },
        "5c7a4e5d15514fbdb3588f83fa7dd485": {
          "model_module": "@jupyter-widgets/controls",
          "model_name": "HTMLModel",
          "model_module_version": "1.5.0",
          "state": {
            "_dom_classes": [],
            "_model_module": "@jupyter-widgets/controls",
            "_model_module_version": "1.5.0",
            "_model_name": "HTMLModel",
            "_view_count": null,
            "_view_module": "@jupyter-widgets/controls",
            "_view_module_version": "1.5.0",
            "_view_name": "HTMLView",
            "description": "",
            "description_tooltip": null,
            "layout": "IPY_MODEL_71f9aee57e1a485f8f348d310a134aa9",
            "placeholder": "​",
            "style": "IPY_MODEL_3f87496ed67744a7bbaa27aa53bcfc09",
            "value": "Map: 100%"
          }
        },
        "cdb18d38db0f4a9f9bfa9566aa78d1e0": {
          "model_module": "@jupyter-widgets/controls",
          "model_name": "FloatProgressModel",
          "model_module_version": "1.5.0",
          "state": {
            "_dom_classes": [],
            "_model_module": "@jupyter-widgets/controls",
            "_model_module_version": "1.5.0",
            "_model_name": "FloatProgressModel",
            "_view_count": null,
            "_view_module": "@jupyter-widgets/controls",
            "_view_module_version": "1.5.0",
            "_view_name": "ProgressView",
            "bar_style": "success",
            "description": "",
            "description_tooltip": null,
            "layout": "IPY_MODEL_3df9ff0681d14164921cff30f297025a",
            "max": 8392,
            "min": 0,
            "orientation": "horizontal",
            "style": "IPY_MODEL_efc8730092a64f8aa8424406e150bdc0",
            "value": 8392
          }
        },
        "82c3a1ecdf6b45aa8b582a4c587b469f": {
          "model_module": "@jupyter-widgets/controls",
          "model_name": "HTMLModel",
          "model_module_version": "1.5.0",
          "state": {
            "_dom_classes": [],
            "_model_module": "@jupyter-widgets/controls",
            "_model_module_version": "1.5.0",
            "_model_name": "HTMLModel",
            "_view_count": null,
            "_view_module": "@jupyter-widgets/controls",
            "_view_module_version": "1.5.0",
            "_view_name": "HTMLView",
            "description": "",
            "description_tooltip": null,
            "layout": "IPY_MODEL_7d1fc8398b374006a9b81fa7a4685ab5",
            "placeholder": "​",
            "style": "IPY_MODEL_e08e2bde97cb4fec8b588c2a53acc94a",
            "value": " 8392/8392 [00:02&lt;00:00, 3251.29 examples/s]"
          }
        },
        "755d29a4ac4f48f583b564e20b1a70bb": {
          "model_module": "@jupyter-widgets/base",
          "model_name": "LayoutModel",
          "model_module_version": "1.2.0",
          "state": {
            "_model_module": "@jupyter-widgets/base",
            "_model_module_version": "1.2.0",
            "_model_name": "LayoutModel",
            "_view_count": null,
            "_view_module": "@jupyter-widgets/base",
            "_view_module_version": "1.2.0",
            "_view_name": "LayoutView",
            "align_content": null,
            "align_items": null,
            "align_self": null,
            "border": null,
            "bottom": null,
            "display": null,
            "flex": null,
            "flex_flow": null,
            "grid_area": null,
            "grid_auto_columns": null,
            "grid_auto_flow": null,
            "grid_auto_rows": null,
            "grid_column": null,
            "grid_gap": null,
            "grid_row": null,
            "grid_template_areas": null,
            "grid_template_columns": null,
            "grid_template_rows": null,
            "height": null,
            "justify_content": null,
            "justify_items": null,
            "left": null,
            "margin": null,
            "max_height": null,
            "max_width": null,
            "min_height": null,
            "min_width": null,
            "object_fit": null,
            "object_position": null,
            "order": null,
            "overflow": null,
            "overflow_x": null,
            "overflow_y": null,
            "padding": null,
            "right": null,
            "top": null,
            "visibility": null,
            "width": null
          }
        },
        "71f9aee57e1a485f8f348d310a134aa9": {
          "model_module": "@jupyter-widgets/base",
          "model_name": "LayoutModel",
          "model_module_version": "1.2.0",
          "state": {
            "_model_module": "@jupyter-widgets/base",
            "_model_module_version": "1.2.0",
            "_model_name": "LayoutModel",
            "_view_count": null,
            "_view_module": "@jupyter-widgets/base",
            "_view_module_version": "1.2.0",
            "_view_name": "LayoutView",
            "align_content": null,
            "align_items": null,
            "align_self": null,
            "border": null,
            "bottom": null,
            "display": null,
            "flex": null,
            "flex_flow": null,
            "grid_area": null,
            "grid_auto_columns": null,
            "grid_auto_flow": null,
            "grid_auto_rows": null,
            "grid_column": null,
            "grid_gap": null,
            "grid_row": null,
            "grid_template_areas": null,
            "grid_template_columns": null,
            "grid_template_rows": null,
            "height": null,
            "justify_content": null,
            "justify_items": null,
            "left": null,
            "margin": null,
            "max_height": null,
            "max_width": null,
            "min_height": null,
            "min_width": null,
            "object_fit": null,
            "object_position": null,
            "order": null,
            "overflow": null,
            "overflow_x": null,
            "overflow_y": null,
            "padding": null,
            "right": null,
            "top": null,
            "visibility": null,
            "width": null
          }
        },
        "3f87496ed67744a7bbaa27aa53bcfc09": {
          "model_module": "@jupyter-widgets/controls",
          "model_name": "DescriptionStyleModel",
          "model_module_version": "1.5.0",
          "state": {
            "_model_module": "@jupyter-widgets/controls",
            "_model_module_version": "1.5.0",
            "_model_name": "DescriptionStyleModel",
            "_view_count": null,
            "_view_module": "@jupyter-widgets/base",
            "_view_module_version": "1.2.0",
            "_view_name": "StyleView",
            "description_width": ""
          }
        },
        "3df9ff0681d14164921cff30f297025a": {
          "model_module": "@jupyter-widgets/base",
          "model_name": "LayoutModel",
          "model_module_version": "1.2.0",
          "state": {
            "_model_module": "@jupyter-widgets/base",
            "_model_module_version": "1.2.0",
            "_model_name": "LayoutModel",
            "_view_count": null,
            "_view_module": "@jupyter-widgets/base",
            "_view_module_version": "1.2.0",
            "_view_name": "LayoutView",
            "align_content": null,
            "align_items": null,
            "align_self": null,
            "border": null,
            "bottom": null,
            "display": null,
            "flex": null,
            "flex_flow": null,
            "grid_area": null,
            "grid_auto_columns": null,
            "grid_auto_flow": null,
            "grid_auto_rows": null,
            "grid_column": null,
            "grid_gap": null,
            "grid_row": null,
            "grid_template_areas": null,
            "grid_template_columns": null,
            "grid_template_rows": null,
            "height": null,
            "justify_content": null,
            "justify_items": null,
            "left": null,
            "margin": null,
            "max_height": null,
            "max_width": null,
            "min_height": null,
            "min_width": null,
            "object_fit": null,
            "object_position": null,
            "order": null,
            "overflow": null,
            "overflow_x": null,
            "overflow_y": null,
            "padding": null,
            "right": null,
            "top": null,
            "visibility": null,
            "width": null
          }
        },
        "efc8730092a64f8aa8424406e150bdc0": {
          "model_module": "@jupyter-widgets/controls",
          "model_name": "ProgressStyleModel",
          "model_module_version": "1.5.0",
          "state": {
            "_model_module": "@jupyter-widgets/controls",
            "_model_module_version": "1.5.0",
            "_model_name": "ProgressStyleModel",
            "_view_count": null,
            "_view_module": "@jupyter-widgets/base",
            "_view_module_version": "1.2.0",
            "_view_name": "StyleView",
            "bar_color": null,
            "description_width": ""
          }
        },
        "7d1fc8398b374006a9b81fa7a4685ab5": {
          "model_module": "@jupyter-widgets/base",
          "model_name": "LayoutModel",
          "model_module_version": "1.2.0",
          "state": {
            "_model_module": "@jupyter-widgets/base",
            "_model_module_version": "1.2.0",
            "_model_name": "LayoutModel",
            "_view_count": null,
            "_view_module": "@jupyter-widgets/base",
            "_view_module_version": "1.2.0",
            "_view_name": "LayoutView",
            "align_content": null,
            "align_items": null,
            "align_self": null,
            "border": null,
            "bottom": null,
            "display": null,
            "flex": null,
            "flex_flow": null,
            "grid_area": null,
            "grid_auto_columns": null,
            "grid_auto_flow": null,
            "grid_auto_rows": null,
            "grid_column": null,
            "grid_gap": null,
            "grid_row": null,
            "grid_template_areas": null,
            "grid_template_columns": null,
            "grid_template_rows": null,
            "height": null,
            "justify_content": null,
            "justify_items": null,
            "left": null,
            "margin": null,
            "max_height": null,
            "max_width": null,
            "min_height": null,
            "min_width": null,
            "object_fit": null,
            "object_position": null,
            "order": null,
            "overflow": null,
            "overflow_x": null,
            "overflow_y": null,
            "padding": null,
            "right": null,
            "top": null,
            "visibility": null,
            "width": null
          }
        },
        "e08e2bde97cb4fec8b588c2a53acc94a": {
          "model_module": "@jupyter-widgets/controls",
          "model_name": "DescriptionStyleModel",
          "model_module_version": "1.5.0",
          "state": {
            "_model_module": "@jupyter-widgets/controls",
            "_model_module_version": "1.5.0",
            "_model_name": "DescriptionStyleModel",
            "_view_count": null,
            "_view_module": "@jupyter-widgets/base",
            "_view_module_version": "1.2.0",
            "_view_name": "StyleView",
            "description_width": ""
          }
        }
      }
    }
  },
  "nbformat": 4,
  "nbformat_minor": 5
}